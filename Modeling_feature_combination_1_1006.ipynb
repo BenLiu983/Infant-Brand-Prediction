{
  "nbformat": 4,
  "nbformat_minor": 0,
  "metadata": {
    "colab": {
      "name": "Modeling (feature combonation 1) 1006.ipynb",
      "provenance": [],
      "collapsed_sections": [],
      "authorship_tag": "ABX9TyPGDbAcnBwW3EL3rcld63q2",
      "include_colab_link": true
    },
    "kernelspec": {
      "name": "python3",
      "display_name": "Python 3"
    },
    "language_info": {
      "name": "python"
    }
  },
  "cells": [
    {
      "cell_type": "markdown",
      "metadata": {
        "id": "view-in-github",
        "colab_type": "text"
      },
      "source": [
        "<a href=\"https://colab.research.google.com/github/BenLiu983/Infant-Brand-Prediction/blob/Modeling/Modeling_(feature_combonation_1)_1006.ipynb\" target=\"_parent\"><img src=\"https://colab.research.google.com/assets/colab-badge.svg\" alt=\"Open In Colab\"/></a>"
      ]
    },
    {
      "cell_type": "code",
      "metadata": {
        "colab": {
          "base_uri": "https://localhost:8080/"
        },
        "id": "GNIqumYpCqls",
        "outputId": "470cc752-85e7-4e44-8f0e-e52972601115"
      },
      "source": [
        "from google.colab import drive\n",
        "drive.mount('/content/drive')"
      ],
      "execution_count": 1,
      "outputs": [
        {
          "output_type": "stream",
          "name": "stdout",
          "text": [
            "Drive already mounted at /content/drive; to attempt to forcibly remount, call drive.mount(\"/content/drive\", force_remount=True).\n"
          ]
        }
      ]
    },
    {
      "cell_type": "code",
      "metadata": {
        "id": "gP0OcHlSCXOu"
      },
      "source": [
        "import pandas as pd\n",
        "import numpy as np\n",
        "import seaborn as sns \n",
        "from sklearn.neighbors import KNeighborsClassifier\n",
        "from sklearn.model_selection import train_test_split\n",
        "from sklearn.linear_model import LogisticRegression\n",
        "from sklearn import tree\n",
        "from sklearn import metrics\n",
        "from sklearn.metrics import roc_curve, roc_auc_score\n",
        "from sklearn.metrics import classification_report, confusion_matrix\n",
        "from sklearn import svm\n",
        "from sklearn.preprocessing import MinMaxScaler\n",
        "from sklearn.model_selection import cross_val_score\n",
        "from sklearn.model_selection import cross_val_predict\n",
        "from sklearn.metrics import mean_squared_error, r2_score\n",
        "from sklearn.metrics import classification_report, confusion_matrix\n",
        "from sklearn.tree import DecisionTreeClassifier\n",
        "import matplotlib.pyplot as plt\n",
        "from lightgbm import LGBMClassifier\n",
        "from lightgbm import plot_importance\n",
        "from sklearn.model_selection import RandomizedSearchCV\n",
        "from sklearn.model_selection import GridSearchCV\n",
        "import tensorflow as tf\n",
        "import warnings\n",
        "warnings.filterwarnings(\"ignore\", category=FutureWarning)\n",
        "sns.set(font_scale=1.2)\n",
        "sns.set_style(\"whitegrid\")"
      ],
      "execution_count": 2,
      "outputs": []
    },
    {
      "cell_type": "code",
      "metadata": {
        "colab": {
          "base_uri": "https://localhost:8080/",
          "height": 419
        },
        "id": "oUq4aysbCaOf",
        "outputId": "8ff576b0-e46d-41ee-af29-044cac4e94f7"
      },
      "source": [
        "# load the dataset\n",
        "df1 = pd.read_csv('/content/drive/MyDrive/colab_new_202109/predict_infant_brand/current_infant_brand_clean.csv')\n",
        "df1"
      ],
      "execution_count": 3,
      "outputs": [
        {
          "output_type": "execute_result",
          "data": {
            "text/html": [
              "<div>\n",
              "<style scoped>\n",
              "    .dataframe tbody tr th:only-of-type {\n",
              "        vertical-align: middle;\n",
              "    }\n",
              "\n",
              "    .dataframe tbody tr th {\n",
              "        vertical-align: top;\n",
              "    }\n",
              "\n",
              "    .dataframe thead th {\n",
              "        text-align: right;\n",
              "    }\n",
              "</style>\n",
              "<table border=\"1\" class=\"dataframe\">\n",
              "  <thead>\n",
              "    <tr style=\"text-align: right;\">\n",
              "      <th></th>\n",
              "      <th>cur_brand</th>\n",
              "      <th>first_buy_brand</th>\n",
              "      <th>babyage</th>\n",
              "      <th>ZONE</th>\n",
              "      <th>breastfeed</th>\n",
              "      <th>enroll_type2</th>\n",
              "      <th>enroll_age</th>\n",
              "      <th>open_rate0</th>\n",
              "      <th>click_rate0</th>\n",
              "      <th>redem_rate0</th>\n",
              "    </tr>\n",
              "  </thead>\n",
              "  <tbody>\n",
              "    <tr>\n",
              "      <th>0</th>\n",
              "      <td>0</td>\n",
              "      <td>0</td>\n",
              "      <td>120</td>\n",
              "      <td>1</td>\n",
              "      <td>0</td>\n",
              "      <td>1</td>\n",
              "      <td>-247</td>\n",
              "      <td>0.000000</td>\n",
              "      <td>0.000000</td>\n",
              "      <td>0.000000</td>\n",
              "    </tr>\n",
              "    <tr>\n",
              "      <th>1</th>\n",
              "      <td>1</td>\n",
              "      <td>1</td>\n",
              "      <td>150</td>\n",
              "      <td>1</td>\n",
              "      <td>1</td>\n",
              "      <td>1</td>\n",
              "      <td>-169</td>\n",
              "      <td>0.052632</td>\n",
              "      <td>0.000000</td>\n",
              "      <td>0.600000</td>\n",
              "    </tr>\n",
              "    <tr>\n",
              "      <th>2</th>\n",
              "      <td>0</td>\n",
              "      <td>0</td>\n",
              "      <td>330</td>\n",
              "      <td>1</td>\n",
              "      <td>1</td>\n",
              "      <td>1</td>\n",
              "      <td>-64</td>\n",
              "      <td>0.714286</td>\n",
              "      <td>0.285714</td>\n",
              "      <td>0.000000</td>\n",
              "    </tr>\n",
              "    <tr>\n",
              "      <th>3</th>\n",
              "      <td>1</td>\n",
              "      <td>1</td>\n",
              "      <td>60</td>\n",
              "      <td>1</td>\n",
              "      <td>1</td>\n",
              "      <td>0</td>\n",
              "      <td>-31</td>\n",
              "      <td>0.911765</td>\n",
              "      <td>0.205882</td>\n",
              "      <td>0.666667</td>\n",
              "    </tr>\n",
              "    <tr>\n",
              "      <th>4</th>\n",
              "      <td>1</td>\n",
              "      <td>1</td>\n",
              "      <td>30</td>\n",
              "      <td>1</td>\n",
              "      <td>0</td>\n",
              "      <td>1</td>\n",
              "      <td>9</td>\n",
              "      <td>0.250000</td>\n",
              "      <td>0.071429</td>\n",
              "      <td>0.250000</td>\n",
              "    </tr>\n",
              "    <tr>\n",
              "      <th>...</th>\n",
              "      <td>...</td>\n",
              "      <td>...</td>\n",
              "      <td>...</td>\n",
              "      <td>...</td>\n",
              "      <td>...</td>\n",
              "      <td>...</td>\n",
              "      <td>...</td>\n",
              "      <td>...</td>\n",
              "      <td>...</td>\n",
              "      <td>...</td>\n",
              "    </tr>\n",
              "    <tr>\n",
              "      <th>12888</th>\n",
              "      <td>1</td>\n",
              "      <td>0</td>\n",
              "      <td>180</td>\n",
              "      <td>0</td>\n",
              "      <td>1</td>\n",
              "      <td>1</td>\n",
              "      <td>-39</td>\n",
              "      <td>0.289474</td>\n",
              "      <td>0.105263</td>\n",
              "      <td>0.000000</td>\n",
              "    </tr>\n",
              "    <tr>\n",
              "      <th>12889</th>\n",
              "      <td>1</td>\n",
              "      <td>1</td>\n",
              "      <td>0</td>\n",
              "      <td>1</td>\n",
              "      <td>1</td>\n",
              "      <td>0</td>\n",
              "      <td>-241</td>\n",
              "      <td>0.782609</td>\n",
              "      <td>0.043478</td>\n",
              "      <td>0.500000</td>\n",
              "    </tr>\n",
              "    <tr>\n",
              "      <th>12890</th>\n",
              "      <td>1</td>\n",
              "      <td>0</td>\n",
              "      <td>30</td>\n",
              "      <td>1</td>\n",
              "      <td>1</td>\n",
              "      <td>1</td>\n",
              "      <td>-128</td>\n",
              "      <td>0.271186</td>\n",
              "      <td>0.050847</td>\n",
              "      <td>0.500000</td>\n",
              "    </tr>\n",
              "    <tr>\n",
              "      <th>12891</th>\n",
              "      <td>1</td>\n",
              "      <td>1</td>\n",
              "      <td>30</td>\n",
              "      <td>1</td>\n",
              "      <td>1</td>\n",
              "      <td>1</td>\n",
              "      <td>-37</td>\n",
              "      <td>0.210526</td>\n",
              "      <td>0.078947</td>\n",
              "      <td>0.000000</td>\n",
              "    </tr>\n",
              "    <tr>\n",
              "      <th>12892</th>\n",
              "      <td>1</td>\n",
              "      <td>1</td>\n",
              "      <td>90</td>\n",
              "      <td>1</td>\n",
              "      <td>1</td>\n",
              "      <td>0</td>\n",
              "      <td>-213</td>\n",
              "      <td>0.441176</td>\n",
              "      <td>0.058824</td>\n",
              "      <td>0.500000</td>\n",
              "    </tr>\n",
              "  </tbody>\n",
              "</table>\n",
              "<p>12893 rows × 10 columns</p>\n",
              "</div>"
            ],
            "text/plain": [
              "       cur_brand  first_buy_brand  ...  click_rate0  redem_rate0\n",
              "0              0                0  ...     0.000000     0.000000\n",
              "1              1                1  ...     0.000000     0.600000\n",
              "2              0                0  ...     0.285714     0.000000\n",
              "3              1                1  ...     0.205882     0.666667\n",
              "4              1                1  ...     0.071429     0.250000\n",
              "...          ...              ...  ...          ...          ...\n",
              "12888          1                0  ...     0.105263     0.000000\n",
              "12889          1                1  ...     0.043478     0.500000\n",
              "12890          1                0  ...     0.050847     0.500000\n",
              "12891          1                1  ...     0.078947     0.000000\n",
              "12892          1                1  ...     0.058824     0.500000\n",
              "\n",
              "[12893 rows x 10 columns]"
            ]
          },
          "metadata": {},
          "execution_count": 3
        }
      ]
    },
    {
      "cell_type": "code",
      "metadata": {
        "colab": {
          "base_uri": "https://localhost:8080/",
          "height": 561
        },
        "id": "5NjiTRGfC5xa",
        "outputId": "25e71c1b-c747-4a8f-94c4-5a921547491b"
      },
      "source": [
        "#scale the data\n",
        "scaler = MinMaxScaler()\n",
        "print(scaler.fit(df1))\n",
        "print(scaler.transform(df1))\n",
        "df2 = pd.DataFrame(scaler.transform(df1))\n",
        "df2.columns = df1.columns\n",
        "df2"
      ],
      "execution_count": 4,
      "outputs": [
        {
          "output_type": "stream",
          "name": "stdout",
          "text": [
            "MinMaxScaler(copy=True, feature_range=(0, 1))\n",
            "[[0.         0.         0.33333333 ... 0.         0.         0.        ]\n",
            " [1.         1.         0.41666667 ... 0.05263158 0.         0.6       ]\n",
            " [0.         0.         0.91666667 ... 0.71428571 0.28571429 0.        ]\n",
            " ...\n",
            " [1.         0.         0.08333333 ... 0.27118644 0.05084746 0.5       ]\n",
            " [1.         1.         0.08333333 ... 0.21052632 0.07894737 0.        ]\n",
            " [1.         1.         0.25       ... 0.44117647 0.05882353 0.5       ]]\n"
          ]
        },
        {
          "output_type": "execute_result",
          "data": {
            "text/html": [
              "<div>\n",
              "<style scoped>\n",
              "    .dataframe tbody tr th:only-of-type {\n",
              "        vertical-align: middle;\n",
              "    }\n",
              "\n",
              "    .dataframe tbody tr th {\n",
              "        vertical-align: top;\n",
              "    }\n",
              "\n",
              "    .dataframe thead th {\n",
              "        text-align: right;\n",
              "    }\n",
              "</style>\n",
              "<table border=\"1\" class=\"dataframe\">\n",
              "  <thead>\n",
              "    <tr style=\"text-align: right;\">\n",
              "      <th></th>\n",
              "      <th>cur_brand</th>\n",
              "      <th>first_buy_brand</th>\n",
              "      <th>babyage</th>\n",
              "      <th>ZONE</th>\n",
              "      <th>breastfeed</th>\n",
              "      <th>enroll_type2</th>\n",
              "      <th>enroll_age</th>\n",
              "      <th>open_rate0</th>\n",
              "      <th>click_rate0</th>\n",
              "      <th>redem_rate0</th>\n",
              "    </tr>\n",
              "  </thead>\n",
              "  <tbody>\n",
              "    <tr>\n",
              "      <th>0</th>\n",
              "      <td>0.0</td>\n",
              "      <td>0.0</td>\n",
              "      <td>0.333333</td>\n",
              "      <td>1.0</td>\n",
              "      <td>0.0</td>\n",
              "      <td>1.0</td>\n",
              "      <td>0.487926</td>\n",
              "      <td>0.000000</td>\n",
              "      <td>0.000000</td>\n",
              "      <td>0.000000</td>\n",
              "    </tr>\n",
              "    <tr>\n",
              "      <th>1</th>\n",
              "      <td>1.0</td>\n",
              "      <td>1.0</td>\n",
              "      <td>0.416667</td>\n",
              "      <td>1.0</td>\n",
              "      <td>1.0</td>\n",
              "      <td>1.0</td>\n",
              "      <td>0.496372</td>\n",
              "      <td>0.052632</td>\n",
              "      <td>0.000000</td>\n",
              "      <td>0.600000</td>\n",
              "    </tr>\n",
              "    <tr>\n",
              "      <th>2</th>\n",
              "      <td>0.0</td>\n",
              "      <td>0.0</td>\n",
              "      <td>0.916667</td>\n",
              "      <td>1.0</td>\n",
              "      <td>1.0</td>\n",
              "      <td>1.0</td>\n",
              "      <td>0.507742</td>\n",
              "      <td>0.714286</td>\n",
              "      <td>0.285714</td>\n",
              "      <td>0.000000</td>\n",
              "    </tr>\n",
              "    <tr>\n",
              "      <th>3</th>\n",
              "      <td>1.0</td>\n",
              "      <td>1.0</td>\n",
              "      <td>0.166667</td>\n",
              "      <td>1.0</td>\n",
              "      <td>1.0</td>\n",
              "      <td>0.0</td>\n",
              "      <td>0.511316</td>\n",
              "      <td>0.911765</td>\n",
              "      <td>0.205882</td>\n",
              "      <td>0.666667</td>\n",
              "    </tr>\n",
              "    <tr>\n",
              "      <th>4</th>\n",
              "      <td>1.0</td>\n",
              "      <td>1.0</td>\n",
              "      <td>0.083333</td>\n",
              "      <td>1.0</td>\n",
              "      <td>0.0</td>\n",
              "      <td>1.0</td>\n",
              "      <td>0.515647</td>\n",
              "      <td>0.250000</td>\n",
              "      <td>0.071429</td>\n",
              "      <td>0.250000</td>\n",
              "    </tr>\n",
              "    <tr>\n",
              "      <th>...</th>\n",
              "      <td>...</td>\n",
              "      <td>...</td>\n",
              "      <td>...</td>\n",
              "      <td>...</td>\n",
              "      <td>...</td>\n",
              "      <td>...</td>\n",
              "      <td>...</td>\n",
              "      <td>...</td>\n",
              "      <td>...</td>\n",
              "      <td>...</td>\n",
              "    </tr>\n",
              "    <tr>\n",
              "      <th>12888</th>\n",
              "      <td>1.0</td>\n",
              "      <td>0.0</td>\n",
              "      <td>0.500000</td>\n",
              "      <td>0.0</td>\n",
              "      <td>1.0</td>\n",
              "      <td>1.0</td>\n",
              "      <td>0.510449</td>\n",
              "      <td>0.289474</td>\n",
              "      <td>0.105263</td>\n",
              "      <td>0.000000</td>\n",
              "    </tr>\n",
              "    <tr>\n",
              "      <th>12889</th>\n",
              "      <td>1.0</td>\n",
              "      <td>1.0</td>\n",
              "      <td>0.000000</td>\n",
              "      <td>1.0</td>\n",
              "      <td>1.0</td>\n",
              "      <td>0.0</td>\n",
              "      <td>0.488576</td>\n",
              "      <td>0.782609</td>\n",
              "      <td>0.043478</td>\n",
              "      <td>0.500000</td>\n",
              "    </tr>\n",
              "    <tr>\n",
              "      <th>12890</th>\n",
              "      <td>1.0</td>\n",
              "      <td>0.0</td>\n",
              "      <td>0.083333</td>\n",
              "      <td>1.0</td>\n",
              "      <td>1.0</td>\n",
              "      <td>1.0</td>\n",
              "      <td>0.500812</td>\n",
              "      <td>0.271186</td>\n",
              "      <td>0.050847</td>\n",
              "      <td>0.500000</td>\n",
              "    </tr>\n",
              "    <tr>\n",
              "      <th>12891</th>\n",
              "      <td>1.0</td>\n",
              "      <td>1.0</td>\n",
              "      <td>0.083333</td>\n",
              "      <td>1.0</td>\n",
              "      <td>1.0</td>\n",
              "      <td>1.0</td>\n",
              "      <td>0.510666</td>\n",
              "      <td>0.210526</td>\n",
              "      <td>0.078947</td>\n",
              "      <td>0.000000</td>\n",
              "    </tr>\n",
              "    <tr>\n",
              "      <th>12892</th>\n",
              "      <td>1.0</td>\n",
              "      <td>1.0</td>\n",
              "      <td>0.250000</td>\n",
              "      <td>1.0</td>\n",
              "      <td>1.0</td>\n",
              "      <td>0.0</td>\n",
              "      <td>0.491608</td>\n",
              "      <td>0.441176</td>\n",
              "      <td>0.058824</td>\n",
              "      <td>0.500000</td>\n",
              "    </tr>\n",
              "  </tbody>\n",
              "</table>\n",
              "<p>12893 rows × 10 columns</p>\n",
              "</div>"
            ],
            "text/plain": [
              "       cur_brand  first_buy_brand  ...  click_rate0  redem_rate0\n",
              "0            0.0              0.0  ...     0.000000     0.000000\n",
              "1            1.0              1.0  ...     0.000000     0.600000\n",
              "2            0.0              0.0  ...     0.285714     0.000000\n",
              "3            1.0              1.0  ...     0.205882     0.666667\n",
              "4            1.0              1.0  ...     0.071429     0.250000\n",
              "...          ...              ...  ...          ...          ...\n",
              "12888        1.0              0.0  ...     0.105263     0.000000\n",
              "12889        1.0              1.0  ...     0.043478     0.500000\n",
              "12890        1.0              0.0  ...     0.050847     0.500000\n",
              "12891        1.0              1.0  ...     0.078947     0.000000\n",
              "12892        1.0              1.0  ...     0.058824     0.500000\n",
              "\n",
              "[12893 rows x 10 columns]"
            ]
          },
          "metadata": {},
          "execution_count": 4
        }
      ]
    },
    {
      "cell_type": "code",
      "metadata": {
        "id": "moNSbFJZDcCF"
      },
      "source": [
        "# train test split\n",
        "dfx = df2.drop(columns= ['cur_brand'])\n",
        "X_train, X_test, y_train, y_test = train_test_split(dfx, \n",
        "                                                   df1['cur_brand'],\n",
        "                                                    test_size = 0.2,\n",
        "                                                    stratify=df1['cur_brand'], \n",
        "                                                    random_state=0)"
      ],
      "execution_count": 5,
      "outputs": []
    },
    {
      "cell_type": "markdown",
      "metadata": {
        "id": "3DgLJQ5CEISy"
      },
      "source": [
        "## 1. Model 1 - Logistic Regression"
      ]
    },
    {
      "cell_type": "code",
      "metadata": {
        "colab": {
          "base_uri": "https://localhost:8080/"
        },
        "id": "St1vzPNCJo7c",
        "outputId": "9c0e4f28-bd7d-439d-be10-d77bbef55778"
      },
      "source": [
        "clf_lr = LogisticRegression(max_iter=1000)\n",
        "\n",
        "# cv\n",
        "scores = cross_val_score(clf_lr, X_train, y_train, scoring='r2', cv=5)\n",
        "print(scores)\n",
        "\n",
        "# make cross validated predictions\n",
        "y_pred = cross_val_predict(clf_lr, X_train, y_train, cv=5)\n",
        "\n",
        "print(r2_score(y_train, y_pred))\n",
        "print(\"%0.4f accuracy with a standard deviation of %0.2f\" % (scores.mean(), scores.std()))"
      ],
      "execution_count": 6,
      "outputs": [
        {
          "output_type": "stream",
          "name": "stdout",
          "text": [
            "[0.09830171 0.11388181 0.17620221 0.14698952 0.185594  ]\n",
            "0.1441903625637967\n",
            "0.1442 accuracy with a standard deviation of 0.03\n"
          ]
        }
      ]
    },
    {
      "cell_type": "code",
      "metadata": {
        "colab": {
          "base_uri": "https://localhost:8080/"
        },
        "id": "0QluJ_i-EYE2",
        "outputId": "afbf504a-7959-46a5-b11e-c6dbba7ae4bb"
      },
      "source": [
        "clf_lr.fit(X_train, y_train)\n",
        "# Predict \n",
        "y_pred_lr = clf_lr.predict(X_test)\n",
        "print(metrics.classification_report(y_true=y_test, y_pred=y_pred_lr))"
      ],
      "execution_count": 7,
      "outputs": [
        {
          "output_type": "stream",
          "name": "stdout",
          "text": [
            "              precision    recall  f1-score   support\n",
            "\n",
            "           0       0.87      0.74      0.80      1375\n",
            "           1       0.75      0.87      0.81      1204\n",
            "\n",
            "    accuracy                           0.80      2579\n",
            "   macro avg       0.81      0.81      0.80      2579\n",
            "weighted avg       0.81      0.80      0.80      2579\n",
            "\n"
          ]
        }
      ]
    },
    {
      "cell_type": "code",
      "metadata": {
        "colab": {
          "base_uri": "https://localhost:8080/"
        },
        "id": "eWWhhwTxEmyu",
        "outputId": "9beee826-cf29-4b4b-8319-a4534356b16e"
      },
      "source": [
        "#Get the confusion matrix\n",
        "cf_matrix = confusion_matrix(y_test, y_pred_lr)\n",
        "print(cf_matrix)"
      ],
      "execution_count": 8,
      "outputs": [
        {
          "output_type": "stream",
          "name": "stdout",
          "text": [
            "[[1018  357]\n",
            " [ 151 1053]]\n"
          ]
        }
      ]
    },
    {
      "cell_type": "code",
      "metadata": {
        "colab": {
          "base_uri": "https://localhost:8080/",
          "height": 286
        },
        "id": "Q_rH4L48EgVz",
        "outputId": "ecd52687-bc95-4bd1-8bd0-a7403a992047"
      },
      "source": [
        "group_names = ['True Neg','False Pos','False Neg','True Pos']\n",
        "group_counts = [\"{0:0.0f}\".format(value) for value in\n",
        "                cf_matrix.flatten()]\n",
        "group_percentages = [\"{0:.2%}\".format(value) for value in\n",
        "                     cf_matrix.flatten()/np.sum(cf_matrix)]\n",
        "labels = [f\"{v1}\\n{v2}\\n{v3}\" for v1, v2, v3 in\n",
        "          zip(group_names,group_counts,group_percentages)]\n",
        "labels = np.asarray(labels).reshape(2,2)\n",
        "sns.set(rc={'figure.figsize':(8,4)})\n",
        "sns.heatmap(cf_matrix, annot=labels, fmt='', cmap='Reds')"
      ],
      "execution_count": 9,
      "outputs": [
        {
          "output_type": "execute_result",
          "data": {
            "text/plain": [
              "<matplotlib.axes._subplots.AxesSubplot at 0x7f7e15022f90>"
            ]
          },
          "metadata": {},
          "execution_count": 9
        },
        {
          "output_type": "display_data",
          "data": {
            "image/png": "[encoded data removed]",
            "text/plain": [
              "<Figure size 576x288 with 2 Axes>"
            ]
          },
          "metadata": {}
        }
      ]
    },
    {
      "cell_type": "code",
      "metadata": {
        "colab": {
          "base_uri": "https://localhost:8080/",
          "height": 364
        },
        "id": "uG-3XZ0DElnW",
        "outputId": "7ede2dce-e10c-4b86-dae4-993e46e66048"
      },
      "source": [
        "importances = pd.DataFrame(data={\n",
        "    'Attribute': X_train.columns,\n",
        "    'Importance': clf_lr.coef_[0]\n",
        "})\n",
        "importances = importances.sort_values(by='Importance', ascending=False)\n",
        "\n",
        "plt.bar(x=importances['Attribute'], height=importances['Importance'], color='#FF007F')\n",
        "plt.title('Feature Importance from Coefficient', size=20)\n",
        "sns.set(rc={'figure.figsize':(8,4)})\n",
        "plt.xticks(rotation='vertical')\n",
        "plt.show()"
      ],
      "execution_count": 10,
      "outputs": [
        {
          "output_type": "display_data",
          "data": {
            "image/png": "[encoded data removed]",
            "text/plain": [
              "<Figure size 576x288 with 1 Axes>"
            ]
          },
          "metadata": {}
        }
      ]
    },
    {
      "cell_type": "code",
      "metadata": {
        "colab": {
          "base_uri": "https://localhost:8080/",
          "height": 303
        },
        "id": "oBVL4nLIFA5Q",
        "outputId": "800f5ede-8928-4f87-e701-f3804a402c8e"
      },
      "source": [
        "# drawing\n",
        "lr_probs = clf_lr.predict_proba(X_test)\n",
        " \n",
        "# keep probabilities for the positive outcome only\n",
        "lr_probs = lr_probs[:, 1]\n",
        " \n",
        "# calculate scores  Area Under Cruve\n",
        "lr_auc = roc_auc_score(y_test,lr_probs)\n",
        " \n",
        "# summarize scores\n",
        "print('Logistic: ROC AUC=%.3f' % (lr_auc))\n",
        " \n",
        "# calculate roc curves\n",
        "fpr, tpr, thresholds = roc_curve(y_test,lr_probs)\n",
        " \n",
        "# plot the roc curve for the model\n",
        "plt.plot([0, 1], [0, 1], 'k--',label='Random Predictor')  # draw diag\n",
        "plt.plot(fpr, tpr, marker='.', color='darkorange',label='Logistic') # draw ROC\n",
        "# axis labels\n",
        "plt.xlabel('False Positive Rate')\n",
        "plt.ylabel('True Positive Rate')\n",
        "# show the legend\n",
        "plt.legend()\n",
        "# show the plot\n",
        "plt.show()\n"
      ],
      "execution_count": 11,
      "outputs": [
        {
          "output_type": "stream",
          "name": "stdout",
          "text": [
            "Logistic: ROC AUC=0.837\n"
          ]
        },
        {
          "output_type": "display_data",
          "data": {
            "image/png": "[encoded data removed]",
            "text/plain": [
              "<Figure size 576x288 with 1 Axes>"
            ]
          },
          "metadata": {}
        }
      ]
    },
    {
      "cell_type": "markdown",
      "metadata": {
        "id": "UEBFozhMXL3x"
      },
      "source": [
        "## Model 1 - Logistic Model (hyperparameter tuning)"
      ]
    },
    {
      "cell_type": "code",
      "metadata": {
        "id": "KMgEeRrNXKEI"
      },
      "source": [
        "model1 = LogisticRegression()\n"
      ],
      "execution_count": 12,
      "outputs": []
    },
    {
      "cell_type": "code",
      "metadata": {
        "colab": {
          "base_uri": "https://localhost:8080/"
        },
        "id": "_MtYj_efYl_n",
        "outputId": "9dbf4df9-996f-4678-92fe-e02ea5266b9e"
      },
      "source": [
        "# Create first pipeline for base without reducing features.\n",
        "# pipe = Pipeline([('classifier' , RandomForestClassifier())])\n",
        "# pipe = Pipeline([('classifier', RandomForestClassifier())])\n",
        "# Create param grid.\n",
        "\n",
        "model1 = LogisticRegression()\n",
        "\n",
        "param_grid = {\n",
        "    'C': [0.001, 0.01, 0.1, 1, 10, 100, 1000],\n",
        "    'penalty': ['l1', 'l2'],\n",
        "    'max_iter': list(range(100,800,100)),\n",
        "    'solver': ['newton-cg', 'lbfgs', 'liblinear', 'sag', 'saga']\n",
        "}\n",
        "\n",
        "clf_lr = GridSearchCV(model1, param_grid = param_grid, cv = 5, verbose=True, n_jobs=-1)\n",
        "\n",
        "# Fit on data\n",
        "\n",
        "clf_lr.fit(X_train, y_train)\n",
        "\n",
        "clf_lr.best_params_"
      ],
      "execution_count": 13,
      "outputs": [
        {
          "output_type": "stream",
          "name": "stdout",
          "text": [
            "Fitting 5 folds for each of 490 candidates, totalling 2450 fits\n"
          ]
        },
        {
          "output_type": "stream",
          "name": "stderr",
          "text": [
            "[Parallel(n_jobs=-1)]: Using backend LokyBackend with 2 concurrent workers.\n",
            "[Parallel(n_jobs=-1)]: Done 162 tasks      | elapsed:    3.7s\n",
            "[Parallel(n_jobs=-1)]: Done 1179 tasks      | elapsed:   32.7s\n",
            "[Parallel(n_jobs=-1)]: Done 1618 tasks      | elapsed:  1.3min\n",
            "[Parallel(n_jobs=-1)]: Done 2258 tasks      | elapsed:  2.4min\n",
            "[Parallel(n_jobs=-1)]: Done 2450 out of 2450 | elapsed:  2.8min finished\n"
          ]
        },
        {
          "output_type": "execute_result",
          "data": {
            "text/plain": [
              "{'C': 0.001, 'max_iter': 100, 'penalty': 'l1', 'solver': 'liblinear'}"
            ]
          },
          "metadata": {},
          "execution_count": 13
        }
      ]
    },
    {
      "cell_type": "code",
      "metadata": {
        "colab": {
          "base_uri": "https://localhost:8080/"
        },
        "id": "8GRR1ytQaMbr",
        "outputId": "59c771b7-f1be-4452-f000-ee4675de99d9"
      },
      "source": [
        "print(clf_lr.score(X_test, y_test))"
      ],
      "execution_count": 14,
      "outputs": [
        {
          "output_type": "stream",
          "name": "stdout",
          "text": [
            "0.8034121752617294\n"
          ]
        }
      ]
    },
    {
      "cell_type": "code",
      "metadata": {
        "colab": {
          "base_uri": "https://localhost:8080/"
        },
        "id": "-g9KKpjpasdp",
        "outputId": "4dc15160-314a-4015-9605-fbb9c95486e7"
      },
      "source": [
        "clf_lr = LogisticRegression(C=0.001, max_iter= 100, penalty='l1', solver= 'liblinear')\n",
        "\n",
        "clf_lr.fit(X_train, y_train)\n",
        "# Predict \n",
        "y_pred_dt = clf_lr.predict(X_test)\n",
        "# Accuracy\n",
        "print(\"accuracy: \", metrics.accuracy_score(y_test, y_pred_dt))"
      ],
      "execution_count": 15,
      "outputs": [
        {
          "output_type": "stream",
          "name": "stdout",
          "text": [
            "accuracy:  0.8034121752617294\n"
          ]
        }
      ]
    },
    {
      "cell_type": "code",
      "metadata": {
        "colab": {
          "base_uri": "https://localhost:8080/",
          "height": 321
        },
        "id": "b3Xam-U-bVSW",
        "outputId": "379c19be-cbd2-45a0-b01f-e6fc0548fc11"
      },
      "source": [
        "#Get the confusion matrix\n",
        "cf_matrix = confusion_matrix(y_test, y_pred_lr)\n",
        "print(cf_matrix)\n",
        "\n",
        "group_names = ['True Neg','False Pos','False Neg','True Pos']\n",
        "group_counts = [\"{0:0.0f}\".format(value) for value in\n",
        "                cf_matrix.flatten()]\n",
        "group_percentages = [\"{0:.2%}\".format(value) for value in\n",
        "                     cf_matrix.flatten()/np.sum(cf_matrix)]\n",
        "labels = [f\"{v1}\\n{v2}\\n{v3}\" for v1, v2, v3 in\n",
        "          zip(group_names,group_counts,group_percentages)]\n",
        "labels = np.asarray(labels).reshape(2,2)\n",
        "sns.set(rc={'figure.figsize':(8,4)})\n",
        "sns.heatmap(cf_matrix, annot=labels, fmt='', cmap='Reds')"
      ],
      "execution_count": 16,
      "outputs": [
        {
          "output_type": "stream",
          "name": "stdout",
          "text": [
            "[[1018  357]\n",
            " [ 151 1053]]\n"
          ]
        },
        {
          "output_type": "execute_result",
          "data": {
            "text/plain": [
              "<matplotlib.axes._subplots.AxesSubplot at 0x7f7daec01e90>"
            ]
          },
          "metadata": {},
          "execution_count": 16
        },
        {
          "output_type": "display_data",
          "data": {
            "image/png": "[encoded data removed]",
            "text/plain": [
              "<Figure size 576x288 with 2 Axes>"
            ]
          },
          "metadata": {}
        }
      ]
    },
    {
      "cell_type": "markdown",
      "metadata": {
        "id": "CP0uvVDIFN31"
      },
      "source": [
        "## Model 2 - Decision Tree "
      ]
    },
    {
      "cell_type": "code",
      "metadata": {
        "colab": {
          "base_uri": "https://localhost:8080/"
        },
        "id": "oEEKTIpdFJVV",
        "outputId": "7053bfc7-2124-4cae-9da7-ceb92767a201"
      },
      "source": [
        "clf_dt = tree.DecisionTreeClassifier(max_depth =4)\n",
        "\n",
        "# cv\n",
        "scores = cross_val_score(clf_dt, X_train, y_train, scoring='r2', cv=5)\n",
        "print(scores)\n",
        "\n",
        "# make cross validated predictions\n",
        "y_pred = cross_val_predict(clf_dt, X_train, y_train, cv=5)\n",
        "\n",
        "print(r2_score(y_train, y_pred))\n",
        "print(\"%0.4f accuracy with a standard deviation of %0.2f\" % (scores.mean(), scores.std()))\n"
      ],
      "execution_count": 17,
      "outputs": [
        {
          "output_type": "stream",
          "name": "stdout",
          "text": [
            "[0.09440668 0.11777683 0.17620221 0.15283206 0.18364566]\n",
            "0.1449694336948265\n",
            "0.1450 accuracy with a standard deviation of 0.03\n"
          ]
        }
      ]
    },
    {
      "cell_type": "code",
      "metadata": {
        "colab": {
          "base_uri": "https://localhost:8080/"
        },
        "id": "yDJcARzQNSCd",
        "outputId": "03680e5e-636b-49c1-ec4e-2a8edd4808f6"
      },
      "source": [
        "clf_dt.fit(X_train, y_train)\n",
        "# Predict \n",
        "y_pred_dt = clf_dt.predict(X_test)\n",
        "# Accuracy\n",
        "print(\"accuracy: \", metrics.accuracy_score(y_test, y_pred_dt))"
      ],
      "execution_count": 18,
      "outputs": [
        {
          "output_type": "stream",
          "name": "stdout",
          "text": [
            "accuracy:  0.8030244280728964\n"
          ]
        }
      ]
    },
    {
      "cell_type": "code",
      "metadata": {
        "colab": {
          "base_uri": "https://localhost:8080/"
        },
        "id": "EwZ14WIGFeiE",
        "outputId": "d7361f8c-22c1-4160-de46-824d47de0dd5"
      },
      "source": [
        "print(metrics.classification_report(y_true=y_test, y_pred=y_pred_dt))"
      ],
      "execution_count": 19,
      "outputs": [
        {
          "output_type": "stream",
          "name": "stdout",
          "text": [
            "              precision    recall  f1-score   support\n",
            "\n",
            "           0       0.88      0.74      0.80      1375\n",
            "           1       0.74      0.88      0.81      1204\n",
            "\n",
            "    accuracy                           0.80      2579\n",
            "   macro avg       0.81      0.81      0.80      2579\n",
            "weighted avg       0.81      0.80      0.80      2579\n",
            "\n"
          ]
        }
      ]
    },
    {
      "cell_type": "code",
      "metadata": {
        "colab": {
          "base_uri": "https://localhost:8080/"
        },
        "id": "e6B7nmypFeeQ",
        "outputId": "5bc8fba7-2c52-4141-8303-d8eeccbf9ca7"
      },
      "source": [
        "#Get the confusion matrix\n",
        "cf_matrix = confusion_matrix(y_test, y_pred_dt)\n",
        "print(cf_matrix)"
      ],
      "execution_count": 20,
      "outputs": [
        {
          "output_type": "stream",
          "name": "stdout",
          "text": [
            "[[1011  364]\n",
            " [ 144 1060]]\n"
          ]
        }
      ]
    },
    {
      "cell_type": "code",
      "metadata": {
        "colab": {
          "base_uri": "https://localhost:8080/",
          "height": 286
        },
        "id": "4l2mG87oFebs",
        "outputId": "34f290b1-679a-444d-858c-2dfb8345ae5d"
      },
      "source": [
        "group_names = ['True Neg','False Pos','False Neg','True Pos']\n",
        "group_counts = [\"{0:0.0f}\".format(value) for value in\n",
        "                cf_matrix.flatten()]\n",
        "group_percentages = [\"{0:.2%}\".format(value) for value in\n",
        "                     cf_matrix.flatten()/np.sum(cf_matrix)]\n",
        "labels = [f\"{v1}\\n{v2}\\n{v3}\" for v1, v2, v3 in\n",
        "          zip(group_names,group_counts,group_percentages)]\n",
        "labels = np.asarray(labels).reshape(2,2)\n",
        "sns.set(rc={'figure.figsize':(8,4)})\n",
        "sns.heatmap(cf_matrix, annot=labels, fmt='', cmap='Reds')"
      ],
      "execution_count": 21,
      "outputs": [
        {
          "output_type": "execute_result",
          "data": {
            "text/plain": [
              "<matplotlib.axes._subplots.AxesSubplot at 0x7f7daf308990>"
            ]
          },
          "metadata": {},
          "execution_count": 21
        },
        {
          "output_type": "display_data",
          "data": {
            "image/png": "[encoded data removed]",
            "text/plain": [
              "<Figure size 576x288 with 2 Axes>"
            ]
          },
          "metadata": {}
        }
      ]
    },
    {
      "cell_type": "code",
      "metadata": {
        "colab": {
          "base_uri": "https://localhost:8080/"
        },
        "id": "r-NNbfbFFeYy",
        "outputId": "481d0dd8-ff37-4919-ba59-95b999ddc751"
      },
      "source": [
        "feat_importance = clf_dt.tree_.compute_feature_importances(normalize=False)\n",
        "feat_importance"
      ],
      "execution_count": 22,
      "outputs": [
        {
          "output_type": "execute_result",
          "data": {
            "text/plain": [
              "array([0.17140065, 0.00097062, 0.        , 0.        , 0.        ,\n",
              "       0.00439882, 0.00059302, 0.00630234, 0.00374086])"
            ]
          },
          "metadata": {},
          "execution_count": 22
        }
      ]
    },
    {
      "cell_type": "code",
      "metadata": {
        "colab": {
          "base_uri": "https://localhost:8080/",
          "height": 364
        },
        "id": "qLiNqGkoFeV9",
        "outputId": "0e4ddb15-1428-4cec-bbc4-3b2560c56ece"
      },
      "source": [
        "importances = pd.DataFrame(data={\n",
        "    'Attribute': X_train.columns,\n",
        "    'Importance': feat_importance\n",
        "})\n",
        "importances = importances.sort_values(by='Importance', ascending=False)\n",
        "\n",
        "plt.bar(x=importances['Attribute'], height=importances['Importance'], color='#FF007F')\n",
        "plt.title('Feature Importance from Coefficient', size=20)\n",
        "plt.xticks(rotation='vertical')\n",
        "sns.set(rc={'figure.figsize':(12,4)})\n",
        "plt.show()"
      ],
      "execution_count": 23,
      "outputs": [
        {
          "output_type": "display_data",
          "data": {
            "image/png": "[encoded data removed]",
            "text/plain": [
              "<Figure size 576x288 with 1 Axes>"
            ]
          },
          "metadata": {}
        }
      ]
    },
    {
      "cell_type": "markdown",
      "metadata": {
        "id": "d_mYX9rwPYZF"
      },
      "source": [
        "## Model 2 - Decision Tree (Hyperparameter Tuning)"
      ]
    },
    {
      "cell_type": "code",
      "metadata": {
        "id": "uxbNvWDzT551"
      },
      "source": [
        "model2 = DecisionTreeClassifier()"
      ],
      "execution_count": 24,
      "outputs": []
    },
    {
      "cell_type": "code",
      "metadata": {
        "id": "aSMkiXzCU9H6"
      },
      "source": [
        "parameters = {'splitter' : ['best', 'random'],\n",
        "'criterion' : ['gini', 'entropy'],\n",
        "'max_depth': [2, 4, 6, 8, 10],\n",
        "'min_samples_split': [2, 4, 6, 8, 10],\n",
        "}"
      ],
      "execution_count": 25,
      "outputs": []
    },
    {
      "cell_type": "code",
      "metadata": {
        "id": "v-Om_yugVL-M"
      },
      "source": [
        "grid_search_dt = GridSearchCV(estimator = model2,\n",
        "param_grid = parameters,\n",
        "scoring = 'accuracy',\n",
        "cv = 5,\n",
        "verbose = 1)"
      ],
      "execution_count": 26,
      "outputs": []
    },
    {
      "cell_type": "code",
      "metadata": {
        "colab": {
          "base_uri": "https://localhost:8080/"
        },
        "id": "t_ic8dSQVsTV",
        "outputId": "31d640ce-c6ab-4f93-9447-90be038117ec"
      },
      "source": [
        "grid_search_dt.fit(X_train, y_train)"
      ],
      "execution_count": 27,
      "outputs": [
        {
          "output_type": "stream",
          "name": "stdout",
          "text": [
            "Fitting 5 folds for each of 100 candidates, totalling 500 fits\n"
          ]
        },
        {
          "output_type": "stream",
          "name": "stderr",
          "text": [
            "[Parallel(n_jobs=1)]: Using backend SequentialBackend with 1 concurrent workers.\n",
            "[Parallel(n_jobs=1)]: Done 500 out of 500 | elapsed:    8.2s finished\n"
          ]
        },
        {
          "output_type": "execute_result",
          "data": {
            "text/plain": [
              "GridSearchCV(cv=5, error_score=nan,\n",
              "             estimator=DecisionTreeClassifier(ccp_alpha=0.0, class_weight=None,\n",
              "                                              criterion='gini', max_depth=None,\n",
              "                                              max_features=None,\n",
              "                                              max_leaf_nodes=None,\n",
              "                                              min_impurity_decrease=0.0,\n",
              "                                              min_impurity_split=None,\n",
              "                                              min_samples_leaf=1,\n",
              "                                              min_samples_split=2,\n",
              "                                              min_weight_fraction_leaf=0.0,\n",
              "                                              presort='deprecated',\n",
              "                                              random_state=None,\n",
              "                                              splitter='best'),\n",
              "             iid='deprecated', n_jobs=None,\n",
              "             param_grid={'criterion': ['gini', 'entropy'],\n",
              "                         'max_depth': [2, 4, 6, 8, 10],\n",
              "                         'min_samples_split': [2, 4, 6, 8, 10],\n",
              "                         'splitter': ['best', 'random']},\n",
              "             pre_dispatch='2*n_jobs', refit=True, return_train_score=False,\n",
              "             scoring='accuracy', verbose=1)"
            ]
          },
          "metadata": {},
          "execution_count": 27
        }
      ]
    },
    {
      "cell_type": "code",
      "metadata": {
        "colab": {
          "base_uri": "https://localhost:8080/"
        },
        "id": "eS7pg1K6V0l0",
        "outputId": "fdaba972-a265-4b4d-af2a-f014feaadb5c"
      },
      "source": [
        "print(grid_search_dt.best_estimator_)"
      ],
      "execution_count": 28,
      "outputs": [
        {
          "output_type": "stream",
          "name": "stdout",
          "text": [
            "DecisionTreeClassifier(ccp_alpha=0.0, class_weight=None, criterion='gini',\n",
            "                       max_depth=4, max_features=None, max_leaf_nodes=None,\n",
            "                       min_impurity_decrease=0.0, min_impurity_split=None,\n",
            "                       min_samples_leaf=1, min_samples_split=4,\n",
            "                       min_weight_fraction_leaf=0.0, presort='deprecated',\n",
            "                       random_state=None, splitter='random')\n"
          ]
        }
      ]
    },
    {
      "cell_type": "code",
      "metadata": {
        "colab": {
          "base_uri": "https://localhost:8080/"
        },
        "id": "bwaj2ikoV2AW",
        "outputId": "3f712c55-c241-4e02-8d26-517f4214a74e"
      },
      "source": [
        "print(grid_search_dt.score(X_test, y_test))"
      ],
      "execution_count": 29,
      "outputs": [
        {
          "output_type": "stream",
          "name": "stdout",
          "text": [
            "0.8034121752617294\n"
          ]
        }
      ]
    },
    {
      "cell_type": "code",
      "metadata": {
        "colab": {
          "base_uri": "https://localhost:8080/"
        },
        "id": "l7LPt59NV-ef",
        "outputId": "fa5c6028-8246-4d96-a38c-339735bf4bda"
      },
      "source": [
        "clf_dt = tree.DecisionTreeClassifier(ccp_alpha=0.0, class_weight=None, criterion='gini',\n",
        "                       max_depth=4, max_features=None, max_leaf_nodes=None,\n",
        "                       min_impurity_decrease=0.0, min_impurity_split=None,\n",
        "                       min_samples_leaf=1, min_samples_split=4,\n",
        "                       min_weight_fraction_leaf=0.0, presort='deprecated',\n",
        "                       random_state=0, splitter='random')\n",
        "\n",
        "clf_dt.fit(X_train, y_train)\n",
        "# Predict \n",
        "y_pred_dt = clf_dt.predict(X_test)\n",
        "# Accuracy\n",
        "print(\"accuracy: \", metrics.accuracy_score(y_test, y_pred_dt))"
      ],
      "execution_count": 30,
      "outputs": [
        {
          "output_type": "stream",
          "name": "stdout",
          "text": [
            "accuracy:  0.8034121752617294\n"
          ]
        }
      ]
    },
    {
      "cell_type": "code",
      "metadata": {
        "colab": {
          "base_uri": "https://localhost:8080/",
          "height": 286
        },
        "id": "e8BP3H4lWllQ",
        "outputId": "d2ecfe92-2164-4641-e62e-35d4439beab0"
      },
      "source": [
        "cf_matrix = confusion_matrix(y_test, y_pred_dt)\n",
        "group_names = ['True Neg','False Pos','False Neg','True Pos']\n",
        "group_counts = [\"{0:0.0f}\".format(value) for value in\n",
        "                cf_matrix.flatten()]\n",
        "group_percentages = [\"{0:.2%}\".format(value) for value in\n",
        "                     cf_matrix.flatten()/np.sum(cf_matrix)]\n",
        "labels = [f\"{v1}\\n{v2}\\n{v3}\" for v1, v2, v3 in\n",
        "          zip(group_names,group_counts,group_percentages)]\n",
        "labels = np.asarray(labels).reshape(2,2)\n",
        "sns.set(rc={'figure.figsize':(8,4)})\n",
        "sns.heatmap(cf_matrix, annot=labels, fmt='', cmap='Reds')"
      ],
      "execution_count": 31,
      "outputs": [
        {
          "output_type": "execute_result",
          "data": {
            "text/plain": [
              "<matplotlib.axes._subplots.AxesSubplot at 0x7f7daec435d0>"
            ]
          },
          "metadata": {},
          "execution_count": 31
        },
        {
          "output_type": "display_data",
          "data": {
            "image/png": "[encoded data removed]",
            "text/plain": [
              "<Figure size 576x288 with 2 Axes>"
            ]
          },
          "metadata": {}
        }
      ]
    },
    {
      "cell_type": "markdown",
      "metadata": {
        "id": "usFRnfB0FwTM"
      },
      "source": [
        "## Model 3 - LightGBM"
      ]
    },
    {
      "cell_type": "code",
      "metadata": {
        "colab": {
          "base_uri": "https://localhost:8080/"
        },
        "id": "Ozt_TRyJFqIM",
        "outputId": "c54a5a4e-cebd-4a65-8d42-cdde54bea4dc"
      },
      "source": [
        "lgb_clf = LGBMClassifier(n_estimators = 1000, \n",
        "                         learning_rate = 0.01)\n",
        "\n",
        "# cv\n",
        "scores = cross_val_score(lgb_clf, X_train, y_train, scoring='r2', cv=5)\n",
        "print(scores)\n",
        "\n",
        "# make cross validated predictions\n",
        "y_pred = cross_val_predict(lgb_clf, X_train, y_train, cv=5)\n",
        "\n",
        "print(r2_score(y_train, y_pred))\n",
        "print(\"%0.4f accuracy with a standard deviation of %0.2f\" % (scores.mean(), scores.std()))\n"
      ],
      "execution_count": 32,
      "outputs": [
        {
          "output_type": "stream",
          "name": "stdout",
          "text": [
            "[0.09245917 0.06324648 0.18204475 0.1430945  0.15442057]\n",
            "0.1270507976811418\n",
            "0.1271 accuracy with a standard deviation of 0.04\n"
          ]
        }
      ]
    },
    {
      "cell_type": "code",
      "metadata": {
        "id": "O86_hBZiNoh1",
        "colab": {
          "base_uri": "https://localhost:8080/"
        },
        "outputId": "81920675-d501-47cb-c553-3191bdbbc3d5"
      },
      "source": [
        "lgb_clf.fit(X_train, y_train)\n",
        "\n",
        "# Predict \n",
        "y_pred_lgb = lgb_clf.predict(X_test)\n",
        "\n",
        "# Accuracy\n",
        "print(\"accuracy: \", metrics.accuracy_score(y_test, y_pred_lgb))"
      ],
      "execution_count": 33,
      "outputs": [
        {
          "output_type": "stream",
          "name": "stdout",
          "text": [
            "accuracy:  0.7952694842962389\n"
          ]
        }
      ]
    },
    {
      "cell_type": "code",
      "metadata": {
        "colab": {
          "base_uri": "https://localhost:8080/"
        },
        "id": "rRfeY9f4GTTZ",
        "outputId": "402bc935-9768-4c1e-8601-38dcb129cccd"
      },
      "source": [
        "print(metrics.classification_report(y_true=y_test, y_pred=y_pred_lgb))"
      ],
      "execution_count": 34,
      "outputs": [
        {
          "output_type": "stream",
          "name": "stdout",
          "text": [
            "              precision    recall  f1-score   support\n",
            "\n",
            "           0       0.86      0.74      0.79      1375\n",
            "           1       0.74      0.86      0.80      1204\n",
            "\n",
            "    accuracy                           0.80      2579\n",
            "   macro avg       0.80      0.80      0.80      2579\n",
            "weighted avg       0.80      0.80      0.80      2579\n",
            "\n"
          ]
        }
      ]
    },
    {
      "cell_type": "code",
      "metadata": {
        "colab": {
          "base_uri": "https://localhost:8080/"
        },
        "id": "NyleUCnUGYOG",
        "outputId": "e29e8725-d235-444e-f4a1-f857de135657"
      },
      "source": [
        "#Get the confusion matrix\n",
        "cf_matrix = confusion_matrix(y_test, y_pred_lgb)\n",
        "print(cf_matrix)"
      ],
      "execution_count": 35,
      "outputs": [
        {
          "output_type": "stream",
          "name": "stdout",
          "text": [
            "[[1016  359]\n",
            " [ 169 1035]]\n"
          ]
        }
      ]
    },
    {
      "cell_type": "code",
      "metadata": {
        "colab": {
          "base_uri": "https://localhost:8080/",
          "height": 304
        },
        "id": "_61HSszgGcYt",
        "outputId": "61221154-69d8-4ff7-eb18-16788ffeb7e4"
      },
      "source": [
        "group_names = ['True Neg','False Pos','False Neg','True Pos']\n",
        "group_counts = [\"{0:0.0f}\".format(value) for value in\n",
        "                cf_matrix.flatten()]\n",
        "group_percentages = [\"{0:.2%}\".format(value) for value in\n",
        "                     cf_matrix.flatten()/np.sum(cf_matrix)]\n",
        "labels = [f\"{v1}\\n{v2}\\n{v3}\" for v1, v2, v3 in\n",
        "          zip(group_names,group_counts,group_percentages)]\n",
        "labels = np.asarray(labels).reshape(2,2)\n",
        "plt.figure()\n",
        "plt.figure(figsize=(8,4))\n",
        "sns.heatmap(cf_matrix, annot=labels, fmt='', cmap='Reds')"
      ],
      "execution_count": 36,
      "outputs": [
        {
          "output_type": "execute_result",
          "data": {
            "text/plain": [
              "<matplotlib.axes._subplots.AxesSubplot at 0x7f7daed76b10>"
            ]
          },
          "metadata": {},
          "execution_count": 36
        },
        {
          "output_type": "display_data",
          "data": {
            "text/plain": [
              "<Figure size 576x288 with 0 Axes>"
            ]
          },
          "metadata": {}
        },
        {
          "output_type": "display_data",
          "data": {
            "image/png": "[encoded data removed]",
            "text/plain": [
              "<Figure size 576x288 with 2 Axes>"
            ]
          },
          "metadata": {}
        }
      ]
    },
    {
      "cell_type": "code",
      "metadata": {
        "colab": {
          "base_uri": "https://localhost:8080/",
          "height": 318
        },
        "id": "rldXCXyQGfZm",
        "outputId": "3e7c8d31-8e4b-481b-dd22-c7902c8186c8"
      },
      "source": [
        "sns.set(rc={'figure.figsize':(8,4)})\n",
        "plot_importance(lgb_clf, color='r')"
      ],
      "execution_count": 37,
      "outputs": [
        {
          "output_type": "execute_result",
          "data": {
            "text/plain": [
              "<matplotlib.axes._subplots.AxesSubplot at 0x7f7dae9e3cd0>"
            ]
          },
          "metadata": {},
          "execution_count": 37
        },
        {
          "output_type": "display_data",
          "data": {
            "image/png": "[encoded data removed]",
            "text/plain": [
              "<Figure size 576x288 with 1 Axes>"
            ]
          },
          "metadata": {}
        }
      ]
    },
    {
      "cell_type": "markdown",
      "metadata": {
        "id": "83gCy1QcMisu"
      },
      "source": [
        "## Model 3 - LightGBM (hyperparameter tuning)"
      ]
    },
    {
      "cell_type": "code",
      "metadata": {
        "colab": {
          "base_uri": "https://localhost:8080/"
        },
        "id": "poudfPLaMiNo",
        "outputId": "714a3817-cee3-410c-dae9-5077bd81990c"
      },
      "source": [
        "# Grid search\n",
        "lgb_clf = LGBMClassifier()\n",
        "\n",
        "lgb_param_grid = {'learning_rate': np.arange(0.01, 0.10, 0.01),\n",
        "                  'n_estimators': np.arange(200, 1000, 200),\n",
        "                  'max_depth': [4,6,8,10]\n",
        "                  }\n",
        "\n",
        "random_lgb = RandomizedSearchCV(estimator=lgb_clf, \n",
        "                                    param_distributions=lgb_param_grid,\n",
        "                                    n_iter=100, \n",
        "                                    scoring='accuracy', \n",
        "                                    cv=3, \n",
        "                                    verbose=1,\n",
        "                                    n_jobs=-1\n",
        "                                    )\n",
        "random_lgb.fit(X_train, y_train)\n",
        "print(\"Best parameters found: \",random_lgb.best_params_)"
      ],
      "execution_count": 38,
      "outputs": [
        {
          "output_type": "stream",
          "name": "stdout",
          "text": [
            "Fitting 3 folds for each of 100 candidates, totalling 300 fits\n"
          ]
        },
        {
          "output_type": "stream",
          "name": "stderr",
          "text": [
            "[Parallel(n_jobs=-1)]: Using backend LokyBackend with 2 concurrent workers.\n",
            "[Parallel(n_jobs=-1)]: Done  46 tasks      | elapsed:   25.5s\n",
            "[Parallel(n_jobs=-1)]: Done 196 tasks      | elapsed:  1.8min\n",
            "[Parallel(n_jobs=-1)]: Done 300 out of 300 | elapsed:  2.9min finished\n"
          ]
        },
        {
          "output_type": "stream",
          "name": "stdout",
          "text": [
            "Best parameters found:  {'n_estimators': 400, 'max_depth': 4, 'learning_rate': 0.01}\n"
          ]
        }
      ]
    },
    {
      "cell_type": "code",
      "metadata": {
        "colab": {
          "base_uri": "https://localhost:8080/"
        },
        "id": "Sx10HuMPMiJw",
        "outputId": "658f48ca-5d6a-40c9-ca01-98985b8e93e8"
      },
      "source": [
        "# Use the best parameter to caculate roc_auc\n",
        "lgb_clf = LGBMClassifier(n_estimators = 400, \n",
        "                         max_depth=4,\n",
        "                         learning_rate = 0.02\n",
        "                         )\n",
        "lgb_clf.fit(X_train, y_train)\n",
        "\n",
        "# Predict \n",
        "y_pred_lgb = lgb_clf.predict(X_test)\n",
        "\n",
        "# Plot roc\n",
        "print(metrics.classification_report(y_true=y_test, y_pred=y_pred_lgb))"
      ],
      "execution_count": 39,
      "outputs": [
        {
          "output_type": "stream",
          "name": "stdout",
          "text": [
            "              precision    recall  f1-score   support\n",
            "\n",
            "           0       0.87      0.74      0.80      1375\n",
            "           1       0.74      0.87      0.80      1204\n",
            "\n",
            "    accuracy                           0.80      2579\n",
            "   macro avg       0.81      0.81      0.80      2579\n",
            "weighted avg       0.81      0.80      0.80      2579\n",
            "\n"
          ]
        }
      ]
    },
    {
      "cell_type": "code",
      "metadata": {
        "colab": {
          "base_uri": "https://localhost:8080/",
          "height": 304
        },
        "id": "kt8LCj9fcYR0",
        "outputId": "3c6d4d22-55f9-4f3a-f7f2-028773663d30"
      },
      "source": [
        "#Get the confusion matrix\n",
        "cf_matrix = confusion_matrix(y_test, y_pred_lgb)\n",
        "group_names = ['True Neg','False Pos','False Neg','True Pos']\n",
        "group_counts = [\"{0:0.0f}\".format(value) for value in\n",
        "                cf_matrix.flatten()]\n",
        "group_percentages = [\"{0:.2%}\".format(value) for value in\n",
        "                     cf_matrix.flatten()/np.sum(cf_matrix)]\n",
        "labels = [f\"{v1}\\n{v2}\\n{v3}\" for v1, v2, v3 in\n",
        "          zip(group_names,group_counts,group_percentages)]\n",
        "labels = np.asarray(labels).reshape(2,2)\n",
        "plt.figure()\n",
        "plt.figure(figsize=(8,4))\n",
        "sns.heatmap(cf_matrix, annot=labels, fmt='', cmap='Reds')"
      ],
      "execution_count": 40,
      "outputs": [
        {
          "output_type": "execute_result",
          "data": {
            "text/plain": [
              "<matplotlib.axes._subplots.AxesSubplot at 0x7f7daec4eb90>"
            ]
          },
          "metadata": {},
          "execution_count": 40
        },
        {
          "output_type": "display_data",
          "data": {
            "text/plain": [
              "<Figure size 576x288 with 0 Axes>"
            ]
          },
          "metadata": {}
        },
        {
          "output_type": "display_data",
          "data": {
            "image/png": "[encoded data removed]",
            "text/plain": [
              "<Figure size 576x288 with 2 Axes>"
            ]
          },
          "metadata": {}
        }
      ]
    },
    {
      "cell_type": "markdown",
      "metadata": {
        "id": "9sZmD0TBHNpe"
      },
      "source": [
        "## Model 4 - ANN"
      ]
    },
    {
      "cell_type": "code",
      "metadata": {
        "id": "jWnQv4hNGpmD"
      },
      "source": [
        "# set the model\n",
        "model1 = tf.keras.models.Sequential()\n",
        "model1.add(tf.keras.layers.Dense(units=50, activation='relu', input_shape=(9, )))\n",
        "# model.add(tf.keras.layers.Dense(units=50, activation='relu'))\n",
        "model1.add(tf.keras.layers.Dense(units=1, activation='sigmoid'))"
      ],
      "execution_count": 41,
      "outputs": []
    },
    {
      "cell_type": "code",
      "metadata": {
        "colab": {
          "base_uri": "https://localhost:8080/"
        },
        "id": "CEVnYFvQHVW-",
        "outputId": "fcb5f0f0-9084-473f-eb09-3798ffea9581"
      },
      "source": [
        "model1.summary()"
      ],
      "execution_count": 42,
      "outputs": [
        {
          "output_type": "stream",
          "name": "stdout",
          "text": [
            "Model: \"sequential\"\n",
            "_________________________________________________________________\n",
            "Layer (type)                 Output Shape              Param #   \n",
            "=================================================================\n",
            "dense (Dense)                (None, 50)                500       \n",
            "_________________________________________________________________\n",
            "dense_1 (Dense)              (None, 1)                 51        \n",
            "=================================================================\n",
            "Total params: 551\n",
            "Trainable params: 551\n",
            "Non-trainable params: 0\n",
            "_________________________________________________________________\n"
          ]
        }
      ]
    },
    {
      "cell_type": "code",
      "metadata": {
        "id": "5KjgWK-SHV1A"
      },
      "source": [
        "model1.compile(optimizer='Adam', loss='binary_crossentropy', metrics = ['accuracy'])"
      ],
      "execution_count": 43,
      "outputs": []
    },
    {
      "cell_type": "code",
      "metadata": {
        "colab": {
          "base_uri": "https://localhost:8080/"
        },
        "id": "jeD1HxT6HYqW",
        "outputId": "5429938c-7454-4862-dc1e-f904dac36168"
      },
      "source": [
        "X_train = np.array(X_train).reshape(-1,9)\n",
        "X_train.shape"
      ],
      "execution_count": 44,
      "outputs": [
        {
          "output_type": "execute_result",
          "data": {
            "text/plain": [
              "(10314, 9)"
            ]
          },
          "metadata": {},
          "execution_count": 44
        }
      ]
    },
    {
      "cell_type": "code",
      "metadata": {
        "colab": {
          "base_uri": "https://localhost:8080/"
        },
        "id": "tOnZN9y6HaaK",
        "outputId": "4095e96c-c9ea-40f2-f136-92150fc7d3b6"
      },
      "source": [
        "# train the model\n",
        "epochs_hist = model1.fit(X_train, y_train, epochs = 100, batch_size=50)"
      ],
      "execution_count": 45,
      "outputs": [
        {
          "output_type": "stream",
          "name": "stdout",
          "text": [
            "Epoch 1/100\n",
            "207/207 [==============================] - 1s 2ms/step - loss: 0.5737 - accuracy: 0.7516\n",
            "Epoch 2/100\n",
            "207/207 [==============================] - 0s 2ms/step - loss: 0.4992 - accuracy: 0.7874\n",
            "Epoch 3/100\n",
            "207/207 [==============================] - 0s 2ms/step - loss: 0.4948 - accuracy: 0.7873\n",
            "Epoch 4/100\n",
            "207/207 [==============================] - 0s 1ms/step - loss: 0.4932 - accuracy: 0.7874\n",
            "Epoch 5/100\n",
            "207/207 [==============================] - 0s 2ms/step - loss: 0.4924 - accuracy: 0.7873\n",
            "Epoch 6/100\n",
            "207/207 [==============================] - 0s 1ms/step - loss: 0.4921 - accuracy: 0.7871\n",
            "Epoch 7/100\n",
            "207/207 [==============================] - 0s 2ms/step - loss: 0.4916 - accuracy: 0.7869\n",
            "Epoch 8/100\n",
            "207/207 [==============================] - 0s 1ms/step - loss: 0.4910 - accuracy: 0.7870\n",
            "Epoch 9/100\n",
            "207/207 [==============================] - 0s 1ms/step - loss: 0.4905 - accuracy: 0.7865\n",
            "Epoch 10/100\n",
            "207/207 [==============================] - 0s 1ms/step - loss: 0.4905 - accuracy: 0.7868\n",
            "Epoch 11/100\n",
            "207/207 [==============================] - 0s 2ms/step - loss: 0.4901 - accuracy: 0.7864\n",
            "Epoch 12/100\n",
            "207/207 [==============================] - 0s 1ms/step - loss: 0.4897 - accuracy: 0.7865\n",
            "Epoch 13/100\n",
            "207/207 [==============================] - 0s 1ms/step - loss: 0.4891 - accuracy: 0.7869\n",
            "Epoch 14/100\n",
            "207/207 [==============================] - 0s 2ms/step - loss: 0.4897 - accuracy: 0.7868\n",
            "Epoch 15/100\n",
            "207/207 [==============================] - 0s 1ms/step - loss: 0.4896 - accuracy: 0.7864\n",
            "Epoch 16/100\n",
            "207/207 [==============================] - 0s 1ms/step - loss: 0.4892 - accuracy: 0.7865\n",
            "Epoch 17/100\n",
            "207/207 [==============================] - 0s 1ms/step - loss: 0.4890 - accuracy: 0.7868\n",
            "Epoch 18/100\n",
            "207/207 [==============================] - 0s 1ms/step - loss: 0.4891 - accuracy: 0.7868\n",
            "Epoch 19/100\n",
            "207/207 [==============================] - 0s 1ms/step - loss: 0.4886 - accuracy: 0.7863\n",
            "Epoch 20/100\n",
            "207/207 [==============================] - 0s 1ms/step - loss: 0.4885 - accuracy: 0.7867\n",
            "Epoch 21/100\n",
            "207/207 [==============================] - 0s 1ms/step - loss: 0.4876 - accuracy: 0.7870\n",
            "Epoch 22/100\n",
            "207/207 [==============================] - 0s 1ms/step - loss: 0.4886 - accuracy: 0.7866\n",
            "Epoch 23/100\n",
            "207/207 [==============================] - 0s 1ms/step - loss: 0.4883 - accuracy: 0.7865\n",
            "Epoch 24/100\n",
            "207/207 [==============================] - 0s 1ms/step - loss: 0.4875 - accuracy: 0.7873\n",
            "Epoch 25/100\n",
            "207/207 [==============================] - 0s 1ms/step - loss: 0.4879 - accuracy: 0.7867\n",
            "Epoch 26/100\n",
            "207/207 [==============================] - 0s 1ms/step - loss: 0.4880 - accuracy: 0.7866\n",
            "Epoch 27/100\n",
            "207/207 [==============================] - 0s 1ms/step - loss: 0.4878 - accuracy: 0.7869\n",
            "Epoch 28/100\n",
            "207/207 [==============================] - 0s 2ms/step - loss: 0.4876 - accuracy: 0.7869\n",
            "Epoch 29/100\n",
            "207/207 [==============================] - 0s 2ms/step - loss: 0.4872 - accuracy: 0.7866\n",
            "Epoch 30/100\n",
            "207/207 [==============================] - 0s 1ms/step - loss: 0.4873 - accuracy: 0.7865\n",
            "Epoch 31/100\n",
            "207/207 [==============================] - 0s 2ms/step - loss: 0.4871 - accuracy: 0.7871\n",
            "Epoch 32/100\n",
            "207/207 [==============================] - 0s 1ms/step - loss: 0.4871 - accuracy: 0.7869\n",
            "Epoch 33/100\n",
            "207/207 [==============================] - 0s 1ms/step - loss: 0.4864 - accuracy: 0.7867\n",
            "Epoch 34/100\n",
            "207/207 [==============================] - 0s 2ms/step - loss: 0.4866 - accuracy: 0.7865\n",
            "Epoch 35/100\n",
            "207/207 [==============================] - 0s 1ms/step - loss: 0.4867 - accuracy: 0.7868\n",
            "Epoch 36/100\n",
            "207/207 [==============================] - 0s 2ms/step - loss: 0.4866 - accuracy: 0.7868\n",
            "Epoch 37/100\n",
            "207/207 [==============================] - 0s 1ms/step - loss: 0.4866 - accuracy: 0.7866\n",
            "Epoch 38/100\n",
            "207/207 [==============================] - 0s 1ms/step - loss: 0.4867 - accuracy: 0.7869\n",
            "Epoch 39/100\n",
            "207/207 [==============================] - 0s 2ms/step - loss: 0.4862 - accuracy: 0.7867\n",
            "Epoch 40/100\n",
            "207/207 [==============================] - 0s 1ms/step - loss: 0.4861 - accuracy: 0.7869\n",
            "Epoch 41/100\n",
            "207/207 [==============================] - 0s 1ms/step - loss: 0.4862 - accuracy: 0.7871\n",
            "Epoch 42/100\n",
            "207/207 [==============================] - 0s 1ms/step - loss: 0.4862 - accuracy: 0.7867\n",
            "Epoch 43/100\n",
            "207/207 [==============================] - 0s 2ms/step - loss: 0.4860 - accuracy: 0.7871\n",
            "Epoch 44/100\n",
            "207/207 [==============================] - 0s 2ms/step - loss: 0.4857 - accuracy: 0.7870\n",
            "Epoch 45/100\n",
            "207/207 [==============================] - 0s 1ms/step - loss: 0.4861 - accuracy: 0.7870\n",
            "Epoch 46/100\n",
            "207/207 [==============================] - 0s 1ms/step - loss: 0.4859 - accuracy: 0.7871\n",
            "Epoch 47/100\n",
            "207/207 [==============================] - 0s 1ms/step - loss: 0.4859 - accuracy: 0.7869\n",
            "Epoch 48/100\n",
            "207/207 [==============================] - 0s 1ms/step - loss: 0.4855 - accuracy: 0.7867\n",
            "Epoch 49/100\n",
            "207/207 [==============================] - 0s 2ms/step - loss: 0.4851 - accuracy: 0.7869\n",
            "Epoch 50/100\n",
            "207/207 [==============================] - 0s 2ms/step - loss: 0.4854 - accuracy: 0.7867\n",
            "Epoch 51/100\n",
            "207/207 [==============================] - 0s 1ms/step - loss: 0.4851 - accuracy: 0.7872\n",
            "Epoch 52/100\n",
            "207/207 [==============================] - 0s 1ms/step - loss: 0.4849 - accuracy: 0.7869\n",
            "Epoch 53/100\n",
            "207/207 [==============================] - 0s 1ms/step - loss: 0.4850 - accuracy: 0.7869\n",
            "Epoch 54/100\n",
            "207/207 [==============================] - 0s 1ms/step - loss: 0.4846 - accuracy: 0.7868\n",
            "Epoch 55/100\n",
            "207/207 [==============================] - 0s 1ms/step - loss: 0.4847 - accuracy: 0.7869\n",
            "Epoch 56/100\n",
            "207/207 [==============================] - 0s 1ms/step - loss: 0.4843 - accuracy: 0.7868\n",
            "Epoch 57/100\n",
            "207/207 [==============================] - 0s 1ms/step - loss: 0.4847 - accuracy: 0.7872\n",
            "Epoch 58/100\n",
            "207/207 [==============================] - 0s 2ms/step - loss: 0.4845 - accuracy: 0.7871\n",
            "Epoch 59/100\n",
            "207/207 [==============================] - 0s 2ms/step - loss: 0.4844 - accuracy: 0.7871\n",
            "Epoch 60/100\n",
            "207/207 [==============================] - 0s 2ms/step - loss: 0.4839 - accuracy: 0.7870\n",
            "Epoch 61/100\n",
            "207/207 [==============================] - 0s 1ms/step - loss: 0.4847 - accuracy: 0.7870\n",
            "Epoch 62/100\n",
            "207/207 [==============================] - 0s 2ms/step - loss: 0.4841 - accuracy: 0.7868\n",
            "Epoch 63/100\n",
            "207/207 [==============================] - 0s 1ms/step - loss: 0.4839 - accuracy: 0.7871\n",
            "Epoch 64/100\n",
            "207/207 [==============================] - 0s 2ms/step - loss: 0.4837 - accuracy: 0.7867\n",
            "Epoch 65/100\n",
            "207/207 [==============================] - 0s 1ms/step - loss: 0.4841 - accuracy: 0.7869\n",
            "Epoch 66/100\n",
            "207/207 [==============================] - 0s 2ms/step - loss: 0.4838 - accuracy: 0.7872\n",
            "Epoch 67/100\n",
            "207/207 [==============================] - 0s 1ms/step - loss: 0.4836 - accuracy: 0.7866\n",
            "Epoch 68/100\n",
            "207/207 [==============================] - 0s 1ms/step - loss: 0.4832 - accuracy: 0.7872\n",
            "Epoch 69/100\n",
            "207/207 [==============================] - 0s 1ms/step - loss: 0.4837 - accuracy: 0.7873\n",
            "Epoch 70/100\n",
            "207/207 [==============================] - 0s 2ms/step - loss: 0.4834 - accuracy: 0.7870\n",
            "Epoch 71/100\n",
            "207/207 [==============================] - 0s 1ms/step - loss: 0.4833 - accuracy: 0.7869\n",
            "Epoch 72/100\n",
            "207/207 [==============================] - 0s 1ms/step - loss: 0.4831 - accuracy: 0.7866\n",
            "Epoch 73/100\n",
            "207/207 [==============================] - 0s 1ms/step - loss: 0.4830 - accuracy: 0.7870\n",
            "Epoch 74/100\n",
            "207/207 [==============================] - 0s 1ms/step - loss: 0.4831 - accuracy: 0.7870\n",
            "Epoch 75/100\n",
            "207/207 [==============================] - 0s 1ms/step - loss: 0.4837 - accuracy: 0.7872\n",
            "Epoch 76/100\n",
            "207/207 [==============================] - 0s 1ms/step - loss: 0.4831 - accuracy: 0.7868\n",
            "Epoch 77/100\n",
            "207/207 [==============================] - 0s 2ms/step - loss: 0.4832 - accuracy: 0.7872\n",
            "Epoch 78/100\n",
            "207/207 [==============================] - 0s 1ms/step - loss: 0.4831 - accuracy: 0.7872\n",
            "Epoch 79/100\n",
            "207/207 [==============================] - 0s 1ms/step - loss: 0.4830 - accuracy: 0.7865\n",
            "Epoch 80/100\n",
            "207/207 [==============================] - 0s 2ms/step - loss: 0.4825 - accuracy: 0.7873\n",
            "Epoch 81/100\n",
            "207/207 [==============================] - 0s 2ms/step - loss: 0.4823 - accuracy: 0.7869\n",
            "Epoch 82/100\n",
            "207/207 [==============================] - 0s 1ms/step - loss: 0.4828 - accuracy: 0.7870\n",
            "Epoch 83/100\n",
            "207/207 [==============================] - 0s 2ms/step - loss: 0.4831 - accuracy: 0.7861\n",
            "Epoch 84/100\n",
            "207/207 [==============================] - 0s 1ms/step - loss: 0.4828 - accuracy: 0.7862\n",
            "Epoch 85/100\n",
            "207/207 [==============================] - 0s 1ms/step - loss: 0.4824 - accuracy: 0.7861\n",
            "Epoch 86/100\n",
            "207/207 [==============================] - 0s 2ms/step - loss: 0.4828 - accuracy: 0.7869\n",
            "Epoch 87/100\n",
            "207/207 [==============================] - 0s 1ms/step - loss: 0.4824 - accuracy: 0.7864\n",
            "Epoch 88/100\n",
            "207/207 [==============================] - 0s 1ms/step - loss: 0.4822 - accuracy: 0.7872\n",
            "Epoch 89/100\n",
            "207/207 [==============================] - 0s 1ms/step - loss: 0.4821 - accuracy: 0.7867\n",
            "Epoch 90/100\n",
            "207/207 [==============================] - 0s 2ms/step - loss: 0.4821 - accuracy: 0.7868\n",
            "Epoch 91/100\n",
            "207/207 [==============================] - 0s 1ms/step - loss: 0.4824 - accuracy: 0.7872\n",
            "Epoch 92/100\n",
            "207/207 [==============================] - 0s 1ms/step - loss: 0.4818 - accuracy: 0.7870\n",
            "Epoch 93/100\n",
            "207/207 [==============================] - 0s 2ms/step - loss: 0.4821 - accuracy: 0.7869\n",
            "Epoch 94/100\n",
            "207/207 [==============================] - 0s 1ms/step - loss: 0.4819 - accuracy: 0.7873\n",
            "Epoch 95/100\n",
            "207/207 [==============================] - 0s 2ms/step - loss: 0.4815 - accuracy: 0.7869\n",
            "Epoch 96/100\n",
            "207/207 [==============================] - 0s 1ms/step - loss: 0.4816 - accuracy: 0.7873\n",
            "Epoch 97/100\n",
            "207/207 [==============================] - 0s 2ms/step - loss: 0.4817 - accuracy: 0.7871\n",
            "Epoch 98/100\n",
            "207/207 [==============================] - 0s 2ms/step - loss: 0.4817 - accuracy: 0.7865\n",
            "Epoch 99/100\n",
            "207/207 [==============================] - 0s 2ms/step - loss: 0.4819 - accuracy: 0.7868\n",
            "Epoch 100/100\n",
            "207/207 [==============================] - 0s 1ms/step - loss: 0.4818 - accuracy: 0.7869\n"
          ]
        }
      ]
    },
    {
      "cell_type": "code",
      "metadata": {
        "colab": {
          "base_uri": "https://localhost:8080/"
        },
        "id": "N165kOuFHfhC",
        "outputId": "0facff1b-fcff-4ec5-f9b5-606d28130d02"
      },
      "source": [
        "# Predict \n",
        "y_pred_ann = model1.predict(X_test)\n",
        "y_pred_ann"
      ],
      "execution_count": 46,
      "outputs": [
        {
          "output_type": "execute_result",
          "data": {
            "text/plain": [
              "array([[0.7487741 ],\n",
              "       [0.48393333],\n",
              "       [0.6542053 ],\n",
              "       ...,\n",
              "       [0.8278297 ],\n",
              "       [0.07121575],\n",
              "       [0.07019579]], dtype=float32)"
            ]
          },
          "metadata": {},
          "execution_count": 46
        }
      ]
    },
    {
      "cell_type": "code",
      "metadata": {
        "colab": {
          "base_uri": "https://localhost:8080/"
        },
        "id": "A8VAjOGqH75A",
        "outputId": "648b6085-f693-47d3-ec25-9b9f71341ea7"
      },
      "source": [
        "y_test"
      ],
      "execution_count": 47,
      "outputs": [
        {
          "output_type": "execute_result",
          "data": {
            "text/plain": [
              "5728     1\n",
              "10553    1\n",
              "2700     1\n",
              "3952     0\n",
              "1201     0\n",
              "        ..\n",
              "11713    1\n",
              "277      1\n",
              "8739     1\n",
              "10071    0\n",
              "453      0\n",
              "Name: cur_brand, Length: 2579, dtype: int64"
            ]
          },
          "metadata": {},
          "execution_count": 47
        }
      ]
    },
    {
      "cell_type": "code",
      "metadata": {
        "id": "4NI-VwSUIBRd"
      },
      "source": [
        "y_pred_ann = (y_pred_ann > df1['cur_brand'].mean())"
      ],
      "execution_count": 48,
      "outputs": []
    },
    {
      "cell_type": "code",
      "metadata": {
        "colab": {
          "base_uri": "https://localhost:8080/",
          "height": 286
        },
        "id": "Sjc0DKkbILhy",
        "outputId": "b89daa29-5c8a-4dcc-e048-568dccb7f97b"
      },
      "source": [
        "# visualize the confusion matrix\n",
        "cm = confusion_matrix(y_test, y_pred_ann)\n",
        "sns.heatmap(cm, annot=True)"
      ],
      "execution_count": 49,
      "outputs": [
        {
          "output_type": "execute_result",
          "data": {
            "text/plain": [
              "<matplotlib.axes._subplots.AxesSubplot at 0x7f7da7d7f190>"
            ]
          },
          "metadata": {},
          "execution_count": 49
        },
        {
          "output_type": "display_data",
          "data": {
            "image/png": "[encoded data removed]",
            "text/plain": [
              "<Figure size 576x288 with 2 Axes>"
            ]
          },
          "metadata": {}
        }
      ]
    },
    {
      "cell_type": "code",
      "metadata": {
        "colab": {
          "base_uri": "https://localhost:8080/",
          "height": 304
        },
        "id": "rIC2QgnoIV9q",
        "outputId": "7594cb0e-1765-4d6f-ad03-3cc6553ea45e"
      },
      "source": [
        "cf_matrix = confusion_matrix(y_test, y_pred_ann)\n",
        "\n",
        "group_names = ['True Neg','False Pos','False Neg','True Pos']\n",
        "group_counts = [\"{0:0.0f}\".format(value) for value in\n",
        "                cf_matrix.flatten()]\n",
        "group_percentages = [\"{0:.2%}\".format(value) for value in\n",
        "                     cf_matrix.flatten()/np.sum(cf_matrix)]\n",
        "labels = [f\"{v1}\\n{v2}\\n{v3}\" for v1, v2, v3 in\n",
        "          zip(group_names,group_counts,group_percentages)]\n",
        "labels = np.asarray(labels).reshape(2,2)\n",
        "plt.figure()\n",
        "plt.figure(figsize=(8,4))\n",
        "sns.heatmap(cf_matrix, annot=labels, fmt='', cmap='Reds')"
      ],
      "execution_count": 50,
      "outputs": [
        {
          "output_type": "execute_result",
          "data": {
            "text/plain": [
              "<matplotlib.axes._subplots.AxesSubplot at 0x7f7da953c850>"
            ]
          },
          "metadata": {},
          "execution_count": 50
        },
        {
          "output_type": "display_data",
          "data": {
            "text/plain": [
              "<Figure size 576x288 with 0 Axes>"
            ]
          },
          "metadata": {}
        },
        {
          "output_type": "display_data",
          "data": {
            "image/png": "[encoded data removed]",
            "text/plain": [
              "<Figure size 576x288 with 2 Axes>"
            ]
          },
          "metadata": {}
        }
      ]
    },
    {
      "cell_type": "code",
      "metadata": {
        "id": "aV-C08FfIWZz"
      },
      "source": [
        ""
      ],
      "execution_count": 50,
      "outputs": []
    }
  ]
}
