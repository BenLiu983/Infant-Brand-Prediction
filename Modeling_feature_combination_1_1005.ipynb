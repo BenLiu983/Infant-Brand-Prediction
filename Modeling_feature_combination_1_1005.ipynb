{
  "nbformat": 4,
  "nbformat_minor": 0,
  "metadata": {
    "colab": {
      "name": "Modeling (feature combonation 1).ipynb",
      "provenance": [],
      "collapsed_sections": [],
      "authorship_tag": "ABX9TyO17qBvR5jmehBiTvxHTKqz",
      "include_colab_link": true
    },
    "kernelspec": {
      "name": "python3",
      "display_name": "Python 3"
    },
    "language_info": {
      "name": "python"
    }
  },
  "cells": [
    {
      "cell_type": "markdown",
      "metadata": {
        "id": "view-in-github",
        "colab_type": "text"
      },
      "source": [
        "<a href=\"https://colab.research.google.com/github/BenLiu983/Infant-Brand-Prediction/blob/Modeling/Modeling_feature_combonation_1_1005.ipynb\" target=\"_parent\"><img src=\"https://colab.research.google.com/assets/colab-badge.svg\" alt=\"Open In Colab\"/></a>"
      ]
    },
    {
      "cell_type": "code",
      "metadata": {
        "colab": {
          "base_uri": "https://localhost:8080/"
        },
        "id": "GNIqumYpCqls",
        "outputId": "63e474e2-23c6-4e39-c8fa-8f475e9fd630"
      },
      "source": [
        "from google.colab import drive\n",
        "drive.mount('/content/drive')"
      ],
      "execution_count": 2,
      "outputs": [
        {
          "output_type": "stream",
          "name": "stdout",
          "text": [
            "Mounted at /content/drive\n"
          ]
        }
      ]
    },
    {
      "cell_type": "code",
      "metadata": {
        "id": "gP0OcHlSCXOu"
      },
      "source": [
        "import pandas as pd\n",
        "import numpy as np\n",
        "import seaborn as sns \n",
        "from sklearn.neighbors import KNeighborsClassifier\n",
        "from sklearn.model_selection import train_test_split\n",
        "from sklearn.linear_model import LogisticRegression\n",
        "from sklearn import tree\n",
        "from sklearn import metrics\n",
        "from sklearn.metrics import roc_curve, roc_auc_score\n",
        "from sklearn.metrics import classification_report, confusion_matrix\n",
        "from sklearn import svm\n",
        "from sklearn.preprocessing import MinMaxScaler\n",
        "from sklearn.model_selection import cross_val_score\n",
        "from sklearn.model_selection import cross_val_predict\n",
        "from sklearn.metrics import mean_squared_error, r2_score\n",
        "from sklearn.metrics import classification_report, confusion_matrix\n",
        "import matplotlib.pyplot as plt\n",
        "from lightgbm import LGBMClassifier\n",
        "from lightgbm import plot_importance\n",
        "from sklearn.model_selection import RandomizedSearchCV\n",
        "import tensorflow as tf\n",
        "import warnings\n",
        "warnings.filterwarnings(\"ignore\", category=FutureWarning)\n",
        "sns.set(font_scale=1.2)\n",
        "sns.set_style(\"whitegrid\")"
      ],
      "execution_count": 72,
      "outputs": []
    },
    {
      "cell_type": "code",
      "metadata": {
        "colab": {
          "base_uri": "https://localhost:8080/",
          "height": 419
        },
        "id": "oUq4aysbCaOf",
        "outputId": "4f0b9232-6176-4e4b-e542-34fe05b1e31c"
      },
      "source": [
        "# load the dataset\n",
        "df1 = pd.read_csv('/content/drive/MyDrive/colab_new_202109/predict_infant_brand/current_infant_brand_clean.csv')\n",
        "df1"
      ],
      "execution_count": 4,
      "outputs": [
        {
          "output_type": "execute_result",
          "data": {
            "text/html": [
              "<div>\n",
              "<style scoped>\n",
              "    .dataframe tbody tr th:only-of-type {\n",
              "        vertical-align: middle;\n",
              "    }\n",
              "\n",
              "    .dataframe tbody tr th {\n",
              "        vertical-align: top;\n",
              "    }\n",
              "\n",
              "    .dataframe thead th {\n",
              "        text-align: right;\n",
              "    }\n",
              "</style>\n",
              "<table border=\"1\" class=\"dataframe\">\n",
              "  <thead>\n",
              "    <tr style=\"text-align: right;\">\n",
              "      <th></th>\n",
              "      <th>cur_brand</th>\n",
              "      <th>first_buy_brand</th>\n",
              "      <th>babyage</th>\n",
              "      <th>ZONE</th>\n",
              "      <th>breastfeed</th>\n",
              "      <th>enroll_type2</th>\n",
              "      <th>enroll_age</th>\n",
              "      <th>open_rate0</th>\n",
              "      <th>click_rate0</th>\n",
              "      <th>redem_rate0</th>\n",
              "    </tr>\n",
              "  </thead>\n",
              "  <tbody>\n",
              "    <tr>\n",
              "      <th>0</th>\n",
              "      <td>0</td>\n",
              "      <td>0</td>\n",
              "      <td>120</td>\n",
              "      <td>1</td>\n",
              "      <td>0</td>\n",
              "      <td>1</td>\n",
              "      <td>-247</td>\n",
              "      <td>0.000000</td>\n",
              "      <td>0.000000</td>\n",
              "      <td>0.000000</td>\n",
              "    </tr>\n",
              "    <tr>\n",
              "      <th>1</th>\n",
              "      <td>1</td>\n",
              "      <td>1</td>\n",
              "      <td>150</td>\n",
              "      <td>1</td>\n",
              "      <td>1</td>\n",
              "      <td>1</td>\n",
              "      <td>-169</td>\n",
              "      <td>0.052632</td>\n",
              "      <td>0.000000</td>\n",
              "      <td>0.600000</td>\n",
              "    </tr>\n",
              "    <tr>\n",
              "      <th>2</th>\n",
              "      <td>0</td>\n",
              "      <td>0</td>\n",
              "      <td>330</td>\n",
              "      <td>1</td>\n",
              "      <td>1</td>\n",
              "      <td>1</td>\n",
              "      <td>-64</td>\n",
              "      <td>0.714286</td>\n",
              "      <td>0.285714</td>\n",
              "      <td>0.000000</td>\n",
              "    </tr>\n",
              "    <tr>\n",
              "      <th>3</th>\n",
              "      <td>1</td>\n",
              "      <td>1</td>\n",
              "      <td>60</td>\n",
              "      <td>1</td>\n",
              "      <td>1</td>\n",
              "      <td>0</td>\n",
              "      <td>-31</td>\n",
              "      <td>0.911765</td>\n",
              "      <td>0.205882</td>\n",
              "      <td>0.666667</td>\n",
              "    </tr>\n",
              "    <tr>\n",
              "      <th>4</th>\n",
              "      <td>1</td>\n",
              "      <td>1</td>\n",
              "      <td>30</td>\n",
              "      <td>1</td>\n",
              "      <td>0</td>\n",
              "      <td>1</td>\n",
              "      <td>9</td>\n",
              "      <td>0.250000</td>\n",
              "      <td>0.071429</td>\n",
              "      <td>0.250000</td>\n",
              "    </tr>\n",
              "    <tr>\n",
              "      <th>...</th>\n",
              "      <td>...</td>\n",
              "      <td>...</td>\n",
              "      <td>...</td>\n",
              "      <td>...</td>\n",
              "      <td>...</td>\n",
              "      <td>...</td>\n",
              "      <td>...</td>\n",
              "      <td>...</td>\n",
              "      <td>...</td>\n",
              "      <td>...</td>\n",
              "    </tr>\n",
              "    <tr>\n",
              "      <th>12888</th>\n",
              "      <td>1</td>\n",
              "      <td>0</td>\n",
              "      <td>180</td>\n",
              "      <td>0</td>\n",
              "      <td>1</td>\n",
              "      <td>1</td>\n",
              "      <td>-39</td>\n",
              "      <td>0.289474</td>\n",
              "      <td>0.105263</td>\n",
              "      <td>0.000000</td>\n",
              "    </tr>\n",
              "    <tr>\n",
              "      <th>12889</th>\n",
              "      <td>1</td>\n",
              "      <td>1</td>\n",
              "      <td>0</td>\n",
              "      <td>1</td>\n",
              "      <td>1</td>\n",
              "      <td>0</td>\n",
              "      <td>-241</td>\n",
              "      <td>0.782609</td>\n",
              "      <td>0.043478</td>\n",
              "      <td>0.500000</td>\n",
              "    </tr>\n",
              "    <tr>\n",
              "      <th>12890</th>\n",
              "      <td>1</td>\n",
              "      <td>0</td>\n",
              "      <td>30</td>\n",
              "      <td>1</td>\n",
              "      <td>1</td>\n",
              "      <td>1</td>\n",
              "      <td>-128</td>\n",
              "      <td>0.271186</td>\n",
              "      <td>0.050847</td>\n",
              "      <td>0.500000</td>\n",
              "    </tr>\n",
              "    <tr>\n",
              "      <th>12891</th>\n",
              "      <td>1</td>\n",
              "      <td>1</td>\n",
              "      <td>30</td>\n",
              "      <td>1</td>\n",
              "      <td>1</td>\n",
              "      <td>1</td>\n",
              "      <td>-37</td>\n",
              "      <td>0.210526</td>\n",
              "      <td>0.078947</td>\n",
              "      <td>0.000000</td>\n",
              "    </tr>\n",
              "    <tr>\n",
              "      <th>12892</th>\n",
              "      <td>1</td>\n",
              "      <td>1</td>\n",
              "      <td>90</td>\n",
              "      <td>1</td>\n",
              "      <td>1</td>\n",
              "      <td>0</td>\n",
              "      <td>-213</td>\n",
              "      <td>0.441176</td>\n",
              "      <td>0.058824</td>\n",
              "      <td>0.500000</td>\n",
              "    </tr>\n",
              "  </tbody>\n",
              "</table>\n",
              "<p>12893 rows × 10 columns</p>\n",
              "</div>"
            ],
            "text/plain": [
              "       cur_brand  first_buy_brand  ...  click_rate0  redem_rate0\n",
              "0              0                0  ...     0.000000     0.000000\n",
              "1              1                1  ...     0.000000     0.600000\n",
              "2              0                0  ...     0.285714     0.000000\n",
              "3              1                1  ...     0.205882     0.666667\n",
              "4              1                1  ...     0.071429     0.250000\n",
              "...          ...              ...  ...          ...          ...\n",
              "12888          1                0  ...     0.105263     0.000000\n",
              "12889          1                1  ...     0.043478     0.500000\n",
              "12890          1                0  ...     0.050847     0.500000\n",
              "12891          1                1  ...     0.078947     0.000000\n",
              "12892          1                1  ...     0.058824     0.500000\n",
              "\n",
              "[12893 rows x 10 columns]"
            ]
          },
          "metadata": {},
          "execution_count": 4
        }
      ]
    },
    {
      "cell_type": "code",
      "metadata": {
        "colab": {
          "base_uri": "https://localhost:8080/",
          "height": 561
        },
        "id": "5NjiTRGfC5xa",
        "outputId": "1b88bd79-a760-4ece-e926-7f78d1011ba6"
      },
      "source": [
        "#scale the data\n",
        "scaler = MinMaxScaler()\n",
        "print(scaler.fit(df1))\n",
        "print(scaler.transform(df1))\n",
        "df2 = pd.DataFrame(scaler.transform(df1))\n",
        "df2.columns = df1.columns\n",
        "df2"
      ],
      "execution_count": 7,
      "outputs": [
        {
          "output_type": "stream",
          "name": "stdout",
          "text": [
            "MinMaxScaler(copy=True, feature_range=(0, 1))\n",
            "[[0.         0.         0.33333333 ... 0.         0.         0.        ]\n",
            " [1.         1.         0.41666667 ... 0.05263158 0.         0.6       ]\n",
            " [0.         0.         0.91666667 ... 0.71428571 0.28571429 0.        ]\n",
            " ...\n",
            " [1.         0.         0.08333333 ... 0.27118644 0.05084746 0.5       ]\n",
            " [1.         1.         0.08333333 ... 0.21052632 0.07894737 0.        ]\n",
            " [1.         1.         0.25       ... 0.44117647 0.05882353 0.5       ]]\n"
          ]
        },
        {
          "output_type": "execute_result",
          "data": {
            "text/html": [
              "<div>\n",
              "<style scoped>\n",
              "    .dataframe tbody tr th:only-of-type {\n",
              "        vertical-align: middle;\n",
              "    }\n",
              "\n",
              "    .dataframe tbody tr th {\n",
              "        vertical-align: top;\n",
              "    }\n",
              "\n",
              "    .dataframe thead th {\n",
              "        text-align: right;\n",
              "    }\n",
              "</style>\n",
              "<table border=\"1\" class=\"dataframe\">\n",
              "  <thead>\n",
              "    <tr style=\"text-align: right;\">\n",
              "      <th></th>\n",
              "      <th>cur_brand</th>\n",
              "      <th>first_buy_brand</th>\n",
              "      <th>babyage</th>\n",
              "      <th>ZONE</th>\n",
              "      <th>breastfeed</th>\n",
              "      <th>enroll_type2</th>\n",
              "      <th>enroll_age</th>\n",
              "      <th>open_rate0</th>\n",
              "      <th>click_rate0</th>\n",
              "      <th>redem_rate0</th>\n",
              "    </tr>\n",
              "  </thead>\n",
              "  <tbody>\n",
              "    <tr>\n",
              "      <th>0</th>\n",
              "      <td>0.0</td>\n",
              "      <td>0.0</td>\n",
              "      <td>0.333333</td>\n",
              "      <td>1.0</td>\n",
              "      <td>0.0</td>\n",
              "      <td>1.0</td>\n",
              "      <td>0.487926</td>\n",
              "      <td>0.000000</td>\n",
              "      <td>0.000000</td>\n",
              "      <td>0.000000</td>\n",
              "    </tr>\n",
              "    <tr>\n",
              "      <th>1</th>\n",
              "      <td>1.0</td>\n",
              "      <td>1.0</td>\n",
              "      <td>0.416667</td>\n",
              "      <td>1.0</td>\n",
              "      <td>1.0</td>\n",
              "      <td>1.0</td>\n",
              "      <td>0.496372</td>\n",
              "      <td>0.052632</td>\n",
              "      <td>0.000000</td>\n",
              "      <td>0.600000</td>\n",
              "    </tr>\n",
              "    <tr>\n",
              "      <th>2</th>\n",
              "      <td>0.0</td>\n",
              "      <td>0.0</td>\n",
              "      <td>0.916667</td>\n",
              "      <td>1.0</td>\n",
              "      <td>1.0</td>\n",
              "      <td>1.0</td>\n",
              "      <td>0.507742</td>\n",
              "      <td>0.714286</td>\n",
              "      <td>0.285714</td>\n",
              "      <td>0.000000</td>\n",
              "    </tr>\n",
              "    <tr>\n",
              "      <th>3</th>\n",
              "      <td>1.0</td>\n",
              "      <td>1.0</td>\n",
              "      <td>0.166667</td>\n",
              "      <td>1.0</td>\n",
              "      <td>1.0</td>\n",
              "      <td>0.0</td>\n",
              "      <td>0.511316</td>\n",
              "      <td>0.911765</td>\n",
              "      <td>0.205882</td>\n",
              "      <td>0.666667</td>\n",
              "    </tr>\n",
              "    <tr>\n",
              "      <th>4</th>\n",
              "      <td>1.0</td>\n",
              "      <td>1.0</td>\n",
              "      <td>0.083333</td>\n",
              "      <td>1.0</td>\n",
              "      <td>0.0</td>\n",
              "      <td>1.0</td>\n",
              "      <td>0.515647</td>\n",
              "      <td>0.250000</td>\n",
              "      <td>0.071429</td>\n",
              "      <td>0.250000</td>\n",
              "    </tr>\n",
              "    <tr>\n",
              "      <th>...</th>\n",
              "      <td>...</td>\n",
              "      <td>...</td>\n",
              "      <td>...</td>\n",
              "      <td>...</td>\n",
              "      <td>...</td>\n",
              "      <td>...</td>\n",
              "      <td>...</td>\n",
              "      <td>...</td>\n",
              "      <td>...</td>\n",
              "      <td>...</td>\n",
              "    </tr>\n",
              "    <tr>\n",
              "      <th>12888</th>\n",
              "      <td>1.0</td>\n",
              "      <td>0.0</td>\n",
              "      <td>0.500000</td>\n",
              "      <td>0.0</td>\n",
              "      <td>1.0</td>\n",
              "      <td>1.0</td>\n",
              "      <td>0.510449</td>\n",
              "      <td>0.289474</td>\n",
              "      <td>0.105263</td>\n",
              "      <td>0.000000</td>\n",
              "    </tr>\n",
              "    <tr>\n",
              "      <th>12889</th>\n",
              "      <td>1.0</td>\n",
              "      <td>1.0</td>\n",
              "      <td>0.000000</td>\n",
              "      <td>1.0</td>\n",
              "      <td>1.0</td>\n",
              "      <td>0.0</td>\n",
              "      <td>0.488576</td>\n",
              "      <td>0.782609</td>\n",
              "      <td>0.043478</td>\n",
              "      <td>0.500000</td>\n",
              "    </tr>\n",
              "    <tr>\n",
              "      <th>12890</th>\n",
              "      <td>1.0</td>\n",
              "      <td>0.0</td>\n",
              "      <td>0.083333</td>\n",
              "      <td>1.0</td>\n",
              "      <td>1.0</td>\n",
              "      <td>1.0</td>\n",
              "      <td>0.500812</td>\n",
              "      <td>0.271186</td>\n",
              "      <td>0.050847</td>\n",
              "      <td>0.500000</td>\n",
              "    </tr>\n",
              "    <tr>\n",
              "      <th>12891</th>\n",
              "      <td>1.0</td>\n",
              "      <td>1.0</td>\n",
              "      <td>0.083333</td>\n",
              "      <td>1.0</td>\n",
              "      <td>1.0</td>\n",
              "      <td>1.0</td>\n",
              "      <td>0.510666</td>\n",
              "      <td>0.210526</td>\n",
              "      <td>0.078947</td>\n",
              "      <td>0.000000</td>\n",
              "    </tr>\n",
              "    <tr>\n",
              "      <th>12892</th>\n",
              "      <td>1.0</td>\n",
              "      <td>1.0</td>\n",
              "      <td>0.250000</td>\n",
              "      <td>1.0</td>\n",
              "      <td>1.0</td>\n",
              "      <td>0.0</td>\n",
              "      <td>0.491608</td>\n",
              "      <td>0.441176</td>\n",
              "      <td>0.058824</td>\n",
              "      <td>0.500000</td>\n",
              "    </tr>\n",
              "  </tbody>\n",
              "</table>\n",
              "<p>12893 rows × 10 columns</p>\n",
              "</div>"
            ],
            "text/plain": [
              "       cur_brand  first_buy_brand  ...  click_rate0  redem_rate0\n",
              "0            0.0              0.0  ...     0.000000     0.000000\n",
              "1            1.0              1.0  ...     0.000000     0.600000\n",
              "2            0.0              0.0  ...     0.285714     0.000000\n",
              "3            1.0              1.0  ...     0.205882     0.666667\n",
              "4            1.0              1.0  ...     0.071429     0.250000\n",
              "...          ...              ...  ...          ...          ...\n",
              "12888        1.0              0.0  ...     0.105263     0.000000\n",
              "12889        1.0              1.0  ...     0.043478     0.500000\n",
              "12890        1.0              0.0  ...     0.050847     0.500000\n",
              "12891        1.0              1.0  ...     0.078947     0.000000\n",
              "12892        1.0              1.0  ...     0.058824     0.500000\n",
              "\n",
              "[12893 rows x 10 columns]"
            ]
          },
          "metadata": {},
          "execution_count": 7
        }
      ]
    },
    {
      "cell_type": "code",
      "metadata": {
        "id": "moNSbFJZDcCF"
      },
      "source": [
        "# train test split\n",
        "dfx = df2.drop(columns= ['cur_brand'])\n",
        "X_train, X_test, y_train, y_test = train_test_split(dfx, \n",
        "                                                   df1['cur_brand'],\n",
        "                                                    test_size = 0.2,\n",
        "                                                    stratify=df1['cur_brand'], \n",
        "                                                    random_state=0)"
      ],
      "execution_count": 8,
      "outputs": []
    },
    {
      "cell_type": "markdown",
      "metadata": {
        "id": "3DgLJQ5CEISy"
      },
      "source": [
        "## 1. Model 1 - Logistic Regression"
      ]
    },
    {
      "cell_type": "code",
      "metadata": {
        "colab": {
          "base_uri": "https://localhost:8080/"
        },
        "id": "St1vzPNCJo7c",
        "outputId": "5f4bc34e-fb5e-4bf3-bcf3-a9f696f6867f"
      },
      "source": [
        "clf_lr = LogisticRegression(max_iter=1000)\n",
        "\n",
        "# cv\n",
        "scores = cross_val_score(clf_lr, X_train, y_train, scoring='r2', cv=5)\n",
        "print(scores)\n",
        "\n",
        "# make cross validated predictions\n",
        "y_pred = cross_val_predict(clf_lr, X_train, y_train, cv=5)\n",
        "\n",
        "print(r2_score(y_train, y_pred))\n",
        "print(\"%0.4f accuracy with a standard deviation of %0.2f\" % (scores.mean(), scores.std()))"
      ],
      "execution_count": 60,
      "outputs": [
        {
          "output_type": "stream",
          "name": "stdout",
          "text": [
            "[0.09830171 0.11388181 0.17620221 0.14698952 0.185594  ]\n",
            "0.1441903625637967\n",
            "0.1442 accuracy with a standard deviation of 0.03\n"
          ]
        }
      ]
    },
    {
      "cell_type": "code",
      "metadata": {
        "colab": {
          "base_uri": "https://localhost:8080/"
        },
        "id": "0QluJ_i-EYE2",
        "outputId": "cd4a9426-a315-47f2-b9e0-8e6bf974dd95"
      },
      "source": [
        "print(metrics.classification_report(y_true=y_test, y_pred=y_pred_lr))"
      ],
      "execution_count": 67,
      "outputs": [
        {
          "output_type": "stream",
          "name": "stdout",
          "text": [
            "              precision    recall  f1-score   support\n",
            "\n",
            "           0       0.87      0.74      0.80      1375\n",
            "           1       0.75      0.87      0.81      1204\n",
            "\n",
            "    accuracy                           0.80      2579\n",
            "   macro avg       0.81      0.81      0.80      2579\n",
            "weighted avg       0.81      0.80      0.80      2579\n",
            "\n"
          ]
        }
      ]
    },
    {
      "cell_type": "code",
      "metadata": {
        "colab": {
          "base_uri": "https://localhost:8080/"
        },
        "id": "eWWhhwTxEmyu",
        "outputId": "d7d0085e-35fa-43f0-f3c0-e7136c6c659e"
      },
      "source": [
        "#Get the confusion matrix\n",
        "cf_matrix = confusion_matrix(y_test, y_pred_lr)\n",
        "print(cf_matrix)"
      ],
      "execution_count": 13,
      "outputs": [
        {
          "output_type": "stream",
          "name": "stdout",
          "text": [
            "[[1018  357]\n",
            " [ 151 1053]]\n"
          ]
        }
      ]
    },
    {
      "cell_type": "code",
      "metadata": {
        "colab": {
          "base_uri": "https://localhost:8080/",
          "height": 286
        },
        "id": "Q_rH4L48EgVz",
        "outputId": "bef5b85f-4f21-4815-c412-7b6c4bed1191"
      },
      "source": [
        "group_names = ['True Neg','False Pos','False Neg','True Pos']\n",
        "group_counts = [\"{0:0.0f}\".format(value) for value in\n",
        "                cf_matrix.flatten()]\n",
        "group_percentages = [\"{0:.2%}\".format(value) for value in\n",
        "                     cf_matrix.flatten()/np.sum(cf_matrix)]\n",
        "labels = [f\"{v1}\\n{v2}\\n{v3}\" for v1, v2, v3 in\n",
        "          zip(group_names,group_counts,group_percentages)]\n",
        "labels = np.asarray(labels).reshape(2,2)\n",
        "sns.set(rc={'figure.figsize':(8,4)})\n",
        "sns.heatmap(cf_matrix, annot=labels, fmt='', cmap='Reds')"
      ],
      "execution_count": 14,
      "outputs": [
        {
          "output_type": "execute_result",
          "data": {
            "text/plain": [
              "<matplotlib.axes._subplots.AxesSubplot at 0x7eff8f973d90>"
            ]
          },
          "metadata": {},
          "execution_count": 14
        },
        {
          "output_type": "display_data",
          "data": {
            "image/png": "[encoded data removed]",
            "text/plain": [
              "<Figure size 576x288 with 2 Axes>"
            ]
          },
          "metadata": {}
        }
      ]
    },
    {
      "cell_type": "code",
      "metadata": {
        "colab": {
          "base_uri": "https://localhost:8080/",
          "height": 364
        },
        "id": "uG-3XZ0DElnW",
        "outputId": "729cd49b-fb9c-437e-fdfd-7d7413f45577"
      },
      "source": [
        "importances = pd.DataFrame(data={\n",
        "    'Attribute': X_train.columns,\n",
        "    'Importance': clf_lr.coef_[0]\n",
        "})\n",
        "importances = importances.sort_values(by='Importance', ascending=False)\n",
        "\n",
        "plt.bar(x=importances['Attribute'], height=importances['Importance'], color='#FF007F')\n",
        "plt.title('Feature Importance from Coefficient', size=20)\n",
        "sns.set(rc={'figure.figsize':(8,4)})\n",
        "plt.xticks(rotation='vertical')\n",
        "plt.show()"
      ],
      "execution_count": 15,
      "outputs": [
        {
          "output_type": "display_data",
          "data": {
            "image/png": "[encoded data removed]",
            "text/plain": [
              "<Figure size 576x288 with 1 Axes>"
            ]
          },
          "metadata": {}
        }
      ]
    },
    {
      "cell_type": "code",
      "metadata": {
        "colab": {
          "base_uri": "https://localhost:8080/",
          "height": 303
        },
        "id": "oBVL4nLIFA5Q",
        "outputId": "6ce2b985-a9f1-4a22-d293-24c1e6447f1b"
      },
      "source": [
        "# drawing\n",
        "lr_probs = clf_lr.predict_proba(X_test)\n",
        " \n",
        "# keep probabilities for the positive outcome only\n",
        "lr_probs = lr_probs[:, 1]\n",
        " \n",
        "# calculate scores  Area Under Cruve\n",
        "lr_auc = roc_auc_score(y_test,lr_probs)\n",
        " \n",
        "# summarize scores\n",
        "print('Logistic: ROC AUC=%.3f' % (lr_auc))\n",
        " \n",
        "# calculate roc curves\n",
        "fpr, tpr, thresholds = roc_curve(y_test,lr_probs)\n",
        " \n",
        "# plot the roc curve for the model\n",
        "plt.plot([0, 1], [0, 1], 'k--',label='Random Predictor')  # draw diag\n",
        "plt.plot(fpr, tpr, marker='.', color='darkorange',label='Logistic') # draw ROC\n",
        "# axis labels\n",
        "plt.xlabel('False Positive Rate')\n",
        "plt.ylabel('True Positive Rate')\n",
        "# show the legend\n",
        "plt.legend()\n",
        "# show the plot\n",
        "plt.show()\n"
      ],
      "execution_count": 16,
      "outputs": [
        {
          "output_type": "stream",
          "name": "stdout",
          "text": [
            "Logistic: ROC AUC=0.837\n"
          ]
        },
        {
          "output_type": "display_data",
          "data": {
            "image/png": "[encoded data removed]",
            "text/plain": [
              "<Figure size 576x288 with 1 Axes>"
            ]
          },
          "metadata": {}
        }
      ]
    },
    {
      "cell_type": "markdown",
      "metadata": {
        "id": "CP0uvVDIFN31"
      },
      "source": [
        "## Model 2 - Decision Tree "
      ]
    },
    {
      "cell_type": "code",
      "metadata": {
        "colab": {
          "base_uri": "https://localhost:8080/"
        },
        "id": "oEEKTIpdFJVV",
        "outputId": "36674ae8-29fe-4c6d-e85b-0e137f29d296"
      },
      "source": [
        "clf_dt = tree.DecisionTreeClassifier(max_depth =4)\n",
        "\n",
        "# cv\n",
        "scores = cross_val_score(clf_dt, X_train, y_train, scoring='r2', cv=5)\n",
        "print(scores)\n",
        "\n",
        "# make cross validated predictions\n",
        "y_pred = cross_val_predict(clf_dt, X_train, y_train, cv=5)\n",
        "\n",
        "print(r2_score(y_train, y_pred))\n",
        "print(\"%0.4f accuracy with a standard deviation of %0.2f\" % (scores.mean(), scores.std()))\n"
      ],
      "execution_count": 76,
      "outputs": [
        {
          "output_type": "stream",
          "name": "stdout",
          "text": [
            "[0.09440668 0.11777683 0.17620221 0.15283206 0.18364566]\n",
            "0.1449694336948265\n",
            "0.1450 accuracy with a standard deviation of 0.03\n"
          ]
        }
      ]
    },
    {
      "cell_type": "code",
      "metadata": {
        "colab": {
          "base_uri": "https://localhost:8080/"
        },
        "id": "yDJcARzQNSCd",
        "outputId": "6757d648-50dc-46e4-a84f-4800390d3e4b"
      },
      "source": [
        "clf_dt.fit(X_train, y_train)\n",
        "# Predict \n",
        "y_pred_dt = clf_dt.predict(X_test)\n",
        "# Accuracy\n",
        "print(\"accuracy: \", metrics.accuracy_score(y_test, y_pred_dt))"
      ],
      "execution_count": 77,
      "outputs": [
        {
          "output_type": "stream",
          "name": "stdout",
          "text": [
            "accuracy:  0.8030244280728964\n"
          ]
        }
      ]
    },
    {
      "cell_type": "code",
      "metadata": {
        "colab": {
          "base_uri": "https://localhost:8080/"
        },
        "id": "EwZ14WIGFeiE",
        "outputId": "654b7593-4fb2-44ee-884c-fd87f5ea34f0"
      },
      "source": [
        "print(metrics.classification_report(y_true=y_test, y_pred=y_pred_dt))"
      ],
      "execution_count": 19,
      "outputs": [
        {
          "output_type": "stream",
          "name": "stdout",
          "text": [
            "              precision    recall  f1-score   support\n",
            "\n",
            "           0       0.88      0.74      0.80      1375\n",
            "           1       0.74      0.88      0.81      1204\n",
            "\n",
            "    accuracy                           0.80      2579\n",
            "   macro avg       0.81      0.81      0.80      2579\n",
            "weighted avg       0.81      0.80      0.80      2579\n",
            "\n"
          ]
        }
      ]
    },
    {
      "cell_type": "code",
      "metadata": {
        "colab": {
          "base_uri": "https://localhost:8080/"
        },
        "id": "e6B7nmypFeeQ",
        "outputId": "c45aab40-b09b-44d3-e09c-a21b07bdfe00"
      },
      "source": [
        "#Get the confusion matrix\n",
        "cf_matrix = confusion_matrix(y_test, y_pred_dt)\n",
        "print(cf_matrix)"
      ],
      "execution_count": 20,
      "outputs": [
        {
          "output_type": "stream",
          "name": "stdout",
          "text": [
            "[[1011  364]\n",
            " [ 144 1060]]\n"
          ]
        }
      ]
    },
    {
      "cell_type": "code",
      "metadata": {
        "colab": {
          "base_uri": "https://localhost:8080/",
          "height": 286
        },
        "id": "4l2mG87oFebs",
        "outputId": "ee84199a-970a-4e10-f5f0-b0b7cdd97898"
      },
      "source": [
        "group_names = ['True Neg','False Pos','False Neg','True Pos']\n",
        "group_counts = [\"{0:0.0f}\".format(value) for value in\n",
        "                cf_matrix.flatten()]\n",
        "group_percentages = [\"{0:.2%}\".format(value) for value in\n",
        "                     cf_matrix.flatten()/np.sum(cf_matrix)]\n",
        "labels = [f\"{v1}\\n{v2}\\n{v3}\" for v1, v2, v3 in\n",
        "          zip(group_names,group_counts,group_percentages)]\n",
        "labels = np.asarray(labels).reshape(2,2)\n",
        "sns.set(rc={'figure.figsize':(8,4)})\n",
        "sns.heatmap(cf_matrix, annot=labels, fmt='', cmap='Reds')"
      ],
      "execution_count": 21,
      "outputs": [
        {
          "output_type": "execute_result",
          "data": {
            "text/plain": [
              "<matplotlib.axes._subplots.AxesSubplot at 0x7eff8f7b9490>"
            ]
          },
          "metadata": {},
          "execution_count": 21
        },
        {
          "output_type": "display_data",
          "data": {
            "image/png": "[encoded data removed]",
            "text/plain": [
              "<Figure size 576x288 with 2 Axes>"
            ]
          },
          "metadata": {}
        }
      ]
    },
    {
      "cell_type": "code",
      "metadata": {
        "colab": {
          "base_uri": "https://localhost:8080/"
        },
        "id": "r-NNbfbFFeYy",
        "outputId": "2be708ae-7e82-451a-ca3e-f27cd465b8c0"
      },
      "source": [
        "feat_importance = clf_dt.tree_.compute_feature_importances(normalize=False)\n",
        "feat_importance"
      ],
      "execution_count": 22,
      "outputs": [
        {
          "output_type": "execute_result",
          "data": {
            "text/plain": [
              "array([0.17140065, 0.00097062, 0.        , 0.        , 0.        ,\n",
              "       0.00439882, 0.00059302, 0.00630234, 0.00374086])"
            ]
          },
          "metadata": {},
          "execution_count": 22
        }
      ]
    },
    {
      "cell_type": "code",
      "metadata": {
        "colab": {
          "base_uri": "https://localhost:8080/",
          "height": 364
        },
        "id": "qLiNqGkoFeV9",
        "outputId": "fb24dcab-0fd2-4ffe-c689-72fa536ecbb8"
      },
      "source": [
        "importances = pd.DataFrame(data={\n",
        "    'Attribute': X_train.columns,\n",
        "    'Importance': feat_importance\n",
        "})\n",
        "importances = importances.sort_values(by='Importance', ascending=False)\n",
        "\n",
        "plt.bar(x=importances['Attribute'], height=importances['Importance'], color='#FF007F')\n",
        "plt.title('Feature Importance from Coefficient', size=20)\n",
        "plt.xticks(rotation='vertical')\n",
        "sns.set(rc={'figure.figsize':(12,4)})\n",
        "plt.show()"
      ],
      "execution_count": 23,
      "outputs": [
        {
          "output_type": "display_data",
          "data": {
            "image/png": "[encoded data removed]",
            "text/plain": [
              "<Figure size 576x288 with 1 Axes>"
            ]
          },
          "metadata": {}
        }
      ]
    },
    {
      "cell_type": "markdown",
      "metadata": {
        "id": "d_mYX9rwPYZF"
      },
      "source": [
        "## Model 2 - Decision Tree (Hyperparameter Tuning)"
      ]
    },
    {
      "cell_type": "markdown",
      "metadata": {
        "id": "usFRnfB0FwTM"
      },
      "source": [
        "## Model 3 - LightGBM"
      ]
    },
    {
      "cell_type": "code",
      "metadata": {
        "colab": {
          "base_uri": "https://localhost:8080/"
        },
        "id": "Ozt_TRyJFqIM",
        "outputId": "07e35edf-3b7d-4686-df38-4a9df6dc121d"
      },
      "source": [
        "lgb_clf = LGBMClassifier(n_estimators = 1000, \n",
        "                         learning_rate = 0.01)\n",
        "\n",
        "# cv\n",
        "scores = cross_val_score(lgb_clf, X_train, y_train, scoring='r2', cv=5)\n",
        "print(scores)\n",
        "\n",
        "# make cross validated predictions\n",
        "y_pred = cross_val_predict(lgb_clf, X_train, y_train, cv=5)\n",
        "\n",
        "print(r2_score(y_train, y_pred))\n",
        "print(\"%0.4f accuracy with a standard deviation of %0.2f\" % (scores.mean(), scores.std()))\n"
      ],
      "execution_count": 69,
      "outputs": [
        {
          "output_type": "stream",
          "name": "stdout",
          "text": [
            "[0.09245917 0.06324648 0.18204475 0.1430945  0.15442057]\n",
            "0.1270507976811418\n",
            "0.1271 accuracy with a standard deviation of 0.04\n"
          ]
        }
      ]
    },
    {
      "cell_type": "code",
      "metadata": {
        "id": "O86_hBZiNoh1"
      },
      "source": [
        "lgb_clf.fit(X_train, y_train)\n",
        "\n",
        "# Predict \n",
        "y_pred_lgb = lgb_clf.predict(X_test)\n",
        "\n",
        "# Accuracy\n",
        "print(\"accuracy: \", metrics.accuracy_score(y_test, y_pred_lgb))"
      ],
      "execution_count": null,
      "outputs": []
    },
    {
      "cell_type": "code",
      "metadata": {
        "colab": {
          "base_uri": "https://localhost:8080/"
        },
        "id": "rRfeY9f4GTTZ",
        "outputId": "25ab3ef1-c0ac-4b56-8e94-ddb9e79fe7e6"
      },
      "source": [
        "print(metrics.classification_report(y_true=y_test, y_pred=y_pred_lgb))"
      ],
      "execution_count": 26,
      "outputs": [
        {
          "output_type": "stream",
          "name": "stdout",
          "text": [
            "              precision    recall  f1-score   support\n",
            "\n",
            "           0       0.86      0.74      0.79      1375\n",
            "           1       0.74      0.86      0.80      1204\n",
            "\n",
            "    accuracy                           0.80      2579\n",
            "   macro avg       0.80      0.80      0.80      2579\n",
            "weighted avg       0.80      0.80      0.80      2579\n",
            "\n"
          ]
        }
      ]
    },
    {
      "cell_type": "code",
      "metadata": {
        "colab": {
          "base_uri": "https://localhost:8080/"
        },
        "id": "NyleUCnUGYOG",
        "outputId": "382a67d7-c7d0-4fd7-b2c9-9d1b21c5ef34"
      },
      "source": [
        "#Get the confusion matrix\n",
        "cf_matrix = confusion_matrix(y_test, y_pred_lgb)\n",
        "print(cf_matrix)"
      ],
      "execution_count": 27,
      "outputs": [
        {
          "output_type": "stream",
          "name": "stdout",
          "text": [
            "[[1016  359]\n",
            " [ 169 1035]]\n"
          ]
        }
      ]
    },
    {
      "cell_type": "code",
      "metadata": {
        "colab": {
          "base_uri": "https://localhost:8080/",
          "height": 307
        },
        "id": "_61HSszgGcYt",
        "outputId": "893f2e77-0bdc-4a9b-ea0d-e28a058b10c3"
      },
      "source": [
        "group_names = ['True Neg','False Pos','False Neg','True Pos']\n",
        "group_counts = [\"{0:0.0f}\".format(value) for value in\n",
        "                cf_matrix.flatten()]\n",
        "group_percentages = [\"{0:.2%}\".format(value) for value in\n",
        "                     cf_matrix.flatten()/np.sum(cf_matrix)]\n",
        "labels = [f\"{v1}\\n{v2}\\n{v3}\" for v1, v2, v3 in\n",
        "          zip(group_names,group_counts,group_percentages)]\n",
        "labels = np.asarray(labels).reshape(2,2)\n",
        "plt.figure()\n",
        "plt.figure(figsize=(8,4))\n",
        "sns.heatmap(cf_matrix, annot=labels, fmt='', cmap='Reds')"
      ],
      "execution_count": 28,
      "outputs": [
        {
          "output_type": "execute_result",
          "data": {
            "text/plain": [
              "<matplotlib.axes._subplots.AxesSubplot at 0x7eff8e627610>"
            ]
          },
          "metadata": {},
          "execution_count": 28
        },
        {
          "output_type": "display_data",
          "data": {
            "text/plain": [
              "<Figure size 864x288 with 0 Axes>"
            ]
          },
          "metadata": {}
        },
        {
          "output_type": "display_data",
          "data": {
            "image/png": "[encoded data removed]",
            "text/plain": [
              "<Figure size 576x288 with 2 Axes>"
            ]
          },
          "metadata": {}
        }
      ]
    },
    {
      "cell_type": "code",
      "metadata": {
        "colab": {
          "base_uri": "https://localhost:8080/",
          "height": 318
        },
        "id": "rldXCXyQGfZm",
        "outputId": "e3b57ee9-68e4-4f25-9cd7-78eae075ad69"
      },
      "source": [
        "sns.set(rc={'figure.figsize':(8,4)})\n",
        "plot_importance(lgb_clf, color='r')"
      ],
      "execution_count": 30,
      "outputs": [
        {
          "output_type": "execute_result",
          "data": {
            "text/plain": [
              "<matplotlib.axes._subplots.AxesSubplot at 0x7eff8d65fa90>"
            ]
          },
          "metadata": {},
          "execution_count": 30
        },
        {
          "output_type": "display_data",
          "data": {
            "image/png": "[encoded data removed]",
            "text/plain": [
              "<Figure size 576x288 with 1 Axes>"
            ]
          },
          "metadata": {}
        }
      ]
    },
    {
      "cell_type": "markdown",
      "metadata": {
        "id": "83gCy1QcMisu"
      },
      "source": [
        "## Model 3 - LightGBM (hyperparameter tuning)"
      ]
    },
    {
      "cell_type": "code",
      "metadata": {
        "colab": {
          "base_uri": "https://localhost:8080/"
        },
        "id": "poudfPLaMiNo",
        "outputId": "66a1d528-c75f-4c63-9e6c-b6d5dbe6025d"
      },
      "source": [
        "# Grid search\n",
        "lgb_clf = LGBMClassifier()\n",
        "\n",
        "lgb_param_grid = {'learning_rate': np.arange(0.01, 0.10, 0.01),\n",
        "                  'n_estimators': np.arange(200, 1000, 200),\n",
        "                  'max_depth': [4,6,8,10]\n",
        "                  }\n",
        "\n",
        "random_lgb = RandomizedSearchCV(estimator=lgb_clf, \n",
        "                                    param_distributions=lgb_param_grid,\n",
        "                                    n_iter=100, \n",
        "                                    scoring='roc_auc', \n",
        "                                    cv=3, \n",
        "                                    verbose=1,\n",
        "                                    n_jobs=-1\n",
        "                                    )\n",
        "random_lgb.fit(X_train, y_train)\n",
        "print(\"Best parameters found: \",random_lgb.best_params_)"
      ],
      "execution_count": 73,
      "outputs": [
        {
          "output_type": "stream",
          "name": "stdout",
          "text": [
            "Fitting 3 folds for each of 100 candidates, totalling 300 fits\n"
          ]
        },
        {
          "output_type": "stream",
          "name": "stderr",
          "text": [
            "[Parallel(n_jobs=-1)]: Using backend LokyBackend with 2 concurrent workers.\n",
            "[Parallel(n_jobs=-1)]: Done  46 tasks      | elapsed:   23.0s\n",
            "[Parallel(n_jobs=-1)]: Done 196 tasks      | elapsed:  1.7min\n",
            "[Parallel(n_jobs=-1)]: Done 300 out of 300 | elapsed:  2.7min finished\n"
          ]
        },
        {
          "output_type": "stream",
          "name": "stdout",
          "text": [
            "Best parameters found:  {'n_estimators': 400, 'max_depth': 4, 'learning_rate': 0.01}\n"
          ]
        }
      ]
    },
    {
      "cell_type": "code",
      "metadata": {
        "colab": {
          "base_uri": "https://localhost:8080/"
        },
        "id": "Sx10HuMPMiJw",
        "outputId": "044ff690-39ae-40e0-a9ae-b211b51ce5de"
      },
      "source": [
        "# Use the best parameter to caculate roc_auc\n",
        "lgb_clf = LGBMClassifier(n_estimators = 400, \n",
        "                         max_depth=4,\n",
        "                         learning_rate = 0.01\n",
        "                         )\n",
        "lgb_clf.fit(X_train, y_train)\n",
        "\n",
        "# Predict \n",
        "y_pred_lgb = lgb_clf.predict(X_test)\n",
        "\n",
        "# Plot roc\n",
        "print(metrics.classification_report(y_true=y_test, y_pred=y_pred_lgb))"
      ],
      "execution_count": 74,
      "outputs": [
        {
          "output_type": "stream",
          "name": "stdout",
          "text": [
            "              precision    recall  f1-score   support\n",
            "\n",
            "           0       0.87      0.74      0.80      1375\n",
            "           1       0.74      0.88      0.81      1204\n",
            "\n",
            "    accuracy                           0.80      2579\n",
            "   macro avg       0.81      0.81      0.80      2579\n",
            "weighted avg       0.81      0.80      0.80      2579\n",
            "\n"
          ]
        }
      ]
    },
    {
      "cell_type": "markdown",
      "metadata": {
        "id": "9sZmD0TBHNpe"
      },
      "source": [
        "## Model 4 - ANN"
      ]
    },
    {
      "cell_type": "code",
      "metadata": {
        "id": "jWnQv4hNGpmD"
      },
      "source": [
        "# set the model\n",
        "model1 = tf.keras.models.Sequential()\n",
        "model1.add(tf.keras.layers.Dense(units=50, activation='relu', input_shape=(9, )))\n",
        "# model.add(tf.keras.layers.Dense(units=50, activation='relu'))\n",
        "model1.add(tf.keras.layers.Dense(units=1, activation='sigmoid'))"
      ],
      "execution_count": 38,
      "outputs": []
    },
    {
      "cell_type": "code",
      "metadata": {
        "colab": {
          "base_uri": "https://localhost:8080/"
        },
        "id": "CEVnYFvQHVW-",
        "outputId": "37c9622f-0b87-45c5-e740-58f140124d80"
      },
      "source": [
        "model1.summary()"
      ],
      "execution_count": 39,
      "outputs": [
        {
          "output_type": "stream",
          "name": "stdout",
          "text": [
            "Model: \"sequential_1\"\n",
            "_________________________________________________________________\n",
            "Layer (type)                 Output Shape              Param #   \n",
            "=================================================================\n",
            "dense_2 (Dense)              (None, 50)                500       \n",
            "_________________________________________________________________\n",
            "dense_3 (Dense)              (None, 1)                 51        \n",
            "=================================================================\n",
            "Total params: 551\n",
            "Trainable params: 551\n",
            "Non-trainable params: 0\n",
            "_________________________________________________________________\n"
          ]
        }
      ]
    },
    {
      "cell_type": "code",
      "metadata": {
        "id": "5KjgWK-SHV1A"
      },
      "source": [
        "model1.compile(optimizer='Adam', loss='binary_crossentropy', metrics = ['accuracy'])"
      ],
      "execution_count": 40,
      "outputs": []
    },
    {
      "cell_type": "code",
      "metadata": {
        "colab": {
          "base_uri": "https://localhost:8080/"
        },
        "id": "jeD1HxT6HYqW",
        "outputId": "b1bed5bb-0b12-40a4-d844-1e20251a9a1c"
      },
      "source": [
        "X_train = np.array(X_train).reshape(-1,9)\n",
        "X_train.shape"
      ],
      "execution_count": 41,
      "outputs": [
        {
          "output_type": "execute_result",
          "data": {
            "text/plain": [
              "(10314, 9)"
            ]
          },
          "metadata": {},
          "execution_count": 41
        }
      ]
    },
    {
      "cell_type": "code",
      "metadata": {
        "colab": {
          "base_uri": "https://localhost:8080/"
        },
        "id": "tOnZN9y6HaaK",
        "outputId": "05c1041c-aa95-4d0b-9b15-3625c0218453"
      },
      "source": [
        "# train the model\n",
        "epochs_hist = model1.fit(X_train, y_train, epochs = 100, batch_size=50)"
      ],
      "execution_count": 42,
      "outputs": [
        {
          "output_type": "stream",
          "name": "stdout",
          "text": [
            "Epoch 1/100\n",
            "207/207 [==============================] - 1s 1ms/step - loss: 0.5713 - accuracy: 0.7712\n",
            "Epoch 2/100\n",
            "207/207 [==============================] - 0s 1ms/step - loss: 0.4999 - accuracy: 0.7874\n",
            "Epoch 3/100\n",
            "207/207 [==============================] - 0s 1ms/step - loss: 0.4952 - accuracy: 0.7874\n",
            "Epoch 4/100\n",
            "207/207 [==============================] - 0s 1ms/step - loss: 0.4936 - accuracy: 0.7870\n",
            "Epoch 5/100\n",
            "207/207 [==============================] - 0s 1ms/step - loss: 0.4924 - accuracy: 0.7870\n",
            "Epoch 6/100\n",
            "207/207 [==============================] - 0s 1ms/step - loss: 0.4924 - accuracy: 0.7870\n",
            "Epoch 7/100\n",
            "207/207 [==============================] - 0s 1ms/step - loss: 0.4912 - accuracy: 0.7867\n",
            "Epoch 8/100\n",
            "207/207 [==============================] - 0s 1ms/step - loss: 0.4909 - accuracy: 0.7866\n",
            "Epoch 9/100\n",
            "207/207 [==============================] - 0s 1ms/step - loss: 0.4910 - accuracy: 0.7869\n",
            "Epoch 10/100\n",
            "207/207 [==============================] - 0s 1ms/step - loss: 0.4907 - accuracy: 0.7866\n",
            "Epoch 11/100\n",
            "207/207 [==============================] - 0s 1ms/step - loss: 0.4903 - accuracy: 0.7868\n",
            "Epoch 12/100\n",
            "207/207 [==============================] - 0s 1ms/step - loss: 0.4904 - accuracy: 0.7865\n",
            "Epoch 13/100\n",
            "207/207 [==============================] - 0s 1ms/step - loss: 0.4901 - accuracy: 0.7867\n",
            "Epoch 14/100\n",
            "207/207 [==============================] - 0s 1ms/step - loss: 0.4898 - accuracy: 0.7866\n",
            "Epoch 15/100\n",
            "207/207 [==============================] - 0s 1ms/step - loss: 0.4899 - accuracy: 0.7869\n",
            "Epoch 16/100\n",
            "207/207 [==============================] - 0s 1ms/step - loss: 0.4893 - accuracy: 0.7867\n",
            "Epoch 17/100\n",
            "207/207 [==============================] - 0s 1ms/step - loss: 0.4891 - accuracy: 0.7869\n",
            "Epoch 18/100\n",
            "207/207 [==============================] - 0s 1ms/step - loss: 0.4890 - accuracy: 0.7865\n",
            "Epoch 19/100\n",
            "207/207 [==============================] - 0s 1ms/step - loss: 0.4891 - accuracy: 0.7868\n",
            "Epoch 20/100\n",
            "207/207 [==============================] - 0s 1ms/step - loss: 0.4895 - accuracy: 0.7870\n",
            "Epoch 21/100\n",
            "207/207 [==============================] - 0s 1ms/step - loss: 0.4883 - accuracy: 0.7868\n",
            "Epoch 22/100\n",
            "207/207 [==============================] - 0s 1ms/step - loss: 0.4886 - accuracy: 0.7871\n",
            "Epoch 23/100\n",
            "207/207 [==============================] - 0s 1ms/step - loss: 0.4884 - accuracy: 0.7867\n",
            "Epoch 24/100\n",
            "207/207 [==============================] - 0s 1ms/step - loss: 0.4882 - accuracy: 0.7868\n",
            "Epoch 25/100\n",
            "207/207 [==============================] - 0s 1ms/step - loss: 0.4881 - accuracy: 0.7869\n",
            "Epoch 26/100\n",
            "207/207 [==============================] - 0s 1ms/step - loss: 0.4878 - accuracy: 0.7866\n",
            "Epoch 27/100\n",
            "207/207 [==============================] - 0s 1ms/step - loss: 0.4877 - accuracy: 0.7866\n",
            "Epoch 28/100\n",
            "207/207 [==============================] - 0s 1ms/step - loss: 0.4883 - accuracy: 0.7869\n",
            "Epoch 29/100\n",
            "207/207 [==============================] - 0s 1ms/step - loss: 0.4871 - accuracy: 0.7872\n",
            "Epoch 30/100\n",
            "207/207 [==============================] - 0s 1ms/step - loss: 0.4876 - accuracy: 0.7867\n",
            "Epoch 31/100\n",
            "207/207 [==============================] - 0s 1ms/step - loss: 0.4870 - accuracy: 0.7869\n",
            "Epoch 32/100\n",
            "207/207 [==============================] - 0s 1ms/step - loss: 0.4875 - accuracy: 0.7869\n",
            "Epoch 33/100\n",
            "207/207 [==============================] - 0s 1ms/step - loss: 0.4869 - accuracy: 0.7869\n",
            "Epoch 34/100\n",
            "207/207 [==============================] - 0s 1ms/step - loss: 0.4867 - accuracy: 0.7870\n",
            "Epoch 35/100\n",
            "207/207 [==============================] - 0s 1ms/step - loss: 0.4868 - accuracy: 0.7869\n",
            "Epoch 36/100\n",
            "207/207 [==============================] - 0s 1ms/step - loss: 0.4862 - accuracy: 0.7870\n",
            "Epoch 37/100\n",
            "207/207 [==============================] - 0s 1ms/step - loss: 0.4863 - accuracy: 0.7868\n",
            "Epoch 38/100\n",
            "207/207 [==============================] - 0s 1ms/step - loss: 0.4865 - accuracy: 0.7866\n",
            "Epoch 39/100\n",
            "207/207 [==============================] - 0s 1ms/step - loss: 0.4856 - accuracy: 0.7869\n",
            "Epoch 40/100\n",
            "207/207 [==============================] - 0s 1ms/step - loss: 0.4858 - accuracy: 0.7867\n",
            "Epoch 41/100\n",
            "207/207 [==============================] - 0s 1ms/step - loss: 0.4858 - accuracy: 0.7873\n",
            "Epoch 42/100\n",
            "207/207 [==============================] - 0s 1ms/step - loss: 0.4857 - accuracy: 0.7866\n",
            "Epoch 43/100\n",
            "207/207 [==============================] - 0s 1ms/step - loss: 0.4855 - accuracy: 0.7874\n",
            "Epoch 44/100\n",
            "207/207 [==============================] - 0s 1ms/step - loss: 0.4861 - accuracy: 0.7873\n",
            "Epoch 45/100\n",
            "207/207 [==============================] - 0s 1ms/step - loss: 0.4856 - accuracy: 0.7875\n",
            "Epoch 46/100\n",
            "207/207 [==============================] - 0s 1ms/step - loss: 0.4853 - accuracy: 0.7869\n",
            "Epoch 47/100\n",
            "207/207 [==============================] - 0s 1ms/step - loss: 0.4850 - accuracy: 0.7864\n",
            "Epoch 48/100\n",
            "207/207 [==============================] - 0s 1ms/step - loss: 0.4852 - accuracy: 0.7870\n",
            "Epoch 49/100\n",
            "207/207 [==============================] - 0s 1ms/step - loss: 0.4852 - accuracy: 0.7867\n",
            "Epoch 50/100\n",
            "207/207 [==============================] - 0s 1ms/step - loss: 0.4854 - accuracy: 0.7874\n",
            "Epoch 51/100\n",
            "207/207 [==============================] - 0s 1ms/step - loss: 0.4845 - accuracy: 0.7870\n",
            "Epoch 52/100\n",
            "207/207 [==============================] - 0s 1ms/step - loss: 0.4848 - accuracy: 0.7869\n",
            "Epoch 53/100\n",
            "207/207 [==============================] - 0s 1ms/step - loss: 0.4841 - accuracy: 0.7873\n",
            "Epoch 54/100\n",
            "207/207 [==============================] - 0s 1ms/step - loss: 0.4858 - accuracy: 0.7866\n",
            "Epoch 55/100\n",
            "207/207 [==============================] - 0s 1ms/step - loss: 0.4841 - accuracy: 0.7872\n",
            "Epoch 56/100\n",
            "207/207 [==============================] - 0s 1ms/step - loss: 0.4841 - accuracy: 0.7873\n",
            "Epoch 57/100\n",
            "207/207 [==============================] - 0s 1ms/step - loss: 0.4842 - accuracy: 0.7871\n",
            "Epoch 58/100\n",
            "207/207 [==============================] - 0s 1ms/step - loss: 0.4840 - accuracy: 0.7870\n",
            "Epoch 59/100\n",
            "207/207 [==============================] - 0s 1ms/step - loss: 0.4840 - accuracy: 0.7869\n",
            "Epoch 60/100\n",
            "207/207 [==============================] - 0s 1ms/step - loss: 0.4840 - accuracy: 0.7871\n",
            "Epoch 61/100\n",
            "207/207 [==============================] - 0s 1ms/step - loss: 0.4835 - accuracy: 0.7871\n",
            "Epoch 62/100\n",
            "207/207 [==============================] - 0s 1ms/step - loss: 0.4844 - accuracy: 0.7869\n",
            "Epoch 63/100\n",
            "207/207 [==============================] - 0s 1ms/step - loss: 0.4837 - accuracy: 0.7872\n",
            "Epoch 64/100\n",
            "207/207 [==============================] - 0s 1ms/step - loss: 0.4835 - accuracy: 0.7868\n",
            "Epoch 65/100\n",
            "207/207 [==============================] - 0s 1ms/step - loss: 0.4835 - accuracy: 0.7869\n",
            "Epoch 66/100\n",
            "207/207 [==============================] - 0s 1ms/step - loss: 0.4833 - accuracy: 0.7869\n",
            "Epoch 67/100\n",
            "207/207 [==============================] - 0s 1ms/step - loss: 0.4830 - accuracy: 0.7871\n",
            "Epoch 68/100\n",
            "207/207 [==============================] - 0s 1ms/step - loss: 0.4831 - accuracy: 0.7870\n",
            "Epoch 69/100\n",
            "207/207 [==============================] - 0s 1ms/step - loss: 0.4830 - accuracy: 0.7869\n",
            "Epoch 70/100\n",
            "207/207 [==============================] - 0s 1ms/step - loss: 0.4832 - accuracy: 0.7869\n",
            "Epoch 71/100\n",
            "207/207 [==============================] - 0s 1ms/step - loss: 0.4825 - accuracy: 0.7865\n",
            "Epoch 72/100\n",
            "207/207 [==============================] - 0s 1ms/step - loss: 0.4828 - accuracy: 0.7869\n",
            "Epoch 73/100\n",
            "207/207 [==============================] - 0s 1ms/step - loss: 0.4824 - accuracy: 0.7868\n",
            "Epoch 74/100\n",
            "207/207 [==============================] - 0s 1ms/step - loss: 0.4823 - accuracy: 0.7872\n",
            "Epoch 75/100\n",
            "207/207 [==============================] - 0s 1ms/step - loss: 0.4823 - accuracy: 0.7878\n",
            "Epoch 76/100\n",
            "207/207 [==============================] - 0s 1ms/step - loss: 0.4825 - accuracy: 0.7872\n",
            "Epoch 77/100\n",
            "207/207 [==============================] - 0s 1ms/step - loss: 0.4823 - accuracy: 0.7871\n",
            "Epoch 78/100\n",
            "207/207 [==============================] - 0s 1ms/step - loss: 0.4823 - accuracy: 0.7860\n",
            "Epoch 79/100\n",
            "207/207 [==============================] - 0s 1ms/step - loss: 0.4821 - accuracy: 0.7871\n",
            "Epoch 80/100\n",
            "207/207 [==============================] - 0s 1ms/step - loss: 0.4819 - accuracy: 0.7871\n",
            "Epoch 81/100\n",
            "207/207 [==============================] - 0s 1ms/step - loss: 0.4820 - accuracy: 0.7870\n",
            "Epoch 82/100\n",
            "207/207 [==============================] - 0s 1ms/step - loss: 0.4819 - accuracy: 0.7882\n",
            "Epoch 83/100\n",
            "207/207 [==============================] - 0s 1ms/step - loss: 0.4820 - accuracy: 0.7873\n",
            "Epoch 84/100\n",
            "207/207 [==============================] - 0s 1ms/step - loss: 0.4825 - accuracy: 0.7868\n",
            "Epoch 85/100\n",
            "207/207 [==============================] - 0s 1ms/step - loss: 0.4816 - accuracy: 0.7870\n",
            "Epoch 86/100\n",
            "207/207 [==============================] - 0s 1ms/step - loss: 0.4817 - accuracy: 0.7867\n",
            "Epoch 87/100\n",
            "207/207 [==============================] - 0s 1ms/step - loss: 0.4817 - accuracy: 0.7871\n",
            "Epoch 88/100\n",
            "207/207 [==============================] - 0s 1ms/step - loss: 0.4816 - accuracy: 0.7870\n",
            "Epoch 89/100\n",
            "207/207 [==============================] - 0s 1ms/step - loss: 0.4816 - accuracy: 0.7870\n",
            "Epoch 90/100\n",
            "207/207 [==============================] - 0s 1ms/step - loss: 0.4811 - accuracy: 0.7869\n",
            "Epoch 91/100\n",
            "207/207 [==============================] - 0s 1ms/step - loss: 0.4819 - accuracy: 0.7872\n",
            "Epoch 92/100\n",
            "207/207 [==============================] - 0s 1ms/step - loss: 0.4809 - accuracy: 0.7873\n",
            "Epoch 93/100\n",
            "207/207 [==============================] - 0s 1ms/step - loss: 0.4811 - accuracy: 0.7869\n",
            "Epoch 94/100\n",
            "207/207 [==============================] - 0s 1ms/step - loss: 0.4816 - accuracy: 0.7872\n",
            "Epoch 95/100\n",
            "207/207 [==============================] - 0s 1ms/step - loss: 0.4812 - accuracy: 0.7876\n",
            "Epoch 96/100\n",
            "207/207 [==============================] - 0s 1ms/step - loss: 0.4814 - accuracy: 0.7870\n",
            "Epoch 97/100\n",
            "207/207 [==============================] - 0s 1ms/step - loss: 0.4812 - accuracy: 0.7871\n",
            "Epoch 98/100\n",
            "207/207 [==============================] - 0s 1ms/step - loss: 0.4811 - accuracy: 0.7873\n",
            "Epoch 99/100\n",
            "207/207 [==============================] - 0s 1ms/step - loss: 0.4811 - accuracy: 0.7872\n",
            "Epoch 100/100\n",
            "207/207 [==============================] - 0s 1ms/step - loss: 0.4807 - accuracy: 0.7878\n"
          ]
        }
      ]
    },
    {
      "cell_type": "code",
      "metadata": {
        "colab": {
          "base_uri": "https://localhost:8080/"
        },
        "id": "N165kOuFHfhC",
        "outputId": "8f17b281-8d68-46ba-8b14-779b2594249b"
      },
      "source": [
        "# Predict \n",
        "y_pred_ann = model1.predict(X_test)\n",
        "y_pred_ann"
      ],
      "execution_count": 45,
      "outputs": [
        {
          "output_type": "execute_result",
          "data": {
            "text/plain": [
              "array([[0.8767262 ],\n",
              "       [0.4974654 ],\n",
              "       [0.7641157 ],\n",
              "       ...,\n",
              "       [0.8676319 ],\n",
              "       [0.09274796],\n",
              "       [0.10426474]], dtype=float32)"
            ]
          },
          "metadata": {},
          "execution_count": 45
        }
      ]
    },
    {
      "cell_type": "code",
      "metadata": {
        "colab": {
          "base_uri": "https://localhost:8080/"
        },
        "id": "A8VAjOGqH75A",
        "outputId": "f930e1a8-e71a-41b3-948e-b3e373852a82"
      },
      "source": [
        "y_test"
      ],
      "execution_count": 46,
      "outputs": [
        {
          "output_type": "execute_result",
          "data": {
            "text/plain": [
              "5728     1\n",
              "10553    1\n",
              "2700     1\n",
              "3952     0\n",
              "1201     0\n",
              "        ..\n",
              "11713    1\n",
              "277      1\n",
              "8739     1\n",
              "10071    0\n",
              "453      0\n",
              "Name: cur_brand, Length: 2579, dtype: int64"
            ]
          },
          "metadata": {},
          "execution_count": 46
        }
      ]
    },
    {
      "cell_type": "code",
      "metadata": {
        "id": "4NI-VwSUIBRd"
      },
      "source": [
        "y_pred_ann = (y_pred_ann > df1['cur_brand'].mean())"
      ],
      "execution_count": 47,
      "outputs": []
    },
    {
      "cell_type": "code",
      "metadata": {
        "colab": {
          "base_uri": "https://localhost:8080/",
          "height": 289
        },
        "id": "Sjc0DKkbILhy",
        "outputId": "4668d39b-af9f-46f6-b2af-8eb7f73d790a"
      },
      "source": [
        "# visualize the confusion matrix\n",
        "cm = confusion_matrix(y_test, y_pred_ann)\n",
        "sns.heatmap(cm, annot=True)"
      ],
      "execution_count": 48,
      "outputs": [
        {
          "output_type": "execute_result",
          "data": {
            "text/plain": [
              "<matplotlib.axes._subplots.AxesSubplot at 0x7eff40c0d9d0>"
            ]
          },
          "metadata": {},
          "execution_count": 48
        },
        {
          "output_type": "display_data",
          "data": {
            "image/png": "[encoded data removed]",
            "text/plain": [
              "<Figure size 576x288 with 2 Axes>"
            ]
          },
          "metadata": {}
        }
      ]
    },
    {
      "cell_type": "code",
      "metadata": {
        "colab": {
          "base_uri": "https://localhost:8080/",
          "height": 307
        },
        "id": "rIC2QgnoIV9q",
        "outputId": "c5f234df-4bee-4e08-dce5-f494f38c1dfc"
      },
      "source": [
        "cf_matrix = confusion_matrix(y_test, y_pred_ann)\n",
        "\n",
        "group_names = ['True Neg','False Pos','False Neg','True Pos']\n",
        "group_counts = [\"{0:0.0f}\".format(value) for value in\n",
        "                cf_matrix.flatten()]\n",
        "group_percentages = [\"{0:.2%}\".format(value) for value in\n",
        "                     cf_matrix.flatten()/np.sum(cf_matrix)]\n",
        "labels = [f\"{v1}\\n{v2}\\n{v3}\" for v1, v2, v3 in\n",
        "          zip(group_names,group_counts,group_percentages)]\n",
        "labels = np.asarray(labels).reshape(2,2)\n",
        "plt.figure()\n",
        "plt.figure(figsize=(8,4))\n",
        "sns.heatmap(cf_matrix, annot=labels, fmt='', cmap='Reds')"
      ],
      "execution_count": 49,
      "outputs": [
        {
          "output_type": "execute_result",
          "data": {
            "text/plain": [
              "<matplotlib.axes._subplots.AxesSubplot at 0x7eff40b8dc50>"
            ]
          },
          "metadata": {},
          "execution_count": 49
        },
        {
          "output_type": "display_data",
          "data": {
            "text/plain": [
              "<Figure size 576x288 with 0 Axes>"
            ]
          },
          "metadata": {}
        },
        {
          "output_type": "display_data",
          "data": {
            "image/png": "[encoded data removed]",
            "text/plain": [
              "<Figure size 576x288 with 2 Axes>"
            ]
          },
          "metadata": {}
        }
      ]
    },
    {
      "cell_type": "code",
      "metadata": {
        "id": "aV-C08FfIWZz"
      },
      "source": [
        ""
      ],
      "execution_count": null,
      "outputs": []
    }
  ]
}
