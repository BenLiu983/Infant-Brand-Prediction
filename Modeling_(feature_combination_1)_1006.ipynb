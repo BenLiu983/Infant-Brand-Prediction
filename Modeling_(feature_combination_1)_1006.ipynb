{
  "nbformat": 4,
  "nbformat_minor": 0,
  "metadata": {
    "colab": {
      "name": "Modeling (feature combination 1) 1006.ipynb",
      "provenance": [],
      "collapsed_sections": [],
      "authorship_tag": "ABX9TyMvDSzW0VCJAzaKA72o9cMG",
      "include_colab_link": true
    },
    "kernelspec": {
      "name": "python3",
      "display_name": "Python 3"
    },
    "language_info": {
      "name": "python"
    }
  },
  "cells": [
    {
      "cell_type": "markdown",
      "metadata": {
        "id": "view-in-github",
        "colab_type": "text"
      },
      "source": [
        "<a href=\"https://colab.research.google.com/github/BenLiu983/Infant-Brand-Prediction/blob/Modeling/Modeling_(feature_combination_1)_1006.ipynb\" target=\"_parent\"><img src=\"https://colab.research.google.com/assets/colab-badge.svg\" alt=\"Open In Colab\"/></a>"
      ]
    },
    {
      "cell_type": "code",
      "metadata": {
        "colab": {
          "base_uri": "https://localhost:8080/"
        },
        "id": "GNIqumYpCqls",
        "outputId": "f8625d84-1ec0-4793-ab53-d50d65952c7a"
      },
      "source": [
        "from google.colab import drive\n",
        "drive.mount('/content/drive')"
      ],
      "execution_count": 1,
      "outputs": [
        {
          "output_type": "stream",
          "name": "stdout",
          "text": [
            "Mounted at /content/drive\n"
          ]
        }
      ]
    },
    {
      "cell_type": "code",
      "metadata": {
        "id": "gP0OcHlSCXOu"
      },
      "source": [
        "import pandas as pd\n",
        "import numpy as np\n",
        "import seaborn as sns \n",
        "from sklearn.neighbors import KNeighborsClassifier\n",
        "from sklearn.model_selection import train_test_split\n",
        "from sklearn.linear_model import LogisticRegression\n",
        "from sklearn import tree\n",
        "from sklearn import metrics\n",
        "from sklearn.metrics import roc_curve, roc_auc_score\n",
        "from sklearn.metrics import classification_report, confusion_matrix\n",
        "from sklearn import svm\n",
        "from sklearn.preprocessing import MinMaxScaler\n",
        "from sklearn.model_selection import cross_val_score\n",
        "from sklearn.model_selection import cross_val_predict\n",
        "from sklearn.metrics import mean_squared_error, r2_score\n",
        "from sklearn.metrics import classification_report, confusion_matrix\n",
        "from sklearn.tree import DecisionTreeClassifier\n",
        "import matplotlib.pyplot as plt\n",
        "from lightgbm import LGBMClassifier\n",
        "from lightgbm import plot_importance\n",
        "from sklearn.model_selection import RandomizedSearchCV\n",
        "from sklearn.model_selection import GridSearchCV\n",
        "import tensorflow as tf\n",
        "import warnings\n",
        "warnings.filterwarnings(\"ignore\", category=FutureWarning)\n",
        "sns.set(font_scale=1.2)\n",
        "sns.set_style(\"whitegrid\")"
      ],
      "execution_count": 2,
      "outputs": []
    },
    {
      "cell_type": "code",
      "metadata": {
        "colab": {
          "base_uri": "https://localhost:8080/",
          "height": 422
        },
        "id": "oUq4aysbCaOf",
        "outputId": "058bc06c-7b1d-4006-8dd5-60d9a47dcff1"
      },
      "source": [
        "# load the dataset\n",
        "df1 = pd.read_csv('/content/drive/MyDrive/colab_new_202109/predict_infant_brand/current_infant_brand_clean.csv')\n",
        "df1"
      ],
      "execution_count": 3,
      "outputs": [
        {
          "output_type": "execute_result",
          "data": {
            "text/html": [
              "<div>\n",
              "<style scoped>\n",
              "    .dataframe tbody tr th:only-of-type {\n",
              "        vertical-align: middle;\n",
              "    }\n",
              "\n",
              "    .dataframe tbody tr th {\n",
              "        vertical-align: top;\n",
              "    }\n",
              "\n",
              "    .dataframe thead th {\n",
              "        text-align: right;\n",
              "    }\n",
              "</style>\n",
              "<table border=\"1\" class=\"dataframe\">\n",
              "  <thead>\n",
              "    <tr style=\"text-align: right;\">\n",
              "      <th></th>\n",
              "      <th>cur_brand</th>\n",
              "      <th>first_buy_brand</th>\n",
              "      <th>babyage</th>\n",
              "      <th>ZONE</th>\n",
              "      <th>breastfeed</th>\n",
              "      <th>enroll_type2</th>\n",
              "      <th>enroll_age</th>\n",
              "      <th>open_rate0</th>\n",
              "      <th>click_rate0</th>\n",
              "      <th>redem_rate0</th>\n",
              "    </tr>\n",
              "  </thead>\n",
              "  <tbody>\n",
              "    <tr>\n",
              "      <th>0</th>\n",
              "      <td>0</td>\n",
              "      <td>0</td>\n",
              "      <td>120</td>\n",
              "      <td>1</td>\n",
              "      <td>0</td>\n",
              "      <td>1</td>\n",
              "      <td>-247</td>\n",
              "      <td>0.000000</td>\n",
              "      <td>0.000000</td>\n",
              "      <td>0.000000</td>\n",
              "    </tr>\n",
              "    <tr>\n",
              "      <th>1</th>\n",
              "      <td>1</td>\n",
              "      <td>1</td>\n",
              "      <td>150</td>\n",
              "      <td>1</td>\n",
              "      <td>1</td>\n",
              "      <td>1</td>\n",
              "      <td>-169</td>\n",
              "      <td>0.052632</td>\n",
              "      <td>0.000000</td>\n",
              "      <td>0.600000</td>\n",
              "    </tr>\n",
              "    <tr>\n",
              "      <th>2</th>\n",
              "      <td>0</td>\n",
              "      <td>0</td>\n",
              "      <td>330</td>\n",
              "      <td>1</td>\n",
              "      <td>1</td>\n",
              "      <td>1</td>\n",
              "      <td>-64</td>\n",
              "      <td>0.714286</td>\n",
              "      <td>0.285714</td>\n",
              "      <td>0.000000</td>\n",
              "    </tr>\n",
              "    <tr>\n",
              "      <th>3</th>\n",
              "      <td>1</td>\n",
              "      <td>1</td>\n",
              "      <td>60</td>\n",
              "      <td>1</td>\n",
              "      <td>1</td>\n",
              "      <td>0</td>\n",
              "      <td>-31</td>\n",
              "      <td>0.911765</td>\n",
              "      <td>0.205882</td>\n",
              "      <td>0.666667</td>\n",
              "    </tr>\n",
              "    <tr>\n",
              "      <th>4</th>\n",
              "      <td>1</td>\n",
              "      <td>1</td>\n",
              "      <td>30</td>\n",
              "      <td>1</td>\n",
              "      <td>0</td>\n",
              "      <td>1</td>\n",
              "      <td>9</td>\n",
              "      <td>0.250000</td>\n",
              "      <td>0.071429</td>\n",
              "      <td>0.250000</td>\n",
              "    </tr>\n",
              "    <tr>\n",
              "      <th>...</th>\n",
              "      <td>...</td>\n",
              "      <td>...</td>\n",
              "      <td>...</td>\n",
              "      <td>...</td>\n",
              "      <td>...</td>\n",
              "      <td>...</td>\n",
              "      <td>...</td>\n",
              "      <td>...</td>\n",
              "      <td>...</td>\n",
              "      <td>...</td>\n",
              "    </tr>\n",
              "    <tr>\n",
              "      <th>12888</th>\n",
              "      <td>1</td>\n",
              "      <td>0</td>\n",
              "      <td>180</td>\n",
              "      <td>0</td>\n",
              "      <td>1</td>\n",
              "      <td>1</td>\n",
              "      <td>-39</td>\n",
              "      <td>0.289474</td>\n",
              "      <td>0.105263</td>\n",
              "      <td>0.000000</td>\n",
              "    </tr>\n",
              "    <tr>\n",
              "      <th>12889</th>\n",
              "      <td>1</td>\n",
              "      <td>1</td>\n",
              "      <td>0</td>\n",
              "      <td>1</td>\n",
              "      <td>1</td>\n",
              "      <td>0</td>\n",
              "      <td>-241</td>\n",
              "      <td>0.782609</td>\n",
              "      <td>0.043478</td>\n",
              "      <td>0.500000</td>\n",
              "    </tr>\n",
              "    <tr>\n",
              "      <th>12890</th>\n",
              "      <td>1</td>\n",
              "      <td>0</td>\n",
              "      <td>30</td>\n",
              "      <td>1</td>\n",
              "      <td>1</td>\n",
              "      <td>1</td>\n",
              "      <td>-128</td>\n",
              "      <td>0.271186</td>\n",
              "      <td>0.050847</td>\n",
              "      <td>0.500000</td>\n",
              "    </tr>\n",
              "    <tr>\n",
              "      <th>12891</th>\n",
              "      <td>1</td>\n",
              "      <td>1</td>\n",
              "      <td>30</td>\n",
              "      <td>1</td>\n",
              "      <td>1</td>\n",
              "      <td>1</td>\n",
              "      <td>-37</td>\n",
              "      <td>0.210526</td>\n",
              "      <td>0.078947</td>\n",
              "      <td>0.000000</td>\n",
              "    </tr>\n",
              "    <tr>\n",
              "      <th>12892</th>\n",
              "      <td>1</td>\n",
              "      <td>1</td>\n",
              "      <td>90</td>\n",
              "      <td>1</td>\n",
              "      <td>1</td>\n",
              "      <td>0</td>\n",
              "      <td>-213</td>\n",
              "      <td>0.441176</td>\n",
              "      <td>0.058824</td>\n",
              "      <td>0.500000</td>\n",
              "    </tr>\n",
              "  </tbody>\n",
              "</table>\n",
              "<p>12893 rows × 10 columns</p>\n",
              "</div>"
            ],
            "text/plain": [
              "       cur_brand  first_buy_brand  ...  click_rate0  redem_rate0\n",
              "0              0                0  ...     0.000000     0.000000\n",
              "1              1                1  ...     0.000000     0.600000\n",
              "2              0                0  ...     0.285714     0.000000\n",
              "3              1                1  ...     0.205882     0.666667\n",
              "4              1                1  ...     0.071429     0.250000\n",
              "...          ...              ...  ...          ...          ...\n",
              "12888          1                0  ...     0.105263     0.000000\n",
              "12889          1                1  ...     0.043478     0.500000\n",
              "12890          1                0  ...     0.050847     0.500000\n",
              "12891          1                1  ...     0.078947     0.000000\n",
              "12892          1                1  ...     0.058824     0.500000\n",
              "\n",
              "[12893 rows x 10 columns]"
            ]
          },
          "metadata": {},
          "execution_count": 3
        }
      ]
    },
    {
      "cell_type": "code",
      "metadata": {
        "colab": {
          "base_uri": "https://localhost:8080/",
          "height": 560
        },
        "id": "5NjiTRGfC5xa",
        "outputId": "42229df0-332d-4196-f75d-9dda67f3042c"
      },
      "source": [
        "#scale the data\n",
        "scaler = MinMaxScaler()\n",
        "print(scaler.fit(df1))\n",
        "print(scaler.transform(df1))\n",
        "df2 = pd.DataFrame(scaler.transform(df1))\n",
        "df2.columns = df1.columns\n",
        "df2"
      ],
      "execution_count": 4,
      "outputs": [
        {
          "output_type": "stream",
          "name": "stdout",
          "text": [
            "MinMaxScaler(copy=True, feature_range=(0, 1))\n",
            "[[0.         0.         0.33333333 ... 0.         0.         0.        ]\n",
            " [1.         1.         0.41666667 ... 0.05263158 0.         0.6       ]\n",
            " [0.         0.         0.91666667 ... 0.71428571 0.28571429 0.        ]\n",
            " ...\n",
            " [1.         0.         0.08333333 ... 0.27118644 0.05084746 0.5       ]\n",
            " [1.         1.         0.08333333 ... 0.21052632 0.07894737 0.        ]\n",
            " [1.         1.         0.25       ... 0.44117647 0.05882353 0.5       ]]\n"
          ]
        },
        {
          "output_type": "execute_result",
          "data": {
            "text/html": [
              "<div>\n",
              "<style scoped>\n",
              "    .dataframe tbody tr th:only-of-type {\n",
              "        vertical-align: middle;\n",
              "    }\n",
              "\n",
              "    .dataframe tbody tr th {\n",
              "        vertical-align: top;\n",
              "    }\n",
              "\n",
              "    .dataframe thead th {\n",
              "        text-align: right;\n",
              "    }\n",
              "</style>\n",
              "<table border=\"1\" class=\"dataframe\">\n",
              "  <thead>\n",
              "    <tr style=\"text-align: right;\">\n",
              "      <th></th>\n",
              "      <th>cur_brand</th>\n",
              "      <th>first_buy_brand</th>\n",
              "      <th>babyage</th>\n",
              "      <th>ZONE</th>\n",
              "      <th>breastfeed</th>\n",
              "      <th>enroll_type2</th>\n",
              "      <th>enroll_age</th>\n",
              "      <th>open_rate0</th>\n",
              "      <th>click_rate0</th>\n",
              "      <th>redem_rate0</th>\n",
              "    </tr>\n",
              "  </thead>\n",
              "  <tbody>\n",
              "    <tr>\n",
              "      <th>0</th>\n",
              "      <td>0.0</td>\n",
              "      <td>0.0</td>\n",
              "      <td>0.333333</td>\n",
              "      <td>1.0</td>\n",
              "      <td>0.0</td>\n",
              "      <td>1.0</td>\n",
              "      <td>0.487926</td>\n",
              "      <td>0.000000</td>\n",
              "      <td>0.000000</td>\n",
              "      <td>0.000000</td>\n",
              "    </tr>\n",
              "    <tr>\n",
              "      <th>1</th>\n",
              "      <td>1.0</td>\n",
              "      <td>1.0</td>\n",
              "      <td>0.416667</td>\n",
              "      <td>1.0</td>\n",
              "      <td>1.0</td>\n",
              "      <td>1.0</td>\n",
              "      <td>0.496372</td>\n",
              "      <td>0.052632</td>\n",
              "      <td>0.000000</td>\n",
              "      <td>0.600000</td>\n",
              "    </tr>\n",
              "    <tr>\n",
              "      <th>2</th>\n",
              "      <td>0.0</td>\n",
              "      <td>0.0</td>\n",
              "      <td>0.916667</td>\n",
              "      <td>1.0</td>\n",
              "      <td>1.0</td>\n",
              "      <td>1.0</td>\n",
              "      <td>0.507742</td>\n",
              "      <td>0.714286</td>\n",
              "      <td>0.285714</td>\n",
              "      <td>0.000000</td>\n",
              "    </tr>\n",
              "    <tr>\n",
              "      <th>3</th>\n",
              "      <td>1.0</td>\n",
              "      <td>1.0</td>\n",
              "      <td>0.166667</td>\n",
              "      <td>1.0</td>\n",
              "      <td>1.0</td>\n",
              "      <td>0.0</td>\n",
              "      <td>0.511316</td>\n",
              "      <td>0.911765</td>\n",
              "      <td>0.205882</td>\n",
              "      <td>0.666667</td>\n",
              "    </tr>\n",
              "    <tr>\n",
              "      <th>4</th>\n",
              "      <td>1.0</td>\n",
              "      <td>1.0</td>\n",
              "      <td>0.083333</td>\n",
              "      <td>1.0</td>\n",
              "      <td>0.0</td>\n",
              "      <td>1.0</td>\n",
              "      <td>0.515647</td>\n",
              "      <td>0.250000</td>\n",
              "      <td>0.071429</td>\n",
              "      <td>0.250000</td>\n",
              "    </tr>\n",
              "    <tr>\n",
              "      <th>...</th>\n",
              "      <td>...</td>\n",
              "      <td>...</td>\n",
              "      <td>...</td>\n",
              "      <td>...</td>\n",
              "      <td>...</td>\n",
              "      <td>...</td>\n",
              "      <td>...</td>\n",
              "      <td>...</td>\n",
              "      <td>...</td>\n",
              "      <td>...</td>\n",
              "    </tr>\n",
              "    <tr>\n",
              "      <th>12888</th>\n",
              "      <td>1.0</td>\n",
              "      <td>0.0</td>\n",
              "      <td>0.500000</td>\n",
              "      <td>0.0</td>\n",
              "      <td>1.0</td>\n",
              "      <td>1.0</td>\n",
              "      <td>0.510449</td>\n",
              "      <td>0.289474</td>\n",
              "      <td>0.105263</td>\n",
              "      <td>0.000000</td>\n",
              "    </tr>\n",
              "    <tr>\n",
              "      <th>12889</th>\n",
              "      <td>1.0</td>\n",
              "      <td>1.0</td>\n",
              "      <td>0.000000</td>\n",
              "      <td>1.0</td>\n",
              "      <td>1.0</td>\n",
              "      <td>0.0</td>\n",
              "      <td>0.488576</td>\n",
              "      <td>0.782609</td>\n",
              "      <td>0.043478</td>\n",
              "      <td>0.500000</td>\n",
              "    </tr>\n",
              "    <tr>\n",
              "      <th>12890</th>\n",
              "      <td>1.0</td>\n",
              "      <td>0.0</td>\n",
              "      <td>0.083333</td>\n",
              "      <td>1.0</td>\n",
              "      <td>1.0</td>\n",
              "      <td>1.0</td>\n",
              "      <td>0.500812</td>\n",
              "      <td>0.271186</td>\n",
              "      <td>0.050847</td>\n",
              "      <td>0.500000</td>\n",
              "    </tr>\n",
              "    <tr>\n",
              "      <th>12891</th>\n",
              "      <td>1.0</td>\n",
              "      <td>1.0</td>\n",
              "      <td>0.083333</td>\n",
              "      <td>1.0</td>\n",
              "      <td>1.0</td>\n",
              "      <td>1.0</td>\n",
              "      <td>0.510666</td>\n",
              "      <td>0.210526</td>\n",
              "      <td>0.078947</td>\n",
              "      <td>0.000000</td>\n",
              "    </tr>\n",
              "    <tr>\n",
              "      <th>12892</th>\n",
              "      <td>1.0</td>\n",
              "      <td>1.0</td>\n",
              "      <td>0.250000</td>\n",
              "      <td>1.0</td>\n",
              "      <td>1.0</td>\n",
              "      <td>0.0</td>\n",
              "      <td>0.491608</td>\n",
              "      <td>0.441176</td>\n",
              "      <td>0.058824</td>\n",
              "      <td>0.500000</td>\n",
              "    </tr>\n",
              "  </tbody>\n",
              "</table>\n",
              "<p>12893 rows × 10 columns</p>\n",
              "</div>"
            ],
            "text/plain": [
              "       cur_brand  first_buy_brand  ...  click_rate0  redem_rate0\n",
              "0            0.0              0.0  ...     0.000000     0.000000\n",
              "1            1.0              1.0  ...     0.000000     0.600000\n",
              "2            0.0              0.0  ...     0.285714     0.000000\n",
              "3            1.0              1.0  ...     0.205882     0.666667\n",
              "4            1.0              1.0  ...     0.071429     0.250000\n",
              "...          ...              ...  ...          ...          ...\n",
              "12888        1.0              0.0  ...     0.105263     0.000000\n",
              "12889        1.0              1.0  ...     0.043478     0.500000\n",
              "12890        1.0              0.0  ...     0.050847     0.500000\n",
              "12891        1.0              1.0  ...     0.078947     0.000000\n",
              "12892        1.0              1.0  ...     0.058824     0.500000\n",
              "\n",
              "[12893 rows x 10 columns]"
            ]
          },
          "metadata": {},
          "execution_count": 4
        }
      ]
    },
    {
      "cell_type": "code",
      "metadata": {
        "id": "moNSbFJZDcCF"
      },
      "source": [
        "# train test split\n",
        "dfx = df2.drop(columns= ['cur_brand'])\n",
        "X_train, X_test, y_train, y_test = train_test_split(dfx, \n",
        "                                                   df2['cur_brand'],\n",
        "                                                    test_size = 0.2,\n",
        "                                                    stratify=df2['cur_brand'], \n",
        "                                                    random_state=0)"
      ],
      "execution_count": 5,
      "outputs": []
    },
    {
      "cell_type": "markdown",
      "metadata": {
        "id": "3DgLJQ5CEISy"
      },
      "source": [
        "## 1. Model 1 - Logistic Regression"
      ]
    },
    {
      "cell_type": "code",
      "metadata": {
        "colab": {
          "base_uri": "https://localhost:8080/"
        },
        "id": "St1vzPNCJo7c",
        "outputId": "53b736ef-569f-4b5b-8a14-07a834b3b48e"
      },
      "source": [
        "clf_lr = LogisticRegression(max_iter=1000)\n",
        "\n",
        "# cv\n",
        "scores = cross_val_score(clf_lr, X_train, y_train, scoring='r2', cv=5)\n",
        "print(scores)\n",
        "\n",
        "# make cross validated predictions\n",
        "y_pred = cross_val_predict(clf_lr, X_train, y_train, cv=5)\n",
        "\n",
        "print(r2_score(y_train, y_pred))\n",
        "print(\"%0.4f accuracy with a standard deviation of %0.2f\" % (scores.mean(), scores.std()))"
      ],
      "execution_count": 6,
      "outputs": [
        {
          "output_type": "stream",
          "name": "stdout",
          "text": [
            "[0.09830171 0.11388181 0.17620221 0.14698952 0.185594  ]\n",
            "0.1441903625637967\n",
            "0.1442 accuracy with a standard deviation of 0.03\n"
          ]
        }
      ]
    },
    {
      "cell_type": "code",
      "metadata": {
        "colab": {
          "base_uri": "https://localhost:8080/"
        },
        "id": "0QluJ_i-EYE2",
        "outputId": "deab07a4-a097-47cb-b99d-fbfe94a022e4"
      },
      "source": [
        "clf_lr.fit(X_train, y_train)\n",
        "# predict \n",
        "y_pred_lr = clf_lr.predict(X_test)\n",
        "print(metrics.classification_report(y_true=y_test, y_pred=y_pred_lr))"
      ],
      "execution_count": 7,
      "outputs": [
        {
          "output_type": "stream",
          "name": "stdout",
          "text": [
            "              precision    recall  f1-score   support\n",
            "\n",
            "         0.0       0.87      0.74      0.80      1375\n",
            "         1.0       0.75      0.87      0.81      1204\n",
            "\n",
            "    accuracy                           0.80      2579\n",
            "   macro avg       0.81      0.81      0.80      2579\n",
            "weighted avg       0.81      0.80      0.80      2579\n",
            "\n"
          ]
        }
      ]
    },
    {
      "cell_type": "code",
      "metadata": {
        "colab": {
          "base_uri": "https://localhost:8080/"
        },
        "id": "eWWhhwTxEmyu",
        "outputId": "49a9b52c-e565-4e30-f7ac-fa32cc5b358a"
      },
      "source": [
        "# get the confusion matrix\n",
        "cf_matrix = confusion_matrix(y_test, y_pred_lr)\n",
        "print(cf_matrix)"
      ],
      "execution_count": 8,
      "outputs": [
        {
          "output_type": "stream",
          "name": "stdout",
          "text": [
            "[[1018  357]\n",
            " [ 151 1053]]\n"
          ]
        }
      ]
    },
    {
      "cell_type": "code",
      "metadata": {
        "colab": {
          "base_uri": "https://localhost:8080/",
          "height": 285
        },
        "id": "Q_rH4L48EgVz",
        "outputId": "da6c74e0-2470-450b-f884-f6e42ce27c69"
      },
      "source": [
        "group_names = ['True Neg','False Pos','False Neg','True Pos']\n",
        "group_counts = [\"{0:0.0f}\".format(value) for value in\n",
        "                cf_matrix.flatten()]\n",
        "group_percentages = [\"{0:.2%}\".format(value) for value in\n",
        "                     cf_matrix.flatten()/np.sum(cf_matrix)]\n",
        "labels = [f\"{v1}\\n{v2}\\n{v3}\" for v1, v2, v3 in\n",
        "          zip(group_names,group_counts,group_percentages)]\n",
        "labels = np.asarray(labels).reshape(2,2)\n",
        "sns.set(rc={'figure.figsize':(8,4)})\n",
        "sns.heatmap(cf_matrix, annot=labels, fmt='', cmap='Reds')"
      ],
      "execution_count": 9,
      "outputs": [
        {
          "output_type": "execute_result",
          "data": {
            "text/plain": [
              "<matplotlib.axes._subplots.AxesSubplot at 0x7f03b122cb50>"
            ]
          },
          "metadata": {},
          "execution_count": 9
        },
        {
          "output_type": "display_data",
          "data": {
            "image/png": "[encoded data removed]",
            "text/plain": [
              "<Figure size 576x288 with 2 Axes>"
            ]
          },
          "metadata": {}
        }
      ]
    },
    {
      "cell_type": "code",
      "metadata": {
        "colab": {
          "base_uri": "https://localhost:8080/",
          "height": 302
        },
        "id": "oBVL4nLIFA5Q",
        "outputId": "b8e9f52d-0c96-4b9f-c1c7-c91b8daaf72d"
      },
      "source": [
        "# drawing\n",
        "lr_probs = clf_lr.predict_proba(X_test)\n",
        " \n",
        "# keep probabilities for the positive outcome only\n",
        "lr_probs = lr_probs[:, 1]\n",
        " \n",
        "# calculate scores  Area Under Cruve\n",
        "lr_auc = roc_auc_score(y_test,lr_probs)\n",
        " \n",
        "# summarize scores\n",
        "print('Logistic: ROC AUC=%.3f' % (lr_auc))\n",
        " \n",
        "# calculate roc curves\n",
        "fpr, tpr, thresholds = roc_curve(y_test,lr_probs)\n",
        " \n",
        "# plot the roc curve for the model\n",
        "plt.plot([0, 1], [0, 1], 'k--',label='Random Predictor')  # draw diag\n",
        "plt.plot(fpr, tpr, marker='.', color='darkorange',label='Logistic') # draw ROC\n",
        "# axis labels\n",
        "plt.xlabel('False Positive Rate')\n",
        "plt.ylabel('True Positive Rate')\n",
        "# show the legend\n",
        "plt.legend()\n",
        "# show the plot\n",
        "plt.show()\n"
      ],
      "execution_count": 10,
      "outputs": [
        {
          "output_type": "stream",
          "name": "stdout",
          "text": [
            "Logistic: ROC AUC=0.837\n"
          ]
        },
        {
          "output_type": "display_data",
          "data": {
            "image/png": "[encoded data removed]",
            "text/plain": [
              "<Figure size 576x288 with 1 Axes>"
            ]
          },
          "metadata": {}
        }
      ]
    },
    {
      "cell_type": "markdown",
      "metadata": {
        "id": "UEBFozhMXL3x"
      },
      "source": [
        "## Model 1 - Logistic Regression (hyperparameter tuning)"
      ]
    },
    {
      "cell_type": "code",
      "metadata": {
        "id": "KMgEeRrNXKEI"
      },
      "source": [
        "model1 = LogisticRegression()\n"
      ],
      "execution_count": 11,
      "outputs": []
    },
    {
      "cell_type": "code",
      "metadata": {
        "colab": {
          "base_uri": "https://localhost:8080/"
        },
        "id": "_MtYj_efYl_n",
        "outputId": "04d39b27-9498-4599-af54-8010cef764f4"
      },
      "source": [
        "# Create first pipeline for base without reducing features.\n",
        "# pipe = Pipeline([('classifier' , RandomForestClassifier())])\n",
        "# pipe = Pipeline([('classifier', RandomForestClassifier())])\n",
        "# Create param grid.\n",
        "\n",
        "param_grid = {\n",
        "    'C': [0.001, 0.01, 0.1, 1, 10, 100, 1000],\n",
        "    'penalty': ['l1', 'l2'],\n",
        "    'max_iter': list(range(100,800,100)),\n",
        "    'solver': ['newton-cg', 'lbfgs', 'liblinear', 'sag', 'saga']\n",
        "}\n",
        "\n",
        "clf_lr = GridSearchCV(model1, param_grid = param_grid, cv = 3, verbose=True, n_jobs=-1)\n",
        "\n",
        "# Fit on data\n",
        "\n",
        "clf_lr.fit(X_train, y_train)\n",
        "clf_lr.best_params_"
      ],
      "execution_count": 12,
      "outputs": [
        {
          "output_type": "stream",
          "name": "stdout",
          "text": [
            "Fitting 3 folds for each of 490 candidates, totalling 1470 fits\n"
          ]
        },
        {
          "output_type": "stream",
          "name": "stderr",
          "text": [
            "[Parallel(n_jobs=-1)]: Using backend LokyBackend with 2 concurrent workers.\n",
            "[Parallel(n_jobs=-1)]: Done 202 tasks      | elapsed:    3.8s\n",
            "[Parallel(n_jobs=-1)]: Done 872 tasks      | elapsed:   28.0s\n",
            "[Parallel(n_jobs=-1)]: Done 1372 tasks      | elapsed:  1.3min\n",
            "[Parallel(n_jobs=-1)]: Done 1470 out of 1470 | elapsed:  1.4min finished\n"
          ]
        },
        {
          "output_type": "execute_result",
          "data": {
            "text/plain": [
              "{'C': 0.001, 'max_iter': 100, 'penalty': 'l2', 'solver': 'liblinear'}"
            ]
          },
          "metadata": {},
          "execution_count": 12
        }
      ]
    },
    {
      "cell_type": "code",
      "metadata": {
        "colab": {
          "base_uri": "https://localhost:8080/"
        },
        "id": "8GRR1ytQaMbr",
        "outputId": "94cfed70-4e2f-4d3b-a673-cb45a3be3c94"
      },
      "source": [
        "print(clf_lr.score(X_test, y_test))"
      ],
      "execution_count": 13,
      "outputs": [
        {
          "output_type": "stream",
          "name": "stdout",
          "text": [
            "0.8034121752617294\n"
          ]
        }
      ]
    },
    {
      "cell_type": "code",
      "metadata": {
        "colab": {
          "base_uri": "https://localhost:8080/"
        },
        "id": "-g9KKpjpasdp",
        "outputId": "7e33de2e-59ee-47ab-cd26-4b7c2e839caa"
      },
      "source": [
        "clf_lr = LogisticRegression(C=0.001, max_iter= 100, penalty='l2', solver= 'liblinear')\n",
        "clf_lr.fit(X_train, y_train)\n",
        "\n",
        "# Predict \n",
        "y_pred_lr = clf_lr.predict(X_test)\n",
        "# Accuracy\n",
        "print(\"accuracy: \", metrics.accuracy_score(y_test, y_pred_lr))"
      ],
      "execution_count": 14,
      "outputs": [
        {
          "output_type": "stream",
          "name": "stdout",
          "text": [
            "accuracy:  0.8034121752617294\n"
          ]
        }
      ]
    },
    {
      "cell_type": "code",
      "metadata": {
        "colab": {
          "base_uri": "https://localhost:8080/",
          "height": 320
        },
        "id": "b3Xam-U-bVSW",
        "outputId": "0532767c-5557-4a0d-ee8d-e07d24b77db2"
      },
      "source": [
        "# get the confusion matrix\n",
        "cf_matrix = confusion_matrix(y_test, y_pred_lr)\n",
        "print(cf_matrix)\n",
        "\n",
        "group_names = ['True Neg','False Pos','False Neg','True Pos']\n",
        "group_counts = [\"{0:0.0f}\".format(value) for value in\n",
        "                cf_matrix.flatten()]\n",
        "group_percentages = [\"{0:.2%}\".format(value) for value in\n",
        "                     cf_matrix.flatten()/np.sum(cf_matrix)]\n",
        "labels = [f\"{v1}\\n{v2}\\n{v3}\" for v1, v2, v3 in\n",
        "          zip(group_names,group_counts,group_percentages)]\n",
        "labels = np.asarray(labels).reshape(2,2)\n",
        "sns.set(rc={'figure.figsize':(8,4)})\n",
        "sns.heatmap(cf_matrix, annot=labels, fmt='', cmap='Reds')"
      ],
      "execution_count": 15,
      "outputs": [
        {
          "output_type": "stream",
          "name": "stdout",
          "text": [
            "[[1019  356]\n",
            " [ 151 1053]]\n"
          ]
        },
        {
          "output_type": "execute_result",
          "data": {
            "text/plain": [
              "<matplotlib.axes._subplots.AxesSubplot at 0x7f03b0beacd0>"
            ]
          },
          "metadata": {},
          "execution_count": 15
        },
        {
          "output_type": "display_data",
          "data": {
            "image/png": "[encoded data removed]",
            "text/plain": [
              "<Figure size 576x288 with 2 Axes>"
            ]
          },
          "metadata": {}
        }
      ]
    },
    {
      "cell_type": "code",
      "metadata": {
        "colab": {
          "base_uri": "https://localhost:8080/",
          "height": 364
        },
        "id": "_XoV_D6mCd_N",
        "outputId": "c91eca32-2d2a-411d-ead1-bf613351a3ae"
      },
      "source": [
        "importances = pd.DataFrame(data={\n",
        "    'Attribute': X_train.columns,\n",
        "    'Importance': clf_lr.coef_[0]\n",
        "})\n",
        "importances = importances.sort_values(by='Importance', ascending=False)\n",
        "\n",
        "plt.bar(x=importances['Attribute'], height=importances['Importance'], color='#FF007F')\n",
        "plt.title('Feature Importance from Coefficient', size=20)\n",
        "sns.set(rc={'figure.figsize':(8,4)})\n",
        "plt.xticks(rotation='vertical')\n",
        "plt.show()"
      ],
      "execution_count": 16,
      "outputs": [
        {
          "output_type": "display_data",
          "data": {
            "image/png": "[encoded data removed]",
            "text/plain": [
              "<Figure size 576x288 with 1 Axes>"
            ]
          },
          "metadata": {}
        }
      ]
    },
    {
      "cell_type": "markdown",
      "metadata": {
        "id": "CP0uvVDIFN31"
      },
      "source": [
        "## Model 2 - Decision Tree "
      ]
    },
    {
      "cell_type": "code",
      "metadata": {
        "colab": {
          "base_uri": "https://localhost:8080/"
        },
        "id": "oEEKTIpdFJVV",
        "outputId": "58ae6d7d-80cb-46c4-c2f2-3893f8b5ce3e"
      },
      "source": [
        "clf_dt = tree.DecisionTreeClassifier(max_depth =4)\n",
        "\n",
        "# cv\n",
        "scores = cross_val_score(clf_dt, X_train, y_train, scoring='r2', cv=5)\n",
        "print(scores)\n",
        "\n",
        "# make cross validated predictions\n",
        "y_pred = cross_val_predict(clf_dt, X_train, y_train, cv=5)\n",
        "\n",
        "print(r2_score(y_train, y_pred))\n",
        "print(\"%0.4f accuracy with a standard deviation of %0.2f\" % (scores.mean(), scores.std()))\n"
      ],
      "execution_count": 17,
      "outputs": [
        {
          "output_type": "stream",
          "name": "stdout",
          "text": [
            "[0.09440668 0.11777683 0.17620221 0.15283206 0.18364566]\n",
            "0.1449694336948265\n",
            "0.1450 accuracy with a standard deviation of 0.03\n"
          ]
        }
      ]
    },
    {
      "cell_type": "code",
      "metadata": {
        "colab": {
          "base_uri": "https://localhost:8080/"
        },
        "id": "yDJcARzQNSCd",
        "outputId": "f9c92281-1c8a-439b-e08d-912947f1da12"
      },
      "source": [
        "clf_dt.fit(X_train, y_train)\n",
        "# Predict \n",
        "y_pred_dt = clf_dt.predict(X_test)\n",
        "# Accuracy\n",
        "print(\"accuracy: \", metrics.accuracy_score(y_test, y_pred_dt))"
      ],
      "execution_count": 18,
      "outputs": [
        {
          "output_type": "stream",
          "name": "stdout",
          "text": [
            "accuracy:  0.8030244280728964\n"
          ]
        }
      ]
    },
    {
      "cell_type": "code",
      "metadata": {
        "colab": {
          "base_uri": "https://localhost:8080/"
        },
        "id": "EwZ14WIGFeiE",
        "outputId": "3fce1deb-467b-4f40-a310-c2ac9d2dec44"
      },
      "source": [
        "print(metrics.classification_report(y_true=y_test, y_pred=y_pred_dt))"
      ],
      "execution_count": 19,
      "outputs": [
        {
          "output_type": "stream",
          "name": "stdout",
          "text": [
            "              precision    recall  f1-score   support\n",
            "\n",
            "         0.0       0.88      0.74      0.80      1375\n",
            "         1.0       0.74      0.88      0.81      1204\n",
            "\n",
            "    accuracy                           0.80      2579\n",
            "   macro avg       0.81      0.81      0.80      2579\n",
            "weighted avg       0.81      0.80      0.80      2579\n",
            "\n"
          ]
        }
      ]
    },
    {
      "cell_type": "code",
      "metadata": {
        "colab": {
          "base_uri": "https://localhost:8080/"
        },
        "id": "e6B7nmypFeeQ",
        "outputId": "6e55880f-d778-4488-face-e28bb70eedc3"
      },
      "source": [
        "# get the confusion matrix\n",
        "cf_matrix = confusion_matrix(y_test, y_pred_dt)\n",
        "print(cf_matrix)"
      ],
      "execution_count": 20,
      "outputs": [
        {
          "output_type": "stream",
          "name": "stdout",
          "text": [
            "[[1011  364]\n",
            " [ 144 1060]]\n"
          ]
        }
      ]
    },
    {
      "cell_type": "code",
      "metadata": {
        "colab": {
          "base_uri": "https://localhost:8080/",
          "height": 285
        },
        "id": "4l2mG87oFebs",
        "outputId": "e309b9dc-f9f3-429c-8056-58f7ff240b62"
      },
      "source": [
        "group_names = ['True Neg','False Pos','False Neg','True Pos']\n",
        "group_counts = [\"{0:0.0f}\".format(value) for value in\n",
        "                cf_matrix.flatten()]\n",
        "group_percentages = [\"{0:.2%}\".format(value) for value in\n",
        "                     cf_matrix.flatten()/np.sum(cf_matrix)]\n",
        "labels = [f\"{v1}\\n{v2}\\n{v3}\" for v1, v2, v3 in\n",
        "          zip(group_names,group_counts,group_percentages)]\n",
        "labels = np.asarray(labels).reshape(2,2)\n",
        "sns.set(rc={'figure.figsize':(8,4)})\n",
        "sns.heatmap(cf_matrix, annot=labels, fmt='', cmap='Reds')"
      ],
      "execution_count": 21,
      "outputs": [
        {
          "output_type": "execute_result",
          "data": {
            "text/plain": [
              "<matplotlib.axes._subplots.AxesSubplot at 0x7f03b02ea350>"
            ]
          },
          "metadata": {},
          "execution_count": 21
        },
        {
          "output_type": "display_data",
          "data": {
            "image/png": "[encoded data removed]",
            "text/plain": [
              "<Figure size 576x288 with 2 Axes>"
            ]
          },
          "metadata": {}
        }
      ]
    },
    {
      "cell_type": "markdown",
      "metadata": {
        "id": "d_mYX9rwPYZF"
      },
      "source": [
        "## Model 2 - Decision Tree (Hyperparameter Tuning)"
      ]
    },
    {
      "cell_type": "code",
      "metadata": {
        "id": "uxbNvWDzT551"
      },
      "source": [
        "model2 = DecisionTreeClassifier()"
      ],
      "execution_count": 22,
      "outputs": []
    },
    {
      "cell_type": "code",
      "metadata": {
        "id": "aSMkiXzCU9H6"
      },
      "source": [
        "parameters = {'splitter' : ['best', 'random'],\n",
        "'criterion' : ['gini', 'entropy'],\n",
        "'max_depth': [2, 4, 6, 8, 10],\n",
        "'min_samples_split': [2, 4, 6, 8, 10],\n",
        "}"
      ],
      "execution_count": 23,
      "outputs": []
    },
    {
      "cell_type": "code",
      "metadata": {
        "id": "v-Om_yugVL-M"
      },
      "source": [
        "grid_search_dt = GridSearchCV(estimator = model2,\n",
        "param_grid = parameters,\n",
        "scoring = 'accuracy',\n",
        "cv = 3,\n",
        "verbose = 1)"
      ],
      "execution_count": 24,
      "outputs": []
    },
    {
      "cell_type": "code",
      "metadata": {
        "colab": {
          "base_uri": "https://localhost:8080/"
        },
        "id": "t_ic8dSQVsTV",
        "outputId": "a3d04064-c891-4f3e-a756-3629d5541d8f"
      },
      "source": [
        "grid_search_dt.fit(X_train, y_train)"
      ],
      "execution_count": 25,
      "outputs": [
        {
          "output_type": "stream",
          "name": "stdout",
          "text": [
            "Fitting 3 folds for each of 100 candidates, totalling 300 fits\n"
          ]
        },
        {
          "output_type": "stream",
          "name": "stderr",
          "text": [
            "[Parallel(n_jobs=1)]: Using backend SequentialBackend with 1 concurrent workers.\n",
            "[Parallel(n_jobs=1)]: Done 300 out of 300 | elapsed:    4.3s finished\n"
          ]
        },
        {
          "output_type": "execute_result",
          "data": {
            "text/plain": [
              "GridSearchCV(cv=3, error_score=nan,\n",
              "             estimator=DecisionTreeClassifier(ccp_alpha=0.0, class_weight=None,\n",
              "                                              criterion='gini', max_depth=None,\n",
              "                                              max_features=None,\n",
              "                                              max_leaf_nodes=None,\n",
              "                                              min_impurity_decrease=0.0,\n",
              "                                              min_impurity_split=None,\n",
              "                                              min_samples_leaf=1,\n",
              "                                              min_samples_split=2,\n",
              "                                              min_weight_fraction_leaf=0.0,\n",
              "                                              presort='deprecated',\n",
              "                                              random_state=None,\n",
              "                                              splitter='best'),\n",
              "             iid='deprecated', n_jobs=None,\n",
              "             param_grid={'criterion': ['gini', 'entropy'],\n",
              "                         'max_depth': [2, 4, 6, 8, 10],\n",
              "                         'min_samples_split': [2, 4, 6, 8, 10],\n",
              "                         'splitter': ['best', 'random']},\n",
              "             pre_dispatch='2*n_jobs', refit=True, return_train_score=False,\n",
              "             scoring='accuracy', verbose=1)"
            ]
          },
          "metadata": {},
          "execution_count": 25
        }
      ]
    },
    {
      "cell_type": "code",
      "metadata": {
        "colab": {
          "base_uri": "https://localhost:8080/"
        },
        "id": "eS7pg1K6V0l0",
        "outputId": "c3c1ea39-83ba-40d5-fdca-3e14a30a9771"
      },
      "source": [
        "print(grid_search_dt.best_estimator_)"
      ],
      "execution_count": 26,
      "outputs": [
        {
          "output_type": "stream",
          "name": "stdout",
          "text": [
            "DecisionTreeClassifier(ccp_alpha=0.0, class_weight=None, criterion='entropy',\n",
            "                       max_depth=4, max_features=None, max_leaf_nodes=None,\n",
            "                       min_impurity_decrease=0.0, min_impurity_split=None,\n",
            "                       min_samples_leaf=1, min_samples_split=10,\n",
            "                       min_weight_fraction_leaf=0.0, presort='deprecated',\n",
            "                       random_state=None, splitter='random')\n"
          ]
        }
      ]
    },
    {
      "cell_type": "code",
      "metadata": {
        "colab": {
          "base_uri": "https://localhost:8080/"
        },
        "id": "bwaj2ikoV2AW",
        "outputId": "ffec3a23-c692-4a88-a4fc-7ec3f6172caa"
      },
      "source": [
        "print(grid_search_dt.score(X_test, y_test))"
      ],
      "execution_count": 27,
      "outputs": [
        {
          "output_type": "stream",
          "name": "stdout",
          "text": [
            "0.8030244280728964\n"
          ]
        }
      ]
    },
    {
      "cell_type": "code",
      "metadata": {
        "colab": {
          "base_uri": "https://localhost:8080/"
        },
        "id": "l7LPt59NV-ef",
        "outputId": "55a27289-fe86-4df0-f803-4591d6885129"
      },
      "source": [
        "clf_dt = grid_search_dt.best_estimator_\n",
        "\n",
        "clf_dt.fit(X_train, y_train)\n",
        "# Predict \n",
        "y_pred_dt = clf_dt.predict(X_test)\n",
        "# Accuracy\n",
        "print(\"accuracy: \", metrics.accuracy_score(y_test, y_pred_dt))"
      ],
      "execution_count": 28,
      "outputs": [
        {
          "output_type": "stream",
          "name": "stdout",
          "text": [
            "accuracy:  0.8034121752617294\n"
          ]
        }
      ]
    },
    {
      "cell_type": "code",
      "metadata": {
        "colab": {
          "base_uri": "https://localhost:8080/",
          "height": 285
        },
        "id": "e8BP3H4lWllQ",
        "outputId": "357fd15d-2453-446e-e260-2e34cfe460c8"
      },
      "source": [
        "cf_matrix = confusion_matrix(y_test, y_pred_dt)\n",
        "group_names = ['True Neg','False Pos','False Neg','True Pos']\n",
        "group_counts = [\"{0:0.0f}\".format(value) for value in\n",
        "                cf_matrix.flatten()]\n",
        "group_percentages = [\"{0:.2%}\".format(value) for value in\n",
        "                     cf_matrix.flatten()/np.sum(cf_matrix)]\n",
        "labels = [f\"{v1}\\n{v2}\\n{v3}\" for v1, v2, v3 in\n",
        "          zip(group_names,group_counts,group_percentages)]\n",
        "labels = np.asarray(labels).reshape(2,2)\n",
        "sns.set(rc={'figure.figsize':(8,4)})\n",
        "sns.heatmap(cf_matrix, annot=labels, fmt='', cmap='Reds')"
      ],
      "execution_count": 29,
      "outputs": [
        {
          "output_type": "execute_result",
          "data": {
            "text/plain": [
              "<matplotlib.axes._subplots.AxesSubplot at 0x7f03b0c77fd0>"
            ]
          },
          "metadata": {},
          "execution_count": 29
        },
        {
          "output_type": "display_data",
          "data": {
            "image/png": "[encoded data removed]",
            "text/plain": [
              "<Figure size 576x288 with 2 Axes>"
            ]
          },
          "metadata": {}
        }
      ]
    },
    {
      "cell_type": "code",
      "metadata": {
        "colab": {
          "base_uri": "https://localhost:8080/",
          "height": 364
        },
        "id": "3V3_MBDiCMGM",
        "outputId": "b7fa49a2-4536-4f68-f37d-2eb6a61dffde"
      },
      "source": [
        "# feature importance\n",
        "feat_importance = clf_dt.tree_.compute_feature_importances(normalize=False)\n",
        "feat_importance\n",
        "\n",
        "importances = pd.DataFrame(data={\n",
        "    'Attribute': X_train.columns,\n",
        "    'Importance': feat_importance\n",
        "})\n",
        "importances = importances.sort_values(by='Importance', ascending=False)\n",
        "\n",
        "plt.bar(x=importances['Attribute'], height=importances['Importance'], color='#FF007F')\n",
        "plt.title('Feature Importance from Coefficient', size=20)\n",
        "plt.xticks(rotation='vertical')\n",
        "sns.set(rc={'figure.figsize':(12,4)})\n",
        "plt.show()"
      ],
      "execution_count": 30,
      "outputs": [
        {
          "output_type": "display_data",
          "data": {
            "image/png": "[encoded data removed]",
            "text/plain": [
              "<Figure size 576x288 with 1 Axes>"
            ]
          },
          "metadata": {}
        }
      ]
    },
    {
      "cell_type": "markdown",
      "metadata": {
        "id": "usFRnfB0FwTM"
      },
      "source": [
        "## Model 3 - LightGBM"
      ]
    },
    {
      "cell_type": "code",
      "metadata": {
        "colab": {
          "base_uri": "https://localhost:8080/"
        },
        "id": "Ozt_TRyJFqIM",
        "outputId": "409bc303-3f61-4daa-f2b6-10a9acf33236"
      },
      "source": [
        "lgb_clf = LGBMClassifier(n_estimators = 1000, \n",
        "                         learning_rate = 0.01)\n",
        "\n",
        "# cv\n",
        "scores = cross_val_score(lgb_clf, X_train, y_train, scoring='r2', cv=5)\n",
        "print(scores)\n",
        "\n",
        "# make cross validated predictions\n",
        "y_pred = cross_val_predict(lgb_clf, X_train, y_train, cv=5)\n",
        "\n",
        "print(r2_score(y_train, y_pred))\n",
        "print(\"%0.4f accuracy with a standard deviation of %0.2f\" % (scores.mean(), scores.std()))\n"
      ],
      "execution_count": 31,
      "outputs": [
        {
          "output_type": "stream",
          "name": "stdout",
          "text": [
            "[0.09245917 0.06324648 0.18204475 0.1430945  0.15442057]\n",
            "0.1270507976811418\n",
            "0.1271 accuracy with a standard deviation of 0.04\n"
          ]
        }
      ]
    },
    {
      "cell_type": "code",
      "metadata": {
        "id": "O86_hBZiNoh1",
        "colab": {
          "base_uri": "https://localhost:8080/"
        },
        "outputId": "96cb6aa6-772f-4122-f589-640e8db6b39b"
      },
      "source": [
        "lgb_clf.fit(X_train, y_train)\n",
        "\n",
        "# Predict \n",
        "y_pred_lgb = lgb_clf.predict(X_test)\n",
        "\n",
        "# Accuracy\n",
        "print(\"accuracy: \", metrics.accuracy_score(y_test, y_pred_lgb))"
      ],
      "execution_count": 32,
      "outputs": [
        {
          "output_type": "stream",
          "name": "stdout",
          "text": [
            "accuracy:  0.7952694842962389\n"
          ]
        }
      ]
    },
    {
      "cell_type": "code",
      "metadata": {
        "colab": {
          "base_uri": "https://localhost:8080/"
        },
        "id": "rRfeY9f4GTTZ",
        "outputId": "1bdb773b-4824-4bff-a969-4e6008f34b49"
      },
      "source": [
        "print(metrics.classification_report(y_true=y_test, y_pred=y_pred_lgb))"
      ],
      "execution_count": 33,
      "outputs": [
        {
          "output_type": "stream",
          "name": "stdout",
          "text": [
            "              precision    recall  f1-score   support\n",
            "\n",
            "         0.0       0.86      0.74      0.79      1375\n",
            "         1.0       0.74      0.86      0.80      1204\n",
            "\n",
            "    accuracy                           0.80      2579\n",
            "   macro avg       0.80      0.80      0.80      2579\n",
            "weighted avg       0.80      0.80      0.80      2579\n",
            "\n"
          ]
        }
      ]
    },
    {
      "cell_type": "code",
      "metadata": {
        "colab": {
          "base_uri": "https://localhost:8080/"
        },
        "id": "NyleUCnUGYOG",
        "outputId": "07db28d2-d25a-4bfe-e38f-b2e361043af7"
      },
      "source": [
        "# get the confusion matrix\n",
        "cf_matrix = confusion_matrix(y_test, y_pred_lgb)\n",
        "print(cf_matrix)"
      ],
      "execution_count": 34,
      "outputs": [
        {
          "output_type": "stream",
          "name": "stdout",
          "text": [
            "[[1016  359]\n",
            " [ 169 1035]]\n"
          ]
        }
      ]
    },
    {
      "cell_type": "code",
      "metadata": {
        "colab": {
          "base_uri": "https://localhost:8080/",
          "height": 302
        },
        "id": "_61HSszgGcYt",
        "outputId": "3f8a181c-408e-4775-c213-850d6a4307f8"
      },
      "source": [
        "group_names = ['True Neg','False Pos','False Neg','True Pos']\n",
        "group_counts = [\"{0:0.0f}\".format(value) for value in\n",
        "                cf_matrix.flatten()]\n",
        "group_percentages = [\"{0:.2%}\".format(value) for value in\n",
        "                     cf_matrix.flatten()/np.sum(cf_matrix)]\n",
        "labels = [f\"{v1}\\n{v2}\\n{v3}\" for v1, v2, v3 in\n",
        "          zip(group_names,group_counts,group_percentages)]\n",
        "labels = np.asarray(labels).reshape(2,2)\n",
        "plt.figure()\n",
        "plt.figure(figsize=(8,4))\n",
        "sns.heatmap(cf_matrix, annot=labels, fmt='', cmap='Reds')"
      ],
      "execution_count": 35,
      "outputs": [
        {
          "output_type": "execute_result",
          "data": {
            "text/plain": [
              "<matplotlib.axes._subplots.AxesSubplot at 0x7f03bb4eaf10>"
            ]
          },
          "metadata": {},
          "execution_count": 35
        },
        {
          "output_type": "display_data",
          "data": {
            "text/plain": [
              "<Figure size 864x288 with 0 Axes>"
            ]
          },
          "metadata": {}
        },
        {
          "output_type": "display_data",
          "data": {
            "image/png": "[encoded data removed]",
            "text/plain": [
              "<Figure size 576x288 with 2 Axes>"
            ]
          },
          "metadata": {}
        }
      ]
    },
    {
      "cell_type": "markdown",
      "metadata": {
        "id": "83gCy1QcMisu"
      },
      "source": [
        "## Model 3 - LightGBM (hyperparameter tuning)"
      ]
    },
    {
      "cell_type": "code",
      "metadata": {
        "colab": {
          "base_uri": "https://localhost:8080/"
        },
        "id": "poudfPLaMiNo",
        "outputId": "e5c7cacd-a0d8-4462-9c77-294f5c2343ab"
      },
      "source": [
        "# Grid search\n",
        "lgb_clf = LGBMClassifier()\n",
        "\n",
        "lgb_param_grid = {'learning_rate': np.arange(0.01, 0.10, 0.01),\n",
        "                  'n_estimators': np.arange(200, 1000, 200),\n",
        "                  'max_depth': [4,6,8,10]\n",
        "                  }\n",
        "\n",
        "random_lgb = RandomizedSearchCV(estimator=lgb_clf, \n",
        "                                    param_distributions=lgb_param_grid,\n",
        "                                    n_iter=100, \n",
        "                                    scoring='accuracy', \n",
        "                                    cv=3, \n",
        "                                    verbose=1,\n",
        "                                    n_jobs=-1\n",
        "                                    )\n",
        "random_lgb.fit(X_train, y_train)\n",
        "print(\"Best parameters found: \",random_lgb.best_params_)"
      ],
      "execution_count": 36,
      "outputs": [
        {
          "output_type": "stream",
          "name": "stdout",
          "text": [
            "Fitting 3 folds for each of 100 candidates, totalling 300 fits\n"
          ]
        },
        {
          "output_type": "stream",
          "name": "stderr",
          "text": [
            "[Parallel(n_jobs=-1)]: Using backend LokyBackend with 2 concurrent workers.\n",
            "[Parallel(n_jobs=-1)]: Done  46 tasks      | elapsed:   26.7s\n",
            "[Parallel(n_jobs=-1)]: Done 196 tasks      | elapsed:  1.9min\n",
            "[Parallel(n_jobs=-1)]: Done 300 out of 300 | elapsed:  2.8min finished\n"
          ]
        },
        {
          "output_type": "stream",
          "name": "stdout",
          "text": [
            "Best parameters found:  {'n_estimators': 400, 'max_depth': 4, 'learning_rate': 0.01}\n"
          ]
        }
      ]
    },
    {
      "cell_type": "code",
      "metadata": {
        "colab": {
          "base_uri": "https://localhost:8080/"
        },
        "id": "Sx10HuMPMiJw",
        "outputId": "6f785f6e-6f23-43bf-ffbc-b3f5fe65f6dc"
      },
      "source": [
        "# Use the best parameter to caculate roc_auc\n",
        "lgb_clf = LGBMClassifier(n_estimators = 400,  max_depth=4,learning_rate = 0.01)\n",
        "lgb_clf.fit(X_train, y_train)\n",
        "\n",
        "# Predict \n",
        "y_pred_lgb = lgb_clf.predict(X_test)\n",
        "\n",
        "# Plot roc\n",
        "print(metrics.classification_report(y_true=y_test, y_pred=y_pred_lgb))"
      ],
      "execution_count": 37,
      "outputs": [
        {
          "output_type": "stream",
          "name": "stdout",
          "text": [
            "              precision    recall  f1-score   support\n",
            "\n",
            "         0.0       0.87      0.74      0.80      1375\n",
            "         1.0       0.74      0.88      0.81      1204\n",
            "\n",
            "    accuracy                           0.80      2579\n",
            "   macro avg       0.81      0.81      0.80      2579\n",
            "weighted avg       0.81      0.80      0.80      2579\n",
            "\n"
          ]
        }
      ]
    },
    {
      "cell_type": "code",
      "metadata": {
        "colab": {
          "base_uri": "https://localhost:8080/",
          "height": 302
        },
        "id": "kt8LCj9fcYR0",
        "outputId": "a8fccc76-297f-488e-eae0-1018e7157292"
      },
      "source": [
        "#Get the confusion matrix\n",
        "cf_matrix = confusion_matrix(y_test, y_pred_lgb)\n",
        "group_names = ['True Neg','False Pos','False Neg','True Pos']\n",
        "group_counts = [\"{0:0.0f}\".format(value) for value in\n",
        "                cf_matrix.flatten()]\n",
        "group_percentages = [\"{0:.2%}\".format(value) for value in\n",
        "                     cf_matrix.flatten()/np.sum(cf_matrix)]\n",
        "labels = [f\"{v1}\\n{v2}\\n{v3}\" for v1, v2, v3 in\n",
        "          zip(group_names,group_counts,group_percentages)]\n",
        "labels = np.asarray(labels).reshape(2,2)\n",
        "plt.figure()\n",
        "plt.figure(figsize=(8,4))\n",
        "sns.heatmap(cf_matrix, annot=labels, fmt='', cmap='Reds')"
      ],
      "execution_count": 38,
      "outputs": [
        {
          "output_type": "execute_result",
          "data": {
            "text/plain": [
              "<matplotlib.axes._subplots.AxesSubplot at 0x7f03af81efd0>"
            ]
          },
          "metadata": {},
          "execution_count": 38
        },
        {
          "output_type": "display_data",
          "data": {
            "text/plain": [
              "<Figure size 864x288 with 0 Axes>"
            ]
          },
          "metadata": {}
        },
        {
          "output_type": "display_data",
          "data": {
            "image/png": "[encoded data removed]",
            "text/plain": [
              "<Figure size 576x288 with 2 Axes>"
            ]
          },
          "metadata": {}
        }
      ]
    },
    {
      "cell_type": "code",
      "metadata": {
        "colab": {
          "base_uri": "https://localhost:8080/",
          "height": 318
        },
        "id": "aeP870mLCB3v",
        "outputId": "a1487206-193e-4a97-9510-b6fd5658f261"
      },
      "source": [
        "sns.set(rc={'figure.figsize':(8,4)})\n",
        "plot_importance(lgb_clf, color='r')"
      ],
      "execution_count": 39,
      "outputs": [
        {
          "output_type": "execute_result",
          "data": {
            "text/plain": [
              "<matplotlib.axes._subplots.AxesSubplot at 0x7f03ba318d50>"
            ]
          },
          "metadata": {},
          "execution_count": 39
        },
        {
          "output_type": "display_data",
          "data": {
            "image/png": "[encoded data removed]",
            "text/plain": [
              "<Figure size 576x288 with 1 Axes>"
            ]
          },
          "metadata": {}
        }
      ]
    },
    {
      "cell_type": "markdown",
      "metadata": {
        "id": "9sZmD0TBHNpe"
      },
      "source": [
        "## Model 4 - ANN"
      ]
    },
    {
      "cell_type": "code",
      "metadata": {
        "id": "jWnQv4hNGpmD"
      },
      "source": [
        "# set the model\n",
        "model1 = tf.keras.models.Sequential()\n",
        "model1.add(tf.keras.layers.Dense(units=50, activation='relu', input_shape=(9, )))\n",
        "# model.add(tf.keras.layers.Dense(units=50, activation='relu'))\n",
        "model1.add(tf.keras.layers.Dense(units=1, activation='sigmoid'))"
      ],
      "execution_count": 40,
      "outputs": []
    },
    {
      "cell_type": "code",
      "metadata": {
        "colab": {
          "base_uri": "https://localhost:8080/"
        },
        "id": "CEVnYFvQHVW-",
        "outputId": "be9270e1-fc71-4c3d-bfa8-3588d4b61aa7"
      },
      "source": [
        "model1.summary()"
      ],
      "execution_count": 41,
      "outputs": [
        {
          "output_type": "stream",
          "name": "stdout",
          "text": [
            "Model: \"sequential\"\n",
            "_________________________________________________________________\n",
            "Layer (type)                 Output Shape              Param #   \n",
            "=================================================================\n",
            "dense (Dense)                (None, 50)                500       \n",
            "_________________________________________________________________\n",
            "dense_1 (Dense)              (None, 1)                 51        \n",
            "=================================================================\n",
            "Total params: 551\n",
            "Trainable params: 551\n",
            "Non-trainable params: 0\n",
            "_________________________________________________________________\n"
          ]
        }
      ]
    },
    {
      "cell_type": "code",
      "metadata": {
        "id": "5KjgWK-SHV1A"
      },
      "source": [
        "model1.compile(optimizer='Adam', loss='binary_crossentropy', metrics = ['accuracy'])"
      ],
      "execution_count": 42,
      "outputs": []
    },
    {
      "cell_type": "code",
      "metadata": {
        "colab": {
          "base_uri": "https://localhost:8080/"
        },
        "id": "jeD1HxT6HYqW",
        "outputId": "348066b9-1707-4a19-eff7-344928bae354"
      },
      "source": [
        "X_train = np.array(X_train).reshape(-1,9)\n",
        "X_train.shape"
      ],
      "execution_count": 43,
      "outputs": [
        {
          "output_type": "execute_result",
          "data": {
            "text/plain": [
              "(10314, 9)"
            ]
          },
          "metadata": {},
          "execution_count": 43
        }
      ]
    },
    {
      "cell_type": "code",
      "metadata": {
        "colab": {
          "base_uri": "https://localhost:8080/"
        },
        "id": "tOnZN9y6HaaK",
        "outputId": "e949fc13-c825-4225-9e58-a8ec8e12a7e3"
      },
      "source": [
        "# train the model\n",
        "epochs_hist = model1.fit(X_train, y_train, epochs = 100, batch_size=50)"
      ],
      "execution_count": 44,
      "outputs": [
        {
          "output_type": "stream",
          "name": "stdout",
          "text": [
            "Epoch 1/100\n",
            "207/207 [==============================] - 1s 1ms/step - loss: 0.5798 - accuracy: 0.7565\n",
            "Epoch 2/100\n",
            "207/207 [==============================] - 0s 1ms/step - loss: 0.5015 - accuracy: 0.7874\n",
            "Epoch 3/100\n",
            "207/207 [==============================] - 0s 1ms/step - loss: 0.4956 - accuracy: 0.7874\n",
            "Epoch 4/100\n",
            "207/207 [==============================] - 0s 1ms/step - loss: 0.4939 - accuracy: 0.7874\n",
            "Epoch 5/100\n",
            "207/207 [==============================] - 0s 1ms/step - loss: 0.4930 - accuracy: 0.7875\n",
            "Epoch 6/100\n",
            "207/207 [==============================] - 0s 1ms/step - loss: 0.4922 - accuracy: 0.7874\n",
            "Epoch 7/100\n",
            "207/207 [==============================] - 0s 1ms/step - loss: 0.4921 - accuracy: 0.7869\n",
            "Epoch 8/100\n",
            "207/207 [==============================] - 0s 1ms/step - loss: 0.4910 - accuracy: 0.7870\n",
            "Epoch 9/100\n",
            "207/207 [==============================] - 0s 1ms/step - loss: 0.4918 - accuracy: 0.7869\n",
            "Epoch 10/100\n",
            "207/207 [==============================] - 0s 1ms/step - loss: 0.4909 - accuracy: 0.7867\n",
            "Epoch 11/100\n",
            "207/207 [==============================] - 0s 1ms/step - loss: 0.4900 - accuracy: 0.7868\n",
            "Epoch 12/100\n",
            "207/207 [==============================] - 0s 1ms/step - loss: 0.4900 - accuracy: 0.7872\n",
            "Epoch 13/100\n",
            "207/207 [==============================] - 0s 1ms/step - loss: 0.4897 - accuracy: 0.7868\n",
            "Epoch 14/100\n",
            "207/207 [==============================] - 0s 1ms/step - loss: 0.4897 - accuracy: 0.7868\n",
            "Epoch 15/100\n",
            "207/207 [==============================] - 0s 1ms/step - loss: 0.4893 - accuracy: 0.7869\n",
            "Epoch 16/100\n",
            "207/207 [==============================] - 0s 1ms/step - loss: 0.4890 - accuracy: 0.7872\n",
            "Epoch 17/100\n",
            "207/207 [==============================] - 0s 1ms/step - loss: 0.4887 - accuracy: 0.7870\n",
            "Epoch 18/100\n",
            "207/207 [==============================] - 0s 1ms/step - loss: 0.4884 - accuracy: 0.7870\n",
            "Epoch 19/100\n",
            "207/207 [==============================] - 0s 1ms/step - loss: 0.4885 - accuracy: 0.7866\n",
            "Epoch 20/100\n",
            "207/207 [==============================] - 0s 1ms/step - loss: 0.4886 - accuracy: 0.7867\n",
            "Epoch 21/100\n",
            "207/207 [==============================] - 0s 1ms/step - loss: 0.4887 - accuracy: 0.7867\n",
            "Epoch 22/100\n",
            "207/207 [==============================] - 0s 1ms/step - loss: 0.4882 - accuracy: 0.7865\n",
            "Epoch 23/100\n",
            "207/207 [==============================] - 0s 1ms/step - loss: 0.4879 - accuracy: 0.7869\n",
            "Epoch 24/100\n",
            "207/207 [==============================] - 0s 1ms/step - loss: 0.4879 - accuracy: 0.7865\n",
            "Epoch 25/100\n",
            "207/207 [==============================] - 0s 1ms/step - loss: 0.4875 - accuracy: 0.7870\n",
            "Epoch 26/100\n",
            "207/207 [==============================] - 0s 1ms/step - loss: 0.4874 - accuracy: 0.7866\n",
            "Epoch 27/100\n",
            "207/207 [==============================] - 0s 1ms/step - loss: 0.4873 - accuracy: 0.7865\n",
            "Epoch 28/100\n",
            "207/207 [==============================] - 0s 1ms/step - loss: 0.4870 - accuracy: 0.7866\n",
            "Epoch 29/100\n",
            "207/207 [==============================] - 0s 1ms/step - loss: 0.4866 - accuracy: 0.7866\n",
            "Epoch 30/100\n",
            "207/207 [==============================] - 0s 1ms/step - loss: 0.4865 - accuracy: 0.7868\n",
            "Epoch 31/100\n",
            "207/207 [==============================] - 0s 1ms/step - loss: 0.4869 - accuracy: 0.7863\n",
            "Epoch 32/100\n",
            "207/207 [==============================] - 0s 1ms/step - loss: 0.4866 - accuracy: 0.7868\n",
            "Epoch 33/100\n",
            "207/207 [==============================] - 0s 1ms/step - loss: 0.4866 - accuracy: 0.7866\n",
            "Epoch 34/100\n",
            "207/207 [==============================] - 0s 1ms/step - loss: 0.4864 - accuracy: 0.7866\n",
            "Epoch 35/100\n",
            "207/207 [==============================] - 0s 1ms/step - loss: 0.4861 - accuracy: 0.7863\n",
            "Epoch 36/100\n",
            "207/207 [==============================] - 0s 1ms/step - loss: 0.4865 - accuracy: 0.7866\n",
            "Epoch 37/100\n",
            "207/207 [==============================] - 0s 1ms/step - loss: 0.4859 - accuracy: 0.7866\n",
            "Epoch 38/100\n",
            "207/207 [==============================] - 0s 1ms/step - loss: 0.4859 - accuracy: 0.7868\n",
            "Epoch 39/100\n",
            "207/207 [==============================] - 0s 1ms/step - loss: 0.4859 - accuracy: 0.7867\n",
            "Epoch 40/100\n",
            "207/207 [==============================] - 0s 1ms/step - loss: 0.4857 - accuracy: 0.7866\n",
            "Epoch 41/100\n",
            "207/207 [==============================] - 0s 1ms/step - loss: 0.4857 - accuracy: 0.7866\n",
            "Epoch 42/100\n",
            "207/207 [==============================] - 0s 1ms/step - loss: 0.4851 - accuracy: 0.7866\n",
            "Epoch 43/100\n",
            "207/207 [==============================] - 0s 1ms/step - loss: 0.4858 - accuracy: 0.7868\n",
            "Epoch 44/100\n",
            "207/207 [==============================] - 0s 1ms/step - loss: 0.4857 - accuracy: 0.7864\n",
            "Epoch 45/100\n",
            "207/207 [==============================] - 0s 1ms/step - loss: 0.4850 - accuracy: 0.7867\n",
            "Epoch 46/100\n",
            "207/207 [==============================] - 0s 1ms/step - loss: 0.4856 - accuracy: 0.7866\n",
            "Epoch 47/100\n",
            "207/207 [==============================] - 0s 1ms/step - loss: 0.4848 - accuracy: 0.7868\n",
            "Epoch 48/100\n",
            "207/207 [==============================] - 0s 1ms/step - loss: 0.4846 - accuracy: 0.7865\n",
            "Epoch 49/100\n",
            "207/207 [==============================] - 0s 1ms/step - loss: 0.4850 - accuracy: 0.7868\n",
            "Epoch 50/100\n",
            "207/207 [==============================] - 0s 1ms/step - loss: 0.4847 - accuracy: 0.7866\n",
            "Epoch 51/100\n",
            "207/207 [==============================] - 0s 1ms/step - loss: 0.4848 - accuracy: 0.7869\n",
            "Epoch 52/100\n",
            "207/207 [==============================] - 0s 1ms/step - loss: 0.4844 - accuracy: 0.7866\n",
            "Epoch 53/100\n",
            "207/207 [==============================] - 0s 1ms/step - loss: 0.4843 - accuracy: 0.7871\n",
            "Epoch 54/100\n",
            "207/207 [==============================] - 0s 1ms/step - loss: 0.4841 - accuracy: 0.7868\n",
            "Epoch 55/100\n",
            "207/207 [==============================] - 0s 1ms/step - loss: 0.4845 - accuracy: 0.7869\n",
            "Epoch 56/100\n",
            "207/207 [==============================] - 0s 1ms/step - loss: 0.4843 - accuracy: 0.7869\n",
            "Epoch 57/100\n",
            "207/207 [==============================] - 0s 1ms/step - loss: 0.4845 - accuracy: 0.7868\n",
            "Epoch 58/100\n",
            "207/207 [==============================] - 0s 1ms/step - loss: 0.4838 - accuracy: 0.7868\n",
            "Epoch 59/100\n",
            "207/207 [==============================] - 0s 1ms/step - loss: 0.4841 - accuracy: 0.7868\n",
            "Epoch 60/100\n",
            "207/207 [==============================] - 0s 1ms/step - loss: 0.4839 - accuracy: 0.7868\n",
            "Epoch 61/100\n",
            "207/207 [==============================] - 0s 1ms/step - loss: 0.4842 - accuracy: 0.7871\n",
            "Epoch 62/100\n",
            "207/207 [==============================] - 0s 1ms/step - loss: 0.4841 - accuracy: 0.7868\n",
            "Epoch 63/100\n",
            "207/207 [==============================] - 0s 1ms/step - loss: 0.4840 - accuracy: 0.7868\n",
            "Epoch 64/100\n",
            "207/207 [==============================] - 0s 1ms/step - loss: 0.4840 - accuracy: 0.7869\n",
            "Epoch 65/100\n",
            "207/207 [==============================] - 0s 1ms/step - loss: 0.4836 - accuracy: 0.7867\n",
            "Epoch 66/100\n",
            "207/207 [==============================] - 0s 1ms/step - loss: 0.4840 - accuracy: 0.7871\n",
            "Epoch 67/100\n",
            "207/207 [==============================] - 0s 1ms/step - loss: 0.4837 - accuracy: 0.7868\n",
            "Epoch 68/100\n",
            "207/207 [==============================] - 0s 1ms/step - loss: 0.4835 - accuracy: 0.7871\n",
            "Epoch 69/100\n",
            "207/207 [==============================] - 0s 1ms/step - loss: 0.4836 - accuracy: 0.7868\n",
            "Epoch 70/100\n",
            "207/207 [==============================] - 0s 1ms/step - loss: 0.4832 - accuracy: 0.7872\n",
            "Epoch 71/100\n",
            "207/207 [==============================] - 0s 1ms/step - loss: 0.4832 - accuracy: 0.7871\n",
            "Epoch 72/100\n",
            "207/207 [==============================] - 0s 1ms/step - loss: 0.4836 - accuracy: 0.7871\n",
            "Epoch 73/100\n",
            "207/207 [==============================] - 0s 1ms/step - loss: 0.4831 - accuracy: 0.7867\n",
            "Epoch 74/100\n",
            "207/207 [==============================] - 0s 1ms/step - loss: 0.4831 - accuracy: 0.7871\n",
            "Epoch 75/100\n",
            "207/207 [==============================] - 0s 1ms/step - loss: 0.4828 - accuracy: 0.7865\n",
            "Epoch 76/100\n",
            "207/207 [==============================] - 0s 1ms/step - loss: 0.4832 - accuracy: 0.7868\n",
            "Epoch 77/100\n",
            "207/207 [==============================] - 0s 1ms/step - loss: 0.4833 - accuracy: 0.7866\n",
            "Epoch 78/100\n",
            "207/207 [==============================] - 0s 1ms/step - loss: 0.4830 - accuracy: 0.7871\n",
            "Epoch 79/100\n",
            "207/207 [==============================] - 0s 1ms/step - loss: 0.4831 - accuracy: 0.7871\n",
            "Epoch 80/100\n",
            "207/207 [==============================] - 0s 1ms/step - loss: 0.4832 - accuracy: 0.7869\n",
            "Epoch 81/100\n",
            "207/207 [==============================] - 0s 1ms/step - loss: 0.4829 - accuracy: 0.7869\n",
            "Epoch 82/100\n",
            "207/207 [==============================] - 0s 1ms/step - loss: 0.4832 - accuracy: 0.7868\n",
            "Epoch 83/100\n",
            "207/207 [==============================] - 0s 1ms/step - loss: 0.4826 - accuracy: 0.7869\n",
            "Epoch 84/100\n",
            "207/207 [==============================] - 0s 1ms/step - loss: 0.4828 - accuracy: 0.7875\n",
            "Epoch 85/100\n",
            "207/207 [==============================] - 0s 1ms/step - loss: 0.4828 - accuracy: 0.7873\n",
            "Epoch 86/100\n",
            "207/207 [==============================] - 0s 1ms/step - loss: 0.4825 - accuracy: 0.7873\n",
            "Epoch 87/100\n",
            "207/207 [==============================] - 0s 1ms/step - loss: 0.4824 - accuracy: 0.7871\n",
            "Epoch 88/100\n",
            "207/207 [==============================] - 0s 1ms/step - loss: 0.4826 - accuracy: 0.7869\n",
            "Epoch 89/100\n",
            "207/207 [==============================] - 0s 1ms/step - loss: 0.4824 - accuracy: 0.7872\n",
            "Epoch 90/100\n",
            "207/207 [==============================] - 0s 1ms/step - loss: 0.4829 - accuracy: 0.7867\n",
            "Epoch 91/100\n",
            "207/207 [==============================] - 0s 1ms/step - loss: 0.4830 - accuracy: 0.7868\n",
            "Epoch 92/100\n",
            "207/207 [==============================] - 0s 1ms/step - loss: 0.4822 - accuracy: 0.7864\n",
            "Epoch 93/100\n",
            "207/207 [==============================] - 0s 1ms/step - loss: 0.4824 - accuracy: 0.7868\n",
            "Epoch 94/100\n",
            "207/207 [==============================] - 0s 1ms/step - loss: 0.4822 - accuracy: 0.7865\n",
            "Epoch 95/100\n",
            "207/207 [==============================] - 0s 1ms/step - loss: 0.4827 - accuracy: 0.7869\n",
            "Epoch 96/100\n",
            "207/207 [==============================] - 0s 1ms/step - loss: 0.4821 - accuracy: 0.7866\n",
            "Epoch 97/100\n",
            "207/207 [==============================] - 0s 1ms/step - loss: 0.4825 - accuracy: 0.7871\n",
            "Epoch 98/100\n",
            "207/207 [==============================] - 0s 1ms/step - loss: 0.4820 - accuracy: 0.7868\n",
            "Epoch 99/100\n",
            "207/207 [==============================] - 0s 1ms/step - loss: 0.4825 - accuracy: 0.7875\n",
            "Epoch 100/100\n",
            "207/207 [==============================] - 0s 1ms/step - loss: 0.4823 - accuracy: 0.7871\n"
          ]
        }
      ]
    },
    {
      "cell_type": "code",
      "metadata": {
        "colab": {
          "base_uri": "https://localhost:8080/"
        },
        "id": "N165kOuFHfhC",
        "outputId": "f4639c89-d050-42bf-a0d2-9de139ba2946"
      },
      "source": [
        "# Predict \n",
        "y_pred_ann = model1.predict(X_test)\n",
        "y_pred_ann"
      ],
      "execution_count": 45,
      "outputs": [
        {
          "output_type": "execute_result",
          "data": {
            "text/plain": [
              "array([[0.7936418 ],\n",
              "       [0.4550386 ],\n",
              "       [0.689416  ],\n",
              "       ...,\n",
              "       [0.836639  ],\n",
              "       [0.07500309],\n",
              "       [0.09670335]], dtype=float32)"
            ]
          },
          "metadata": {},
          "execution_count": 45
        }
      ]
    },
    {
      "cell_type": "code",
      "metadata": {
        "colab": {
          "base_uri": "https://localhost:8080/"
        },
        "id": "A8VAjOGqH75A",
        "outputId": "10fe079a-7700-4a5b-c2b0-55f7292336ba"
      },
      "source": [
        "y_test"
      ],
      "execution_count": 46,
      "outputs": [
        {
          "output_type": "execute_result",
          "data": {
            "text/plain": [
              "5728     1.0\n",
              "10553    1.0\n",
              "2700     1.0\n",
              "3952     0.0\n",
              "1201     0.0\n",
              "        ... \n",
              "11713    1.0\n",
              "277      1.0\n",
              "8739     1.0\n",
              "10071    0.0\n",
              "453      0.0\n",
              "Name: cur_brand, Length: 2579, dtype: float64"
            ]
          },
          "metadata": {},
          "execution_count": 46
        }
      ]
    },
    {
      "cell_type": "code",
      "metadata": {
        "id": "4NI-VwSUIBRd"
      },
      "source": [
        "y_pred_ann = (y_pred_ann > df1['cur_brand'].mean())"
      ],
      "execution_count": 47,
      "outputs": []
    },
    {
      "cell_type": "code",
      "metadata": {
        "colab": {
          "base_uri": "https://localhost:8080/",
          "height": 285
        },
        "id": "Sjc0DKkbILhy",
        "outputId": "d99d8074-d0e3-4237-dc50-6e4605dc3169"
      },
      "source": [
        "# visualize the confusion matrix\n",
        "cm = confusion_matrix(y_test, y_pred_ann)\n",
        "sns.heatmap(cm, annot=True)"
      ],
      "execution_count": 48,
      "outputs": [
        {
          "output_type": "execute_result",
          "data": {
            "text/plain": [
              "<matplotlib.axes._subplots.AxesSubplot at 0x7f03aabe9d10>"
            ]
          },
          "metadata": {},
          "execution_count": 48
        },
        {
          "output_type": "display_data",
          "data": {
            "image/png": "[encoded data removed]",
            "text/plain": [
              "<Figure size 576x288 with 2 Axes>"
            ]
          },
          "metadata": {}
        }
      ]
    },
    {
      "cell_type": "code",
      "metadata": {
        "colab": {
          "base_uri": "https://localhost:8080/",
          "height": 302
        },
        "id": "rIC2QgnoIV9q",
        "outputId": "0935056b-8cc9-4dc1-cf47-a25f91ee4640"
      },
      "source": [
        "cf_matrix = confusion_matrix(y_test, y_pred_ann)\n",
        "\n",
        "group_names = ['True Neg','False Pos','False Neg','True Pos']\n",
        "group_counts = [\"{0:0.0f}\".format(value) for value in\n",
        "                cf_matrix.flatten()]\n",
        "group_percentages = [\"{0:.2%}\".format(value) for value in\n",
        "                     cf_matrix.flatten()/np.sum(cf_matrix)]\n",
        "labels = [f\"{v1}\\n{v2}\\n{v3}\" for v1, v2, v3 in\n",
        "          zip(group_names,group_counts,group_percentages)]\n",
        "labels = np.asarray(labels).reshape(2,2)\n",
        "plt.figure()\n",
        "plt.figure(figsize=(8,4))\n",
        "sns.heatmap(cf_matrix, annot=labels, fmt='', cmap='Reds')"
      ],
      "execution_count": 49,
      "outputs": [
        {
          "output_type": "execute_result",
          "data": {
            "text/plain": [
              "<matplotlib.axes._subplots.AxesSubplot at 0x7f03aabb0490>"
            ]
          },
          "metadata": {},
          "execution_count": 49
        },
        {
          "output_type": "display_data",
          "data": {
            "text/plain": [
              "<Figure size 576x288 with 0 Axes>"
            ]
          },
          "metadata": {}
        },
        {
          "output_type": "display_data",
          "data": {
            "image/png": "[encoded data removed]",
            "text/plain": [
              "<Figure size 576x288 with 2 Axes>"
            ]
          },
          "metadata": {}
        }
      ]
    }
  ]
}