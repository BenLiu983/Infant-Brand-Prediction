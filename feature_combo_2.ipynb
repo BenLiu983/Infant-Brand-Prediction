{
  "nbformat": 4,
  "nbformat_minor": 0,
  "metadata": {
    "colab": {
      "name": "Modeling (feature combination 2) 1015.ipynb",
      "provenance": [],
      "collapsed_sections": [],
      "authorship_tag": "ABX9TyM5wbR9E28cB4z87e6ON1gP",
      "include_colab_link": true
    },
    "kernelspec": {
      "name": "python3",
      "display_name": "Python 3"
    },
    "language_info": {
      "name": "python"
    }
  },
  "cells": [
    {
      "cell_type": "markdown",
      "metadata": {
        "id": "view-in-github",
        "colab_type": "text"
      },
      "source": [
        "<a href=\"https://colab.research.google.com/github/BenLiu983/Infant-Brand-Prediction/blob/Modeling/Modeling_feature_combination_2_1015.ipynb\" target=\"_parent\"><img src=\"https://colab.research.google.com/assets/colab-badge.svg\" alt=\"Open In Colab\"/></a>"
      ]
    },
    {
      "cell_type": "code",
      "metadata": {
        "colab": {
          "base_uri": "https://localhost:8080/"
        },
        "id": "GNIqumYpCqls",
        "outputId": "84bd6ccf-5f65-487c-afa0-bb9594fa6538"
      },
      "source": [
        "from google.colab import drive\n",
        "drive.mount('/content/drive')"
      ],
      "execution_count": 1,
      "outputs": [
        {
          "output_type": "stream",
          "name": "stdout",
          "text": [
            "Drive already mounted at /content/drive; to attempt to forcibly remount, call drive.mount(\"/content/drive\", force_remount=True).\n"
          ]
        }
      ]
    },
    {
      "cell_type": "code",
      "metadata": {
        "id": "gP0OcHlSCXOu"
      },
      "source": [
        "import pandas as pd\n",
        "import numpy as np\n",
        "import seaborn as sns \n",
        "from sklearn.neighbors import KNeighborsClassifier\n",
        "from sklearn.model_selection import train_test_split\n",
        "from sklearn.linear_model import LogisticRegression\n",
        "from sklearn import tree\n",
        "from sklearn import metrics\n",
        "from sklearn.metrics import roc_curve, roc_auc_score\n",
        "from sklearn.metrics import classification_report, confusion_matrix\n",
        "from sklearn import svm\n",
        "from sklearn.preprocessing import MinMaxScaler\n",
        "from sklearn.model_selection import cross_val_score\n",
        "from sklearn.model_selection import cross_val_predict\n",
        "from sklearn.metrics import mean_squared_error, r2_score\n",
        "from sklearn.metrics import classification_report, confusion_matrix\n",
        "from sklearn.tree import DecisionTreeClassifier\n",
        "import matplotlib.pyplot as plt\n",
        "from lightgbm import LGBMClassifier\n",
        "from lightgbm import plot_importance\n",
        "from sklearn.model_selection import RandomizedSearchCV\n",
        "from sklearn.model_selection import GridSearchCV\n",
        "import tensorflow as tf\n",
        "import warnings\n",
        "warnings.filterwarnings(\"ignore\", category=FutureWarning)\n",
        "sns.set(font_scale=1.2)\n",
        "sns.set_style(\"whitegrid\")"
      ],
      "execution_count": 2,
      "outputs": []
    },
    {
      "cell_type": "code",
      "metadata": {
        "colab": {
          "base_uri": "https://localhost:8080/",
          "height": 422
        },
        "id": "oUq4aysbCaOf",
        "outputId": "be004320-cb7e-472c-8df4-b729f9e8f2f8"
      },
      "source": [
        "# load the dataset\n",
        "df1 = pd.read_csv('/content/drive/MyDrive/colab_new_202109/predict_infant_brand/current_infant_brand_clean.csv')\n",
        "df1"
      ],
      "execution_count": 3,
      "outputs": [
        {
          "output_type": "execute_result",
          "data": {
            "text/html": [
              "<div>\n",
              "<style scoped>\n",
              "    .dataframe tbody tr th:only-of-type {\n",
              "        vertical-align: middle;\n",
              "    }\n",
              "\n",
              "    .dataframe tbody tr th {\n",
              "        vertical-align: top;\n",
              "    }\n",
              "\n",
              "    .dataframe thead th {\n",
              "        text-align: right;\n",
              "    }\n",
              "</style>\n",
              "<table border=\"1\" class=\"dataframe\">\n",
              "  <thead>\n",
              "    <tr style=\"text-align: right;\">\n",
              "      <th></th>\n",
              "      <th>cur_brand</th>\n",
              "      <th>first_buy_brand</th>\n",
              "      <th>babyage</th>\n",
              "      <th>ZONE</th>\n",
              "      <th>breastfeed</th>\n",
              "      <th>enroll_type2</th>\n",
              "      <th>enroll_age</th>\n",
              "      <th>open_rate0</th>\n",
              "      <th>click_rate0</th>\n",
              "      <th>redem_rate0</th>\n",
              "    </tr>\n",
              "  </thead>\n",
              "  <tbody>\n",
              "    <tr>\n",
              "      <th>0</th>\n",
              "      <td>0</td>\n",
              "      <td>0</td>\n",
              "      <td>120</td>\n",
              "      <td>1</td>\n",
              "      <td>0</td>\n",
              "      <td>1</td>\n",
              "      <td>-247</td>\n",
              "      <td>0.000000</td>\n",
              "      <td>0.000000</td>\n",
              "      <td>0.000000</td>\n",
              "    </tr>\n",
              "    <tr>\n",
              "      <th>1</th>\n",
              "      <td>1</td>\n",
              "      <td>1</td>\n",
              "      <td>150</td>\n",
              "      <td>1</td>\n",
              "      <td>1</td>\n",
              "      <td>1</td>\n",
              "      <td>-169</td>\n",
              "      <td>0.052632</td>\n",
              "      <td>0.000000</td>\n",
              "      <td>0.600000</td>\n",
              "    </tr>\n",
              "    <tr>\n",
              "      <th>2</th>\n",
              "      <td>0</td>\n",
              "      <td>0</td>\n",
              "      <td>330</td>\n",
              "      <td>1</td>\n",
              "      <td>1</td>\n",
              "      <td>1</td>\n",
              "      <td>-64</td>\n",
              "      <td>0.714286</td>\n",
              "      <td>0.285714</td>\n",
              "      <td>0.000000</td>\n",
              "    </tr>\n",
              "    <tr>\n",
              "      <th>3</th>\n",
              "      <td>1</td>\n",
              "      <td>1</td>\n",
              "      <td>60</td>\n",
              "      <td>1</td>\n",
              "      <td>1</td>\n",
              "      <td>0</td>\n",
              "      <td>-31</td>\n",
              "      <td>0.911765</td>\n",
              "      <td>0.205882</td>\n",
              "      <td>0.666667</td>\n",
              "    </tr>\n",
              "    <tr>\n",
              "      <th>4</th>\n",
              "      <td>1</td>\n",
              "      <td>1</td>\n",
              "      <td>30</td>\n",
              "      <td>1</td>\n",
              "      <td>0</td>\n",
              "      <td>1</td>\n",
              "      <td>9</td>\n",
              "      <td>0.250000</td>\n",
              "      <td>0.071429</td>\n",
              "      <td>0.250000</td>\n",
              "    </tr>\n",
              "    <tr>\n",
              "      <th>...</th>\n",
              "      <td>...</td>\n",
              "      <td>...</td>\n",
              "      <td>...</td>\n",
              "      <td>...</td>\n",
              "      <td>...</td>\n",
              "      <td>...</td>\n",
              "      <td>...</td>\n",
              "      <td>...</td>\n",
              "      <td>...</td>\n",
              "      <td>...</td>\n",
              "    </tr>\n",
              "    <tr>\n",
              "      <th>12888</th>\n",
              "      <td>1</td>\n",
              "      <td>0</td>\n",
              "      <td>180</td>\n",
              "      <td>0</td>\n",
              "      <td>1</td>\n",
              "      <td>1</td>\n",
              "      <td>-39</td>\n",
              "      <td>0.289474</td>\n",
              "      <td>0.105263</td>\n",
              "      <td>0.000000</td>\n",
              "    </tr>\n",
              "    <tr>\n",
              "      <th>12889</th>\n",
              "      <td>1</td>\n",
              "      <td>1</td>\n",
              "      <td>0</td>\n",
              "      <td>1</td>\n",
              "      <td>1</td>\n",
              "      <td>0</td>\n",
              "      <td>-241</td>\n",
              "      <td>0.782609</td>\n",
              "      <td>0.043478</td>\n",
              "      <td>0.500000</td>\n",
              "    </tr>\n",
              "    <tr>\n",
              "      <th>12890</th>\n",
              "      <td>1</td>\n",
              "      <td>0</td>\n",
              "      <td>30</td>\n",
              "      <td>1</td>\n",
              "      <td>1</td>\n",
              "      <td>1</td>\n",
              "      <td>-128</td>\n",
              "      <td>0.271186</td>\n",
              "      <td>0.050847</td>\n",
              "      <td>0.500000</td>\n",
              "    </tr>\n",
              "    <tr>\n",
              "      <th>12891</th>\n",
              "      <td>1</td>\n",
              "      <td>1</td>\n",
              "      <td>30</td>\n",
              "      <td>1</td>\n",
              "      <td>1</td>\n",
              "      <td>1</td>\n",
              "      <td>-37</td>\n",
              "      <td>0.210526</td>\n",
              "      <td>0.078947</td>\n",
              "      <td>0.000000</td>\n",
              "    </tr>\n",
              "    <tr>\n",
              "      <th>12892</th>\n",
              "      <td>1</td>\n",
              "      <td>1</td>\n",
              "      <td>90</td>\n",
              "      <td>1</td>\n",
              "      <td>1</td>\n",
              "      <td>0</td>\n",
              "      <td>-213</td>\n",
              "      <td>0.441176</td>\n",
              "      <td>0.058824</td>\n",
              "      <td>0.500000</td>\n",
              "    </tr>\n",
              "  </tbody>\n",
              "</table>\n",
              "<p>12893 rows × 10 columns</p>\n",
              "</div>"
            ],
            "text/plain": [
              "       cur_brand  first_buy_brand  ...  click_rate0  redem_rate0\n",
              "0              0                0  ...     0.000000     0.000000\n",
              "1              1                1  ...     0.000000     0.600000\n",
              "2              0                0  ...     0.285714     0.000000\n",
              "3              1                1  ...     0.205882     0.666667\n",
              "4              1                1  ...     0.071429     0.250000\n",
              "...          ...              ...  ...          ...          ...\n",
              "12888          1                0  ...     0.105263     0.000000\n",
              "12889          1                1  ...     0.043478     0.500000\n",
              "12890          1                0  ...     0.050847     0.500000\n",
              "12891          1                1  ...     0.078947     0.000000\n",
              "12892          1                1  ...     0.058824     0.500000\n",
              "\n",
              "[12893 rows x 10 columns]"
            ]
          },
          "metadata": {},
          "execution_count": 3
        }
      ]
    },
    {
      "cell_type": "code",
      "metadata": {
        "colab": {
          "base_uri": "https://localhost:8080/",
          "height": 560
        },
        "id": "5NjiTRGfC5xa",
        "outputId": "80668b58-c056-491c-acac-c2e8cd873981"
      },
      "source": [
        "#scale the data\n",
        "scaler = MinMaxScaler()\n",
        "print(scaler.fit(df1))\n",
        "print(scaler.transform(df1))\n",
        "df2 = pd.DataFrame(scaler.transform(df1))\n",
        "df2.columns = df1.columns\n",
        "df2"
      ],
      "execution_count": 4,
      "outputs": [
        {
          "output_type": "stream",
          "name": "stdout",
          "text": [
            "MinMaxScaler(copy=True, feature_range=(0, 1))\n",
            "[[0.         0.         0.33333333 ... 0.         0.         0.        ]\n",
            " [1.         1.         0.41666667 ... 0.05263158 0.         0.6       ]\n",
            " [0.         0.         0.91666667 ... 0.71428571 0.28571429 0.        ]\n",
            " ...\n",
            " [1.         0.         0.08333333 ... 0.27118644 0.05084746 0.5       ]\n",
            " [1.         1.         0.08333333 ... 0.21052632 0.07894737 0.        ]\n",
            " [1.         1.         0.25       ... 0.44117647 0.05882353 0.5       ]]\n"
          ]
        },
        {
          "output_type": "execute_result",
          "data": {
            "text/html": [
              "<div>\n",
              "<style scoped>\n",
              "    .dataframe tbody tr th:only-of-type {\n",
              "        vertical-align: middle;\n",
              "    }\n",
              "\n",
              "    .dataframe tbody tr th {\n",
              "        vertical-align: top;\n",
              "    }\n",
              "\n",
              "    .dataframe thead th {\n",
              "        text-align: right;\n",
              "    }\n",
              "</style>\n",
              "<table border=\"1\" class=\"dataframe\">\n",
              "  <thead>\n",
              "    <tr style=\"text-align: right;\">\n",
              "      <th></th>\n",
              "      <th>cur_brand</th>\n",
              "      <th>first_buy_brand</th>\n",
              "      <th>babyage</th>\n",
              "      <th>ZONE</th>\n",
              "      <th>breastfeed</th>\n",
              "      <th>enroll_type2</th>\n",
              "      <th>enroll_age</th>\n",
              "      <th>open_rate0</th>\n",
              "      <th>click_rate0</th>\n",
              "      <th>redem_rate0</th>\n",
              "    </tr>\n",
              "  </thead>\n",
              "  <tbody>\n",
              "    <tr>\n",
              "      <th>0</th>\n",
              "      <td>0.0</td>\n",
              "      <td>0.0</td>\n",
              "      <td>0.333333</td>\n",
              "      <td>1.0</td>\n",
              "      <td>0.0</td>\n",
              "      <td>1.0</td>\n",
              "      <td>0.487926</td>\n",
              "      <td>0.000000</td>\n",
              "      <td>0.000000</td>\n",
              "      <td>0.000000</td>\n",
              "    </tr>\n",
              "    <tr>\n",
              "      <th>1</th>\n",
              "      <td>1.0</td>\n",
              "      <td>1.0</td>\n",
              "      <td>0.416667</td>\n",
              "      <td>1.0</td>\n",
              "      <td>1.0</td>\n",
              "      <td>1.0</td>\n",
              "      <td>0.496372</td>\n",
              "      <td>0.052632</td>\n",
              "      <td>0.000000</td>\n",
              "      <td>0.600000</td>\n",
              "    </tr>\n",
              "    <tr>\n",
              "      <th>2</th>\n",
              "      <td>0.0</td>\n",
              "      <td>0.0</td>\n",
              "      <td>0.916667</td>\n",
              "      <td>1.0</td>\n",
              "      <td>1.0</td>\n",
              "      <td>1.0</td>\n",
              "      <td>0.507742</td>\n",
              "      <td>0.714286</td>\n",
              "      <td>0.285714</td>\n",
              "      <td>0.000000</td>\n",
              "    </tr>\n",
              "    <tr>\n",
              "      <th>3</th>\n",
              "      <td>1.0</td>\n",
              "      <td>1.0</td>\n",
              "      <td>0.166667</td>\n",
              "      <td>1.0</td>\n",
              "      <td>1.0</td>\n",
              "      <td>0.0</td>\n",
              "      <td>0.511316</td>\n",
              "      <td>0.911765</td>\n",
              "      <td>0.205882</td>\n",
              "      <td>0.666667</td>\n",
              "    </tr>\n",
              "    <tr>\n",
              "      <th>4</th>\n",
              "      <td>1.0</td>\n",
              "      <td>1.0</td>\n",
              "      <td>0.083333</td>\n",
              "      <td>1.0</td>\n",
              "      <td>0.0</td>\n",
              "      <td>1.0</td>\n",
              "      <td>0.515647</td>\n",
              "      <td>0.250000</td>\n",
              "      <td>0.071429</td>\n",
              "      <td>0.250000</td>\n",
              "    </tr>\n",
              "    <tr>\n",
              "      <th>...</th>\n",
              "      <td>...</td>\n",
              "      <td>...</td>\n",
              "      <td>...</td>\n",
              "      <td>...</td>\n",
              "      <td>...</td>\n",
              "      <td>...</td>\n",
              "      <td>...</td>\n",
              "      <td>...</td>\n",
              "      <td>...</td>\n",
              "      <td>...</td>\n",
              "    </tr>\n",
              "    <tr>\n",
              "      <th>12888</th>\n",
              "      <td>1.0</td>\n",
              "      <td>0.0</td>\n",
              "      <td>0.500000</td>\n",
              "      <td>0.0</td>\n",
              "      <td>1.0</td>\n",
              "      <td>1.0</td>\n",
              "      <td>0.510449</td>\n",
              "      <td>0.289474</td>\n",
              "      <td>0.105263</td>\n",
              "      <td>0.000000</td>\n",
              "    </tr>\n",
              "    <tr>\n",
              "      <th>12889</th>\n",
              "      <td>1.0</td>\n",
              "      <td>1.0</td>\n",
              "      <td>0.000000</td>\n",
              "      <td>1.0</td>\n",
              "      <td>1.0</td>\n",
              "      <td>0.0</td>\n",
              "      <td>0.488576</td>\n",
              "      <td>0.782609</td>\n",
              "      <td>0.043478</td>\n",
              "      <td>0.500000</td>\n",
              "    </tr>\n",
              "    <tr>\n",
              "      <th>12890</th>\n",
              "      <td>1.0</td>\n",
              "      <td>0.0</td>\n",
              "      <td>0.083333</td>\n",
              "      <td>1.0</td>\n",
              "      <td>1.0</td>\n",
              "      <td>1.0</td>\n",
              "      <td>0.500812</td>\n",
              "      <td>0.271186</td>\n",
              "      <td>0.050847</td>\n",
              "      <td>0.500000</td>\n",
              "    </tr>\n",
              "    <tr>\n",
              "      <th>12891</th>\n",
              "      <td>1.0</td>\n",
              "      <td>1.0</td>\n",
              "      <td>0.083333</td>\n",
              "      <td>1.0</td>\n",
              "      <td>1.0</td>\n",
              "      <td>1.0</td>\n",
              "      <td>0.510666</td>\n",
              "      <td>0.210526</td>\n",
              "      <td>0.078947</td>\n",
              "      <td>0.000000</td>\n",
              "    </tr>\n",
              "    <tr>\n",
              "      <th>12892</th>\n",
              "      <td>1.0</td>\n",
              "      <td>1.0</td>\n",
              "      <td>0.250000</td>\n",
              "      <td>1.0</td>\n",
              "      <td>1.0</td>\n",
              "      <td>0.0</td>\n",
              "      <td>0.491608</td>\n",
              "      <td>0.441176</td>\n",
              "      <td>0.058824</td>\n",
              "      <td>0.500000</td>\n",
              "    </tr>\n",
              "  </tbody>\n",
              "</table>\n",
              "<p>12893 rows × 10 columns</p>\n",
              "</div>"
            ],
            "text/plain": [
              "       cur_brand  first_buy_brand  ...  click_rate0  redem_rate0\n",
              "0            0.0              0.0  ...     0.000000     0.000000\n",
              "1            1.0              1.0  ...     0.000000     0.600000\n",
              "2            0.0              0.0  ...     0.285714     0.000000\n",
              "3            1.0              1.0  ...     0.205882     0.666667\n",
              "4            1.0              1.0  ...     0.071429     0.250000\n",
              "...          ...              ...  ...          ...          ...\n",
              "12888        1.0              0.0  ...     0.105263     0.000000\n",
              "12889        1.0              1.0  ...     0.043478     0.500000\n",
              "12890        1.0              0.0  ...     0.050847     0.500000\n",
              "12891        1.0              1.0  ...     0.078947     0.000000\n",
              "12892        1.0              1.0  ...     0.058824     0.500000\n",
              "\n",
              "[12893 rows x 10 columns]"
            ]
          },
          "metadata": {},
          "execution_count": 4
        }
      ]
    },
    {
      "cell_type": "code",
      "metadata": {
        "id": "moNSbFJZDcCF"
      },
      "source": [
        "# train test split\n",
        "dfx = df2.drop(columns= ['cur_brand','first_buy_brand'])\n",
        "X_train, X_test, y_train, y_test = train_test_split(dfx, \n",
        "                                                   df2['cur_brand'],\n",
        "                                                    test_size = 0.2,\n",
        "                                                    stratify=df2['cur_brand'], \n",
        "                                                    random_state=0)"
      ],
      "execution_count": 5,
      "outputs": []
    },
    {
      "cell_type": "markdown",
      "metadata": {
        "id": "3DgLJQ5CEISy"
      },
      "source": [
        "## 1. Model 1 - Logistic Regression"
      ]
    },
    {
      "cell_type": "code",
      "metadata": {
        "colab": {
          "base_uri": "https://localhost:8080/"
        },
        "id": "St1vzPNCJo7c",
        "outputId": "6cc361a4-1f74-4c44-cd8d-c00aa63c3ee3"
      },
      "source": [
        "clf_lr = LogisticRegression(max_iter=1000)\n",
        "\n",
        "# cv\n",
        "scores = cross_val_score(clf_lr, X_train, y_train, scoring='r2', cv=5)\n",
        "print(scores)\n",
        "\n",
        "# make cross validated predictions\n",
        "y_pred = cross_val_predict(clf_lr, X_train, y_train, cv=5)\n",
        "\n",
        "print(r2_score(y_train, y_pred))\n",
        "print(\"%0.4f accuracy with a standard deviation of %0.2f\" % (scores.mean(), scores.std()))"
      ],
      "execution_count": 6,
      "outputs": [
        {
          "output_type": "stream",
          "name": "stdout",
          "text": [
            "[-0.50153214 -0.49958463 -0.42363164 -0.55411498 -0.48073818]\n",
            "-0.4919212159220112\n",
            "-0.4919 accuracy with a standard deviation of 0.04\n"
          ]
        }
      ]
    },
    {
      "cell_type": "code",
      "metadata": {
        "colab": {
          "base_uri": "https://localhost:8080/"
        },
        "id": "0QluJ_i-EYE2",
        "outputId": "1ac4cdf9-2f1f-4050-ab00-50706fd0e380"
      },
      "source": [
        "clf_lr.fit(X_train, y_train)\n",
        "# predict \n",
        "y_pred_lr = clf_lr.predict(X_test)\n",
        "print(metrics.classification_report(y_true=y_test, y_pred=y_pred_lr))"
      ],
      "execution_count": 7,
      "outputs": [
        {
          "output_type": "stream",
          "name": "stdout",
          "text": [
            "              precision    recall  f1-score   support\n",
            "\n",
            "         0.0       0.63      0.76      0.69      1375\n",
            "         1.0       0.64      0.48      0.55      1204\n",
            "\n",
            "    accuracy                           0.63      2579\n",
            "   macro avg       0.63      0.62      0.62      2579\n",
            "weighted avg       0.63      0.63      0.62      2579\n",
            "\n"
          ]
        }
      ]
    },
    {
      "cell_type": "code",
      "metadata": {
        "colab": {
          "base_uri": "https://localhost:8080/"
        },
        "id": "eWWhhwTxEmyu",
        "outputId": "a9836900-63a2-40f9-c6b9-68c0889d2a58"
      },
      "source": [
        "# get the confusion matrix\n",
        "cf_matrix = confusion_matrix(y_test, y_pred_lr)\n",
        "print(cf_matrix)"
      ],
      "execution_count": 8,
      "outputs": [
        {
          "output_type": "stream",
          "name": "stdout",
          "text": [
            "[[1048  327]\n",
            " [ 623  581]]\n"
          ]
        }
      ]
    },
    {
      "cell_type": "code",
      "metadata": {
        "colab": {
          "base_uri": "https://localhost:8080/",
          "height": 285
        },
        "id": "Q_rH4L48EgVz",
        "outputId": "67e0fa00-02dd-4b9f-cb4a-b73f3c796c54"
      },
      "source": [
        "group_names = ['True Neg','False Pos','False Neg','True Pos']\n",
        "group_counts = [\"{0:0.0f}\".format(value) for value in\n",
        "                cf_matrix.flatten()]\n",
        "group_percentages = [\"{0:.2%}\".format(value) for value in\n",
        "                     cf_matrix.flatten()/np.sum(cf_matrix)]\n",
        "labels = [f\"{v1}\\n{v2}\\n{v3}\" for v1, v2, v3 in\n",
        "          zip(group_names,group_counts,group_percentages)]\n",
        "labels = np.asarray(labels).reshape(2,2)\n",
        "sns.set(rc={'figure.figsize':(8,4)})\n",
        "sns.heatmap(cf_matrix, annot=labels, fmt='', cmap='Reds')"
      ],
      "execution_count": 9,
      "outputs": [
        {
          "output_type": "execute_result",
          "data": {
            "text/plain": [
              "<matplotlib.axes._subplots.AxesSubplot at 0x7f37921e5ad0>"
            ]
          },
          "metadata": {},
          "execution_count": 9
        },
        {
          "output_type": "display_data",
          "data": {
            "image/png": "[encoded data removed]",
            "text/plain": [
              "<Figure size 576x288 with 2 Axes>"
            ]
          },
          "metadata": {}
        }
      ]
    },
    {
      "cell_type": "code",
      "metadata": {
        "colab": {
          "base_uri": "https://localhost:8080/",
          "height": 302
        },
        "id": "oBVL4nLIFA5Q",
        "outputId": "8d386e44-8917-4fb3-e546-aff3972fc8e8"
      },
      "source": [
        "# drawing\n",
        "lr_probs = clf_lr.predict_proba(X_test)\n",
        " \n",
        "# keep probabilities for the positive outcome only\n",
        "lr_probs = lr_probs[:, 1]\n",
        " \n",
        "# calculate scores  Area Under Cruve\n",
        "lr_auc = roc_auc_score(y_test,lr_probs)\n",
        " \n",
        "# summarize scores\n",
        "print('Logistic: ROC AUC=%.3f' % (lr_auc))\n",
        " \n",
        "# calculate roc curves\n",
        "fpr, tpr, thresholds = roc_curve(y_test,lr_probs)\n",
        " \n",
        "# plot the roc curve for the model\n",
        "plt.plot([0, 1], [0, 1], 'k--',label='Random Predictor')  # draw diag\n",
        "plt.plot(fpr, tpr, marker='.', color='darkorange',label='Logistic') # draw ROC\n",
        "# axis labels\n",
        "plt.xlabel('False Positive Rate')\n",
        "plt.ylabel('True Positive Rate')\n",
        "# show the legend\n",
        "plt.legend()\n",
        "# show the plot\n",
        "plt.show()\n"
      ],
      "execution_count": 10,
      "outputs": [
        {
          "output_type": "stream",
          "name": "stdout",
          "text": [
            "Logistic: ROC AUC=0.679\n"
          ]
        },
        {
          "output_type": "display_data",
          "data": {
            "image/png": "[encoded data removed]",
            "text/plain": [
              "<Figure size 576x288 with 1 Axes>"
            ]
          },
          "metadata": {}
        }
      ]
    },
    {
      "cell_type": "markdown",
      "metadata": {
        "id": "UEBFozhMXL3x"
      },
      "source": [
        "## Model 1 - Logistic Regression (hyperparameter tuning)"
      ]
    },
    {
      "cell_type": "code",
      "metadata": {
        "id": "KMgEeRrNXKEI"
      },
      "source": [
        "model1 = LogisticRegression()\n"
      ],
      "execution_count": 11,
      "outputs": []
    },
    {
      "cell_type": "code",
      "metadata": {
        "colab": {
          "base_uri": "https://localhost:8080/"
        },
        "id": "_MtYj_efYl_n",
        "outputId": "0ca2feb9-d5d2-485e-902e-afee5ceda6e1"
      },
      "source": [
        "# Create first pipeline for base without reducing features.\n",
        "# pipe = Pipeline([('classifier' , RandomForestClassifier())])\n",
        "# pipe = Pipeline([('classifier', RandomForestClassifier())])\n",
        "# Create param grid.\n",
        "\n",
        "param_grid = {\n",
        "    'C': [0.001, 0.01, 0.1, 1, 10, 100, 1000],\n",
        "    'penalty': ['l1', 'l2'],\n",
        "    'max_iter': list(range(100,800,100)),\n",
        "    'solver': ['newton-cg', 'lbfgs', 'liblinear', 'sag', 'saga']\n",
        "}\n",
        "\n",
        "clf_lr = GridSearchCV(model1, param_grid = param_grid, cv = 3, verbose=True, n_jobs=-1)\n",
        "\n",
        "# Fit on data\n",
        "\n",
        "clf_lr.fit(X_train, y_train)\n",
        "clf_lr.best_params_"
      ],
      "execution_count": 12,
      "outputs": [
        {
          "output_type": "stream",
          "name": "stdout",
          "text": [
            "Fitting 3 folds for each of 490 candidates, totalling 1470 fits\n"
          ]
        },
        {
          "output_type": "stream",
          "name": "stderr",
          "text": [
            "[Parallel(n_jobs=-1)]: Using backend LokyBackend with 2 concurrent workers.\n",
            "[Parallel(n_jobs=-1)]: Done 202 tasks      | elapsed:    3.6s\n",
            "[Parallel(n_jobs=-1)]: Done 866 tasks      | elapsed:   32.7s\n",
            "[Parallel(n_jobs=-1)]: Done 1366 tasks      | elapsed:  1.5min\n",
            "[Parallel(n_jobs=-1)]: Done 1470 out of 1470 | elapsed:  1.7min finished\n"
          ]
        },
        {
          "output_type": "execute_result",
          "data": {
            "text/plain": [
              "{'C': 1000, 'max_iter': 600, 'penalty': 'l2', 'solver': 'sag'}"
            ]
          },
          "metadata": {},
          "execution_count": 12
        }
      ]
    },
    {
      "cell_type": "code",
      "metadata": {
        "colab": {
          "base_uri": "https://localhost:8080/"
        },
        "id": "8GRR1ytQaMbr",
        "outputId": "b082d108-31c6-4573-e783-359f678d013a"
      },
      "source": [
        "print(clf_lr.score(X_test, y_test))"
      ],
      "execution_count": 13,
      "outputs": [
        {
          "output_type": "stream",
          "name": "stdout",
          "text": [
            "0.6405583559519193\n"
          ]
        }
      ]
    },
    {
      "cell_type": "code",
      "metadata": {
        "colab": {
          "base_uri": "https://localhost:8080/"
        },
        "id": "-g9KKpjpasdp",
        "outputId": "0e6c2eb4-86ba-49ca-a28e-9c9c91825dc2"
      },
      "source": [
        "clf_lr = LogisticRegression(C=1000, max_iter= 700, penalty='l2', solver= 'sag')\n",
        "clf_lr.fit(X_train, y_train)\n",
        "\n",
        "# Predict \n",
        "y_pred_lr = clf_lr.predict(X_test)\n",
        "# Accuracy\n",
        "print(\"accuracy: \", metrics.accuracy_score(y_test, y_pred_lr))"
      ],
      "execution_count": 14,
      "outputs": [
        {
          "output_type": "stream",
          "name": "stdout",
          "text": [
            "accuracy:  0.6405583559519193\n"
          ]
        }
      ]
    },
    {
      "cell_type": "code",
      "metadata": {
        "colab": {
          "base_uri": "https://localhost:8080/",
          "height": 320
        },
        "id": "b3Xam-U-bVSW",
        "outputId": "0884b4bc-f92e-4838-cc82-52f1e64248a4"
      },
      "source": [
        "# get the confusion matrix\n",
        "cf_matrix = confusion_matrix(y_test, y_pred_lr)\n",
        "print(cf_matrix)\n",
        "\n",
        "group_names = ['True Neg','False Pos','False Neg','True Pos']\n",
        "group_counts = [\"{0:0.0f}\".format(value) for value in\n",
        "                cf_matrix.flatten()]\n",
        "group_percentages = [\"{0:.2%}\".format(value) for value in\n",
        "                     cf_matrix.flatten()/np.sum(cf_matrix)]\n",
        "labels = [f\"{v1}\\n{v2}\\n{v3}\" for v1, v2, v3 in\n",
        "          zip(group_names,group_counts,group_percentages)]\n",
        "labels = np.asarray(labels).reshape(2,2)\n",
        "sns.set(rc={'figure.figsize':(8,4)})\n",
        "sns.heatmap(cf_matrix, annot=labels, fmt='', cmap='Reds')"
      ],
      "execution_count": 15,
      "outputs": [
        {
          "output_type": "stream",
          "name": "stdout",
          "text": [
            "[[1046  329]\n",
            " [ 598  606]]\n"
          ]
        },
        {
          "output_type": "execute_result",
          "data": {
            "text/plain": [
              "<matplotlib.axes._subplots.AxesSubplot at 0x7f372f8f5d90>"
            ]
          },
          "metadata": {},
          "execution_count": 15
        },
        {
          "output_type": "display_data",
          "data": {
            "image/png": "[encoded data removed]",
            "text/plain": [
              "<Figure size 576x288 with 2 Axes>"
            ]
          },
          "metadata": {}
        }
      ]
    },
    {
      "cell_type": "code",
      "metadata": {
        "colab": {
          "base_uri": "https://localhost:8080/",
          "height": 350
        },
        "id": "gEhd76wEAII_",
        "outputId": "29bb548d-8ff1-4409-d738-bd1aaf08a4c3"
      },
      "source": [
        "importances = pd.DataFrame(data={\n",
        "    'Attribute': X_train.columns,\n",
        "    'Importance': clf_lr.coef_[0]\n",
        "})\n",
        "importances = importances.sort_values(by='Importance', ascending=False)\n",
        "\n",
        "plt.bar(x=importances['Attribute'], height=importances['Importance'], color='#FF007F')\n",
        "plt.title('Feature Importance from Coefficient', size=20)\n",
        "sns.set(rc={'figure.figsize':(8,4)})\n",
        "plt.xticks(rotation='vertical')\n",
        "plt.show()"
      ],
      "execution_count": 16,
      "outputs": [
        {
          "output_type": "display_data",
          "data": {
            "image/png": "[encoded data removed]",
            "text/plain": [
              "<Figure size 576x288 with 1 Axes>"
            ]
          },
          "metadata": {}
        }
      ]
    },
    {
      "cell_type": "markdown",
      "metadata": {
        "id": "CP0uvVDIFN31"
      },
      "source": [
        "## Model 2 - Decision Tree "
      ]
    },
    {
      "cell_type": "code",
      "metadata": {
        "colab": {
          "base_uri": "https://localhost:8080/"
        },
        "id": "oEEKTIpdFJVV",
        "outputId": "e4fe3707-cb7f-44ea-91df-70363b21c4b5"
      },
      "source": [
        "clf_dt = tree.DecisionTreeClassifier(max_depth =4)\n",
        "\n",
        "# cv\n",
        "scores = cross_val_score(clf_dt, X_train, y_train, scoring='r2', cv=5)\n",
        "print(scores)\n",
        "\n",
        "# make cross validated predictions\n",
        "y_pred = cross_val_predict(clf_dt, X_train, y_train, cv=5)\n",
        "\n",
        "print(r2_score(y_train, y_pred))\n",
        "print(\"%0.4f accuracy with a standard deviation of %0.2f\" % (scores.mean(), scores.std()))\n"
      ],
      "execution_count": 17,
      "outputs": [
        {
          "output_type": "stream",
          "name": "stdout",
          "text": [
            "[-0.47816199 -0.51711224 -0.34767866 -0.54242991 -0.44371972]\n",
            "-0.46582233303251397\n",
            "-0.4658 accuracy with a standard deviation of 0.07\n"
          ]
        }
      ]
    },
    {
      "cell_type": "code",
      "metadata": {
        "colab": {
          "base_uri": "https://localhost:8080/"
        },
        "id": "yDJcARzQNSCd",
        "outputId": "1f7eceee-95d3-473f-fc0f-b1beea75ab83"
      },
      "source": [
        "clf_dt.fit(X_train, y_train)\n",
        "# Predict \n",
        "y_pred_dt = clf_dt.predict(X_test)\n",
        "# Accuracy\n",
        "print(\"accuracy: \", metrics.accuracy_score(y_test, y_pred_dt))"
      ],
      "execution_count": 18,
      "outputs": [
        {
          "output_type": "stream",
          "name": "stdout",
          "text": [
            "accuracy:  0.6335789065529275\n"
          ]
        }
      ]
    },
    {
      "cell_type": "code",
      "metadata": {
        "colab": {
          "base_uri": "https://localhost:8080/"
        },
        "id": "EwZ14WIGFeiE",
        "outputId": "7abdbe90-2c41-4eea-941a-9be9fd3bf9a8"
      },
      "source": [
        "print(metrics.classification_report(y_true=y_test, y_pred=y_pred_dt))"
      ],
      "execution_count": 19,
      "outputs": [
        {
          "output_type": "stream",
          "name": "stdout",
          "text": [
            "              precision    recall  f1-score   support\n",
            "\n",
            "         0.0       0.64      0.70      0.67      1375\n",
            "         1.0       0.62      0.55      0.58      1204\n",
            "\n",
            "    accuracy                           0.63      2579\n",
            "   macro avg       0.63      0.63      0.63      2579\n",
            "weighted avg       0.63      0.63      0.63      2579\n",
            "\n"
          ]
        }
      ]
    },
    {
      "cell_type": "code",
      "metadata": {
        "colab": {
          "base_uri": "https://localhost:8080/"
        },
        "id": "e6B7nmypFeeQ",
        "outputId": "f6f7202c-f4df-4f40-9778-b39762eb7edb"
      },
      "source": [
        "# get the confusion matrix\n",
        "cf_matrix = confusion_matrix(y_test, y_pred_dt)\n",
        "print(cf_matrix)"
      ],
      "execution_count": 20,
      "outputs": [
        {
          "output_type": "stream",
          "name": "stdout",
          "text": [
            "[[968 407]\n",
            " [538 666]]\n"
          ]
        }
      ]
    },
    {
      "cell_type": "code",
      "metadata": {
        "colab": {
          "base_uri": "https://localhost:8080/",
          "height": 285
        },
        "id": "4l2mG87oFebs",
        "outputId": "67f229cf-13af-4fd0-b726-affed69c5bef"
      },
      "source": [
        "group_names = ['True Neg','False Pos','False Neg','True Pos']\n",
        "group_counts = [\"{0:0.0f}\".format(value) for value in\n",
        "                cf_matrix.flatten()]\n",
        "group_percentages = [\"{0:.2%}\".format(value) for value in\n",
        "                     cf_matrix.flatten()/np.sum(cf_matrix)]\n",
        "labels = [f\"{v1}\\n{v2}\\n{v3}\" for v1, v2, v3 in\n",
        "          zip(group_names,group_counts,group_percentages)]\n",
        "labels = np.asarray(labels).reshape(2,2)\n",
        "sns.set(rc={'figure.figsize':(8,4)})\n",
        "sns.heatmap(cf_matrix, annot=labels, fmt='', cmap='Reds')"
      ],
      "execution_count": 21,
      "outputs": [
        {
          "output_type": "execute_result",
          "data": {
            "text/plain": [
              "<matplotlib.axes._subplots.AxesSubplot at 0x7f372f03c850>"
            ]
          },
          "metadata": {},
          "execution_count": 21
        },
        {
          "output_type": "display_data",
          "data": {
            "image/png": "[encoded data removed]",
            "text/plain": [
              "<Figure size 576x288 with 2 Axes>"
            ]
          },
          "metadata": {}
        }
      ]
    },
    {
      "cell_type": "markdown",
      "metadata": {
        "id": "d_mYX9rwPYZF"
      },
      "source": [
        "## Model 2 - Decision Tree (Hyperparameter Tuning)"
      ]
    },
    {
      "cell_type": "code",
      "metadata": {
        "id": "uxbNvWDzT551"
      },
      "source": [
        "model2 = DecisionTreeClassifier()"
      ],
      "execution_count": 22,
      "outputs": []
    },
    {
      "cell_type": "code",
      "metadata": {
        "id": "aSMkiXzCU9H6"
      },
      "source": [
        "parameters = {'splitter' : ['best', 'random'],\n",
        "'criterion' : ['gini', 'entropy'],\n",
        "'max_depth': [2, 4, 6, 8, 10],\n",
        "'min_samples_split': [2, 4, 6, 8, 10],\n",
        "}"
      ],
      "execution_count": 23,
      "outputs": []
    },
    {
      "cell_type": "code",
      "metadata": {
        "id": "v-Om_yugVL-M"
      },
      "source": [
        "grid_search_dt = GridSearchCV(estimator = model2,\n",
        "param_grid = parameters,\n",
        "scoring = 'accuracy',\n",
        "cv = 3,\n",
        "verbose = 1)"
      ],
      "execution_count": 24,
      "outputs": []
    },
    {
      "cell_type": "code",
      "metadata": {
        "colab": {
          "base_uri": "https://localhost:8080/"
        },
        "id": "t_ic8dSQVsTV",
        "outputId": "8a0eefaf-945d-488f-aecd-2b55d08e19ba"
      },
      "source": [
        "grid_search_dt.fit(X_train, y_train)"
      ],
      "execution_count": 25,
      "outputs": [
        {
          "output_type": "stream",
          "name": "stdout",
          "text": [
            "Fitting 3 folds for each of 100 candidates, totalling 300 fits\n"
          ]
        },
        {
          "output_type": "stream",
          "name": "stderr",
          "text": [
            "[Parallel(n_jobs=1)]: Using backend SequentialBackend with 1 concurrent workers.\n",
            "[Parallel(n_jobs=1)]: Done 300 out of 300 | elapsed:    4.2s finished\n"
          ]
        },
        {
          "output_type": "execute_result",
          "data": {
            "text/plain": [
              "GridSearchCV(cv=3, error_score=nan,\n",
              "             estimator=DecisionTreeClassifier(ccp_alpha=0.0, class_weight=None,\n",
              "                                              criterion='gini', max_depth=None,\n",
              "                                              max_features=None,\n",
              "                                              max_leaf_nodes=None,\n",
              "                                              min_impurity_decrease=0.0,\n",
              "                                              min_impurity_split=None,\n",
              "                                              min_samples_leaf=1,\n",
              "                                              min_samples_split=2,\n",
              "                                              min_weight_fraction_leaf=0.0,\n",
              "                                              presort='deprecated',\n",
              "                                              random_state=None,\n",
              "                                              splitter='best'),\n",
              "             iid='deprecated', n_jobs=None,\n",
              "             param_grid={'criterion': ['gini', 'entropy'],\n",
              "                         'max_depth': [2, 4, 6, 8, 10],\n",
              "                         'min_samples_split': [2, 4, 6, 8, 10],\n",
              "                         'splitter': ['best', 'random']},\n",
              "             pre_dispatch='2*n_jobs', refit=True, return_train_score=False,\n",
              "             scoring='accuracy', verbose=1)"
            ]
          },
          "metadata": {},
          "execution_count": 25
        }
      ]
    },
    {
      "cell_type": "code",
      "metadata": {
        "colab": {
          "base_uri": "https://localhost:8080/"
        },
        "id": "eS7pg1K6V0l0",
        "outputId": "e1deef22-733c-45d2-f7f2-5fe9b6d5bb8c"
      },
      "source": [
        "print(grid_search_dt.best_estimator_)"
      ],
      "execution_count": 26,
      "outputs": [
        {
          "output_type": "stream",
          "name": "stdout",
          "text": [
            "DecisionTreeClassifier(ccp_alpha=0.0, class_weight=None, criterion='gini',\n",
            "                       max_depth=4, max_features=None, max_leaf_nodes=None,\n",
            "                       min_impurity_decrease=0.0, min_impurity_split=None,\n",
            "                       min_samples_leaf=1, min_samples_split=2,\n",
            "                       min_weight_fraction_leaf=0.0, presort='deprecated',\n",
            "                       random_state=None, splitter='best')\n"
          ]
        }
      ]
    },
    {
      "cell_type": "code",
      "metadata": {
        "colab": {
          "base_uri": "https://localhost:8080/"
        },
        "id": "bwaj2ikoV2AW",
        "outputId": "c96ed5b2-51da-4b05-8f0f-480e8db92e32"
      },
      "source": [
        "print(grid_search_dt.score(X_test, y_test))"
      ],
      "execution_count": 27,
      "outputs": [
        {
          "output_type": "stream",
          "name": "stdout",
          "text": [
            "0.6335789065529275\n"
          ]
        }
      ]
    },
    {
      "cell_type": "code",
      "metadata": {
        "colab": {
          "base_uri": "https://localhost:8080/"
        },
        "id": "l7LPt59NV-ef",
        "outputId": "22896f02-c910-4b24-9d11-93f8054f146a"
      },
      "source": [
        "clf_dt = grid_search_dt.best_estimator_\n",
        "\n",
        "clf_dt.fit(X_train, y_train)\n",
        "# Predict \n",
        "y_pred_dt = clf_dt.predict(X_test)\n",
        "# Accuracy\n",
        "print(\"accuracy: \", metrics.accuracy_score(y_test, y_pred_dt))"
      ],
      "execution_count": 28,
      "outputs": [
        {
          "output_type": "stream",
          "name": "stdout",
          "text": [
            "accuracy:  0.6335789065529275\n"
          ]
        }
      ]
    },
    {
      "cell_type": "code",
      "metadata": {
        "colab": {
          "base_uri": "https://localhost:8080/",
          "height": 285
        },
        "id": "e8BP3H4lWllQ",
        "outputId": "124be044-1d6e-4586-8d84-6b9bf9a040cc"
      },
      "source": [
        "cf_matrix = confusion_matrix(y_test, y_pred_dt)\n",
        "group_names = ['True Neg','False Pos','False Neg','True Pos']\n",
        "group_counts = [\"{0:0.0f}\".format(value) for value in\n",
        "                cf_matrix.flatten()]\n",
        "group_percentages = [\"{0:.2%}\".format(value) for value in\n",
        "                     cf_matrix.flatten()/np.sum(cf_matrix)]\n",
        "labels = [f\"{v1}\\n{v2}\\n{v3}\" for v1, v2, v3 in\n",
        "          zip(group_names,group_counts,group_percentages)]\n",
        "labels = np.asarray(labels).reshape(2,2)\n",
        "sns.set(rc={'figure.figsize':(8,4)})\n",
        "sns.heatmap(cf_matrix, annot=labels, fmt='', cmap='Reds')"
      ],
      "execution_count": 29,
      "outputs": [
        {
          "output_type": "execute_result",
          "data": {
            "text/plain": [
              "<matplotlib.axes._subplots.AxesSubplot at 0x7f372ef94390>"
            ]
          },
          "metadata": {},
          "execution_count": 29
        },
        {
          "output_type": "display_data",
          "data": {
            "image/png": "[encoded data removed]",
            "text/plain": [
              "<Figure size 576x288 with 2 Axes>"
            ]
          },
          "metadata": {}
        }
      ]
    },
    {
      "cell_type": "code",
      "metadata": {
        "colab": {
          "base_uri": "https://localhost:8080/",
          "height": 350
        },
        "id": "DIUzSrmhBKJe",
        "outputId": "9f3b6dae-1529-4a7f-9497-68f7fb280c66"
      },
      "source": [
        "# feature importance \n",
        "feat_importance = clf_dt.tree_.compute_feature_importances(normalize=False)\n",
        "feat_importance\n",
        "\n",
        "importances = pd.DataFrame(data={\n",
        "    'Attribute': X_train.columns,\n",
        "    'Importance': feat_importance\n",
        "})\n",
        "importances = importances.sort_values(by='Importance', ascending=False)\n",
        "\n",
        "plt.bar(x=importances['Attribute'], height=importances['Importance'], color='#FF007F')\n",
        "plt.title('Feature Importance from Coefficient', size=20)\n",
        "plt.xticks(rotation='vertical')\n",
        "sns.set(rc={'figure.figsize':(8,4)})\n",
        "plt.show()"
      ],
      "execution_count": 30,
      "outputs": [
        {
          "output_type": "display_data",
          "data": {
            "image/png": "[encoded data removed]",
            "text/plain": [
              "<Figure size 576x288 with 1 Axes>"
            ]
          },
          "metadata": {}
        }
      ]
    },
    {
      "cell_type": "markdown",
      "metadata": {
        "id": "usFRnfB0FwTM"
      },
      "source": [
        "## Model 3 - LightGBM"
      ]
    },
    {
      "cell_type": "code",
      "metadata": {
        "colab": {
          "base_uri": "https://localhost:8080/"
        },
        "id": "Ozt_TRyJFqIM",
        "outputId": "bc1203ad-12ff-4e54-f38e-ca5e4cc61986"
      },
      "source": [
        "lgb_clf = LGBMClassifier(n_estimators = 1000, \n",
        "                         learning_rate = 0.01)\n",
        "\n",
        "# cv\n",
        "scores = cross_val_score(lgb_clf, X_train, y_train, scoring='r2', cv=5)\n",
        "print(scores)\n",
        "\n",
        "# make cross validated predictions\n",
        "y_pred = cross_val_predict(lgb_clf, X_train, y_train, cv=5)\n",
        "\n",
        "print(r2_score(y_train, y_pred))\n",
        "print(\"%0.4f accuracy with a standard deviation of %0.2f\" % (scores.mean(), scores.std()))\n"
      ],
      "execution_count": 31,
      "outputs": [
        {
          "output_type": "stream",
          "name": "stdout",
          "text": [
            "[-0.44310677 -0.49958463 -0.39636647 -0.55801001 -0.48463486]\n",
            "-0.47633979330141574\n",
            "-0.4763 accuracy with a standard deviation of 0.05\n"
          ]
        }
      ]
    },
    {
      "cell_type": "code",
      "metadata": {
        "id": "O86_hBZiNoh1",
        "colab": {
          "base_uri": "https://localhost:8080/"
        },
        "outputId": "c69d4293-1b2f-4364-af6b-f7fe2406b675"
      },
      "source": [
        "lgb_clf.fit(X_train, y_train)\n",
        "\n",
        "# Predict \n",
        "y_pred_lgb = lgb_clf.predict(X_test)\n",
        "\n",
        "# Accuracy\n",
        "print(\"accuracy: \", metrics.accuracy_score(y_test, y_pred_lgb))"
      ],
      "execution_count": 32,
      "outputs": [
        {
          "output_type": "stream",
          "name": "stdout",
          "text": [
            "accuracy:  0.6452113222179139\n"
          ]
        }
      ]
    },
    {
      "cell_type": "code",
      "metadata": {
        "colab": {
          "base_uri": "https://localhost:8080/"
        },
        "id": "rRfeY9f4GTTZ",
        "outputId": "d10f9469-68e6-45a3-f9c7-417e80ee9f54"
      },
      "source": [
        "print(metrics.classification_report(y_true=y_test, y_pred=y_pred_lgb))"
      ],
      "execution_count": 33,
      "outputs": [
        {
          "output_type": "stream",
          "name": "stdout",
          "text": [
            "              precision    recall  f1-score   support\n",
            "\n",
            "         0.0       0.65      0.71      0.68      1375\n",
            "         1.0       0.63      0.57      0.60      1204\n",
            "\n",
            "    accuracy                           0.65      2579\n",
            "   macro avg       0.64      0.64      0.64      2579\n",
            "weighted avg       0.64      0.65      0.64      2579\n",
            "\n"
          ]
        }
      ]
    },
    {
      "cell_type": "code",
      "metadata": {
        "colab": {
          "base_uri": "https://localhost:8080/"
        },
        "id": "NyleUCnUGYOG",
        "outputId": "b8285e94-9e01-438f-c1a7-f6cd22c5e22a"
      },
      "source": [
        "# get the confusion matrix\n",
        "cf_matrix = confusion_matrix(y_test, y_pred_lgb)\n",
        "print(cf_matrix)"
      ],
      "execution_count": 34,
      "outputs": [
        {
          "output_type": "stream",
          "name": "stdout",
          "text": [
            "[[978 397]\n",
            " [518 686]]\n"
          ]
        }
      ]
    },
    {
      "cell_type": "code",
      "metadata": {
        "colab": {
          "base_uri": "https://localhost:8080/",
          "height": 302
        },
        "id": "_61HSszgGcYt",
        "outputId": "528ec438-1efe-41ad-e35d-d36e8dc05ca4"
      },
      "source": [
        "group_names = ['True Neg','False Pos','False Neg','True Pos']\n",
        "group_counts = [\"{0:0.0f}\".format(value) for value in\n",
        "                cf_matrix.flatten()]\n",
        "group_percentages = [\"{0:.2%}\".format(value) for value in\n",
        "                     cf_matrix.flatten()/np.sum(cf_matrix)]\n",
        "labels = [f\"{v1}\\n{v2}\\n{v3}\" for v1, v2, v3 in\n",
        "          zip(group_names,group_counts,group_percentages)]\n",
        "labels = np.asarray(labels).reshape(2,2)\n",
        "plt.figure()\n",
        "plt.figure(figsize=(8,4))\n",
        "sns.heatmap(cf_matrix, annot=labels, fmt='', cmap='Reds')"
      ],
      "execution_count": 35,
      "outputs": [
        {
          "output_type": "execute_result",
          "data": {
            "text/plain": [
              "<matplotlib.axes._subplots.AxesSubplot at 0x7f372ee84790>"
            ]
          },
          "metadata": {},
          "execution_count": 35
        },
        {
          "output_type": "display_data",
          "data": {
            "text/plain": [
              "<Figure size 576x288 with 0 Axes>"
            ]
          },
          "metadata": {}
        },
        {
          "output_type": "display_data",
          "data": {
            "image/png": "[encoded data removed]",
            "text/plain": [
              "<Figure size 576x288 with 2 Axes>"
            ]
          },
          "metadata": {}
        }
      ]
    },
    {
      "cell_type": "markdown",
      "metadata": {
        "id": "83gCy1QcMisu"
      },
      "source": [
        "## Model 3 - LightGBM (hyperparameter tuning)"
      ]
    },
    {
      "cell_type": "code",
      "metadata": {
        "colab": {
          "base_uri": "https://localhost:8080/"
        },
        "id": "poudfPLaMiNo",
        "outputId": "c35834bd-0fc2-4a73-ae20-28cc3de9fc41"
      },
      "source": [
        "# Grid search\n",
        "lgb_clf = LGBMClassifier()\n",
        "\n",
        "lgb_param_grid = {'learning_rate': np.arange(0.01, 0.10, 0.01),\n",
        "                  'n_estimators': np.arange(200, 1000, 200),\n",
        "                  'max_depth': [4,6,8,10]\n",
        "                  }\n",
        "\n",
        "random_lgb = RandomizedSearchCV(estimator=lgb_clf, \n",
        "                                    param_distributions=lgb_param_grid,\n",
        "                                    n_iter=100, \n",
        "                                    scoring='accuracy', \n",
        "                                    cv=3, \n",
        "                                    verbose=1,\n",
        "                                    n_jobs=-1\n",
        "                                    )\n",
        "random_lgb.fit(X_train, y_train)\n",
        "print(\"Best parameters found: \",random_lgb.best_params_)"
      ],
      "execution_count": 36,
      "outputs": [
        {
          "output_type": "stream",
          "name": "stdout",
          "text": [
            "Fitting 3 folds for each of 100 candidates, totalling 300 fits\n"
          ]
        },
        {
          "output_type": "stream",
          "name": "stderr",
          "text": [
            "[Parallel(n_jobs=-1)]: Using backend LokyBackend with 2 concurrent workers.\n",
            "[Parallel(n_jobs=-1)]: Done  46 tasks      | elapsed:   27.0s\n",
            "[Parallel(n_jobs=-1)]: Done 196 tasks      | elapsed:  1.8min\n",
            "[Parallel(n_jobs=-1)]: Done 300 out of 300 | elapsed:  2.8min finished\n"
          ]
        },
        {
          "output_type": "stream",
          "name": "stdout",
          "text": [
            "Best parameters found:  {'n_estimators': 200, 'max_depth': 4, 'learning_rate': 0.02}\n"
          ]
        }
      ]
    },
    {
      "cell_type": "code",
      "metadata": {
        "colab": {
          "base_uri": "https://localhost:8080/"
        },
        "id": "Sx10HuMPMiJw",
        "outputId": "73d916a8-f5ba-4887-9776-e1e174e4e8e0"
      },
      "source": [
        "# Use the best parameter to caculate roc_auc\n",
        "lgb_clf = LGBMClassifier(n_estimators = 200,  max_depth=4,learning_rate = 0.02)\n",
        "lgb_clf.fit(X_train, y_train)\n",
        "\n",
        "# Predict \n",
        "y_pred_lgb = lgb_clf.predict(X_test)\n",
        "\n",
        "# Plot roc\n",
        "print(metrics.classification_report(y_true=y_test, y_pred=y_pred_lgb))"
      ],
      "execution_count": 37,
      "outputs": [
        {
          "output_type": "stream",
          "name": "stdout",
          "text": [
            "              precision    recall  f1-score   support\n",
            "\n",
            "         0.0       0.66      0.72      0.69      1375\n",
            "         1.0       0.64      0.58      0.61      1204\n",
            "\n",
            "    accuracy                           0.65      2579\n",
            "   macro avg       0.65      0.65      0.65      2579\n",
            "weighted avg       0.65      0.65      0.65      2579\n",
            "\n"
          ]
        }
      ]
    },
    {
      "cell_type": "code",
      "metadata": {
        "colab": {
          "base_uri": "https://localhost:8080/",
          "height": 302
        },
        "id": "kt8LCj9fcYR0",
        "outputId": "d5043b0c-8a3b-4a85-e40e-feae18432754"
      },
      "source": [
        "#Get the confusion matrix\n",
        "cf_matrix = confusion_matrix(y_test, y_pred_lgb)\n",
        "group_names = ['True Neg','False Pos','False Neg','True Pos']\n",
        "group_counts = [\"{0:0.0f}\".format(value) for value in\n",
        "                cf_matrix.flatten()]\n",
        "group_percentages = [\"{0:.2%}\".format(value) for value in\n",
        "                     cf_matrix.flatten()/np.sum(cf_matrix)]\n",
        "labels = [f\"{v1}\\n{v2}\\n{v3}\" for v1, v2, v3 in\n",
        "          zip(group_names,group_counts,group_percentages)]\n",
        "labels = np.asarray(labels).reshape(2,2)\n",
        "plt.figure()\n",
        "plt.figure(figsize=(8,4))\n",
        "sns.heatmap(cf_matrix, annot=labels, fmt='', cmap='Reds')"
      ],
      "execution_count": 38,
      "outputs": [
        {
          "output_type": "execute_result",
          "data": {
            "text/plain": [
              "<matplotlib.axes._subplots.AxesSubplot at 0x7f372e6018d0>"
            ]
          },
          "metadata": {},
          "execution_count": 38
        },
        {
          "output_type": "display_data",
          "data": {
            "text/plain": [
              "<Figure size 576x288 with 0 Axes>"
            ]
          },
          "metadata": {}
        },
        {
          "output_type": "display_data",
          "data": {
            "image/png": "[encoded data removed]",
            "text/plain": [
              "<Figure size 576x288 with 2 Axes>"
            ]
          },
          "metadata": {}
        }
      ]
    },
    {
      "cell_type": "code",
      "metadata": {
        "colab": {
          "base_uri": "https://localhost:8080/",
          "height": 318
        },
        "id": "vSXEwIpGBg1D",
        "outputId": "ebba0cae-7dc3-4f57-aba8-9820b12445a9"
      },
      "source": [
        "sns.set(rc={'figure.figsize':(8,4)})\n",
        "plot_importance(lgb_clf, color='r')"
      ],
      "execution_count": 39,
      "outputs": [
        {
          "output_type": "execute_result",
          "data": {
            "text/plain": [
              "<matplotlib.axes._subplots.AxesSubplot at 0x7f372e660590>"
            ]
          },
          "metadata": {},
          "execution_count": 39
        },
        {
          "output_type": "display_data",
          "data": {
            "image/png": "[encoded data removed]",
            "text/plain": [
              "<Figure size 576x288 with 1 Axes>"
            ]
          },
          "metadata": {}
        }
      ]
    },
    {
      "cell_type": "markdown",
      "metadata": {
        "id": "9sZmD0TBHNpe"
      },
      "source": [
        "## Model 4 - ANN"
      ]
    },
    {
      "cell_type": "code",
      "metadata": {
        "id": "jWnQv4hNGpmD"
      },
      "source": [
        "# set the model\n",
        "model1 = tf.keras.models.Sequential()\n",
        "model1.add(tf.keras.layers.Dense(units=50, activation='relu', input_shape=(8, )))\n",
        "# model.add(tf.keras.layers.Dense(units=50, activation='relu'))\n",
        "model1.add(tf.keras.layers.Dense(units=1, activation='sigmoid'))"
      ],
      "execution_count": 41,
      "outputs": []
    },
    {
      "cell_type": "code",
      "metadata": {
        "colab": {
          "base_uri": "https://localhost:8080/"
        },
        "id": "CEVnYFvQHVW-",
        "outputId": "adb07eb9-d7e2-401d-cd7a-f747ed8739ee"
      },
      "source": [
        "model1.summary()"
      ],
      "execution_count": 42,
      "outputs": [
        {
          "output_type": "stream",
          "name": "stdout",
          "text": [
            "Model: \"sequential_1\"\n",
            "_________________________________________________________________\n",
            "Layer (type)                 Output Shape              Param #   \n",
            "=================================================================\n",
            "dense_2 (Dense)              (None, 50)                450       \n",
            "_________________________________________________________________\n",
            "dense_3 (Dense)              (None, 1)                 51        \n",
            "=================================================================\n",
            "Total params: 501\n",
            "Trainable params: 501\n",
            "Non-trainable params: 0\n",
            "_________________________________________________________________\n"
          ]
        }
      ]
    },
    {
      "cell_type": "code",
      "metadata": {
        "id": "5KjgWK-SHV1A"
      },
      "source": [
        "model1.compile(optimizer='Adam', loss='binary_crossentropy', metrics = ['accuracy'])"
      ],
      "execution_count": 43,
      "outputs": []
    },
    {
      "cell_type": "code",
      "metadata": {
        "colab": {
          "base_uri": "https://localhost:8080/"
        },
        "id": "jeD1HxT6HYqW",
        "outputId": "a3c23f66-dced-4ac7-de4d-05856c24861e"
      },
      "source": [
        "X_train = np.array(X_train).reshape(-1,8)\n",
        "X_train.shape"
      ],
      "execution_count": 44,
      "outputs": [
        {
          "output_type": "execute_result",
          "data": {
            "text/plain": [
              "(10314, 8)"
            ]
          },
          "metadata": {},
          "execution_count": 44
        }
      ]
    },
    {
      "cell_type": "code",
      "metadata": {
        "colab": {
          "base_uri": "https://localhost:8080/"
        },
        "id": "tOnZN9y6HaaK",
        "outputId": "4387ae97-4d07-4dac-b465-ffe8a41480ee"
      },
      "source": [
        "# train the model\n",
        "epochs_hist = model1.fit(X_train, y_train, epochs = 100, batch_size=50)"
      ],
      "execution_count": 45,
      "outputs": [
        {
          "output_type": "stream",
          "name": "stdout",
          "text": [
            "Epoch 1/100\n",
            "207/207 [==============================] - 1s 1ms/step - loss: 0.6732 - accuracy: 0.5858\n",
            "Epoch 2/100\n",
            "207/207 [==============================] - 0s 1ms/step - loss: 0.6567 - accuracy: 0.6100\n",
            "Epoch 3/100\n",
            "207/207 [==============================] - 0s 1ms/step - loss: 0.6528 - accuracy: 0.6146\n",
            "Epoch 4/100\n",
            "207/207 [==============================] - 0s 1ms/step - loss: 0.6508 - accuracy: 0.6185\n",
            "Epoch 5/100\n",
            "207/207 [==============================] - 0s 1ms/step - loss: 0.6491 - accuracy: 0.6185\n",
            "Epoch 6/100\n",
            "207/207 [==============================] - 0s 1ms/step - loss: 0.6483 - accuracy: 0.6227\n",
            "Epoch 7/100\n",
            "207/207 [==============================] - 0s 1ms/step - loss: 0.6475 - accuracy: 0.6228\n",
            "Epoch 8/100\n",
            "207/207 [==============================] - 0s 1ms/step - loss: 0.6475 - accuracy: 0.6211\n",
            "Epoch 9/100\n",
            "207/207 [==============================] - 0s 1ms/step - loss: 0.6470 - accuracy: 0.6224\n",
            "Epoch 10/100\n",
            "207/207 [==============================] - 0s 1ms/step - loss: 0.6461 - accuracy: 0.6233\n",
            "Epoch 11/100\n",
            "207/207 [==============================] - 0s 1ms/step - loss: 0.6462 - accuracy: 0.6236\n",
            "Epoch 12/100\n",
            "207/207 [==============================] - 0s 1ms/step - loss: 0.6458 - accuracy: 0.6241\n",
            "Epoch 13/100\n",
            "207/207 [==============================] - 0s 1ms/step - loss: 0.6457 - accuracy: 0.6244\n",
            "Epoch 14/100\n",
            "207/207 [==============================] - 0s 1ms/step - loss: 0.6458 - accuracy: 0.6256\n",
            "Epoch 15/100\n",
            "207/207 [==============================] - 0s 1ms/step - loss: 0.6449 - accuracy: 0.6248\n",
            "Epoch 16/100\n",
            "207/207 [==============================] - 0s 1ms/step - loss: 0.6449 - accuracy: 0.6263\n",
            "Epoch 17/100\n",
            "207/207 [==============================] - 0s 1ms/step - loss: 0.6448 - accuracy: 0.6249\n",
            "Epoch 18/100\n",
            "207/207 [==============================] - 0s 1ms/step - loss: 0.6442 - accuracy: 0.6261\n",
            "Epoch 19/100\n",
            "207/207 [==============================] - 0s 1ms/step - loss: 0.6439 - accuracy: 0.6263\n",
            "Epoch 20/100\n",
            "207/207 [==============================] - 0s 1ms/step - loss: 0.6440 - accuracy: 0.6228\n",
            "Epoch 21/100\n",
            "207/207 [==============================] - 0s 1ms/step - loss: 0.6437 - accuracy: 0.6270\n",
            "Epoch 22/100\n",
            "207/207 [==============================] - 0s 1ms/step - loss: 0.6433 - accuracy: 0.6283\n",
            "Epoch 23/100\n",
            "207/207 [==============================] - 0s 1ms/step - loss: 0.6439 - accuracy: 0.6257\n",
            "Epoch 24/100\n",
            "207/207 [==============================] - 0s 1ms/step - loss: 0.6430 - accuracy: 0.6282\n",
            "Epoch 25/100\n",
            "207/207 [==============================] - 0s 1ms/step - loss: 0.6433 - accuracy: 0.6301\n",
            "Epoch 26/100\n",
            "207/207 [==============================] - 0s 1ms/step - loss: 0.6427 - accuracy: 0.6282\n",
            "Epoch 27/100\n",
            "207/207 [==============================] - 0s 1ms/step - loss: 0.6428 - accuracy: 0.6267\n",
            "Epoch 28/100\n",
            "207/207 [==============================] - 0s 1ms/step - loss: 0.6422 - accuracy: 0.6288\n",
            "Epoch 29/100\n",
            "207/207 [==============================] - 0s 1ms/step - loss: 0.6423 - accuracy: 0.6305\n",
            "Epoch 30/100\n",
            "207/207 [==============================] - 0s 1ms/step - loss: 0.6422 - accuracy: 0.6279\n",
            "Epoch 31/100\n",
            "207/207 [==============================] - 0s 1ms/step - loss: 0.6418 - accuracy: 0.6261\n",
            "Epoch 32/100\n",
            "207/207 [==============================] - 0s 1ms/step - loss: 0.6419 - accuracy: 0.6290\n",
            "Epoch 33/100\n",
            "207/207 [==============================] - 0s 1ms/step - loss: 0.6420 - accuracy: 0.6306\n",
            "Epoch 34/100\n",
            "207/207 [==============================] - 0s 1ms/step - loss: 0.6420 - accuracy: 0.6274\n",
            "Epoch 35/100\n",
            "207/207 [==============================] - 0s 1ms/step - loss: 0.6419 - accuracy: 0.6310\n",
            "Epoch 36/100\n",
            "207/207 [==============================] - 0s 1ms/step - loss: 0.6411 - accuracy: 0.6311\n",
            "Epoch 37/100\n",
            "207/207 [==============================] - 0s 1ms/step - loss: 0.6416 - accuracy: 0.6273\n",
            "Epoch 38/100\n",
            "207/207 [==============================] - 0s 1ms/step - loss: 0.6411 - accuracy: 0.6305\n",
            "Epoch 39/100\n",
            "207/207 [==============================] - 0s 1ms/step - loss: 0.6410 - accuracy: 0.6297\n",
            "Epoch 40/100\n",
            "207/207 [==============================] - 0s 1ms/step - loss: 0.6407 - accuracy: 0.6294\n",
            "Epoch 41/100\n",
            "207/207 [==============================] - 0s 1ms/step - loss: 0.6411 - accuracy: 0.6272\n",
            "Epoch 42/100\n",
            "207/207 [==============================] - 0s 1ms/step - loss: 0.6406 - accuracy: 0.6307\n",
            "Epoch 43/100\n",
            "207/207 [==============================] - 0s 1ms/step - loss: 0.6406 - accuracy: 0.6295\n",
            "Epoch 44/100\n",
            "207/207 [==============================] - 0s 1ms/step - loss: 0.6407 - accuracy: 0.6303\n",
            "Epoch 45/100\n",
            "207/207 [==============================] - 0s 1ms/step - loss: 0.6407 - accuracy: 0.6285\n",
            "Epoch 46/100\n",
            "207/207 [==============================] - 0s 1ms/step - loss: 0.6401 - accuracy: 0.6297\n",
            "Epoch 47/100\n",
            "207/207 [==============================] - 0s 1ms/step - loss: 0.6404 - accuracy: 0.6289\n",
            "Epoch 48/100\n",
            "207/207 [==============================] - 0s 1ms/step - loss: 0.6398 - accuracy: 0.6320\n",
            "Epoch 49/100\n",
            "207/207 [==============================] - 0s 1ms/step - loss: 0.6401 - accuracy: 0.6305\n",
            "Epoch 50/100\n",
            "207/207 [==============================] - 0s 1ms/step - loss: 0.6402 - accuracy: 0.6328\n",
            "Epoch 51/100\n",
            "207/207 [==============================] - 0s 1ms/step - loss: 0.6399 - accuracy: 0.6314\n",
            "Epoch 52/100\n",
            "207/207 [==============================] - 0s 1ms/step - loss: 0.6394 - accuracy: 0.6333\n",
            "Epoch 53/100\n",
            "207/207 [==============================] - 0s 1ms/step - loss: 0.6395 - accuracy: 0.6303\n",
            "Epoch 54/100\n",
            "207/207 [==============================] - 0s 1ms/step - loss: 0.6395 - accuracy: 0.6315\n",
            "Epoch 55/100\n",
            "207/207 [==============================] - 0s 1ms/step - loss: 0.6396 - accuracy: 0.6303\n",
            "Epoch 56/100\n",
            "207/207 [==============================] - 0s 1ms/step - loss: 0.6393 - accuracy: 0.6330\n",
            "Epoch 57/100\n",
            "207/207 [==============================] - 0s 1ms/step - loss: 0.6388 - accuracy: 0.6331\n",
            "Epoch 58/100\n",
            "207/207 [==============================] - 0s 1ms/step - loss: 0.6387 - accuracy: 0.6320\n",
            "Epoch 59/100\n",
            "207/207 [==============================] - 0s 1ms/step - loss: 0.6393 - accuracy: 0.6305\n",
            "Epoch 60/100\n",
            "207/207 [==============================] - 0s 1ms/step - loss: 0.6388 - accuracy: 0.6318\n",
            "Epoch 61/100\n",
            "207/207 [==============================] - 0s 1ms/step - loss: 0.6383 - accuracy: 0.6335\n",
            "Epoch 62/100\n",
            "207/207 [==============================] - 0s 1ms/step - loss: 0.6387 - accuracy: 0.6307\n",
            "Epoch 63/100\n",
            "207/207 [==============================] - 0s 1ms/step - loss: 0.6386 - accuracy: 0.6315\n",
            "Epoch 64/100\n",
            "207/207 [==============================] - 0s 1ms/step - loss: 0.6387 - accuracy: 0.6345\n",
            "Epoch 65/100\n",
            "207/207 [==============================] - 0s 1ms/step - loss: 0.6387 - accuracy: 0.6334\n",
            "Epoch 66/100\n",
            "207/207 [==============================] - 0s 1ms/step - loss: 0.6386 - accuracy: 0.6326\n",
            "Epoch 67/100\n",
            "207/207 [==============================] - 0s 1ms/step - loss: 0.6385 - accuracy: 0.6326\n",
            "Epoch 68/100\n",
            "207/207 [==============================] - 0s 1ms/step - loss: 0.6383 - accuracy: 0.6332\n",
            "Epoch 69/100\n",
            "207/207 [==============================] - 0s 1ms/step - loss: 0.6385 - accuracy: 0.6347\n",
            "Epoch 70/100\n",
            "207/207 [==============================] - 0s 1ms/step - loss: 0.6383 - accuracy: 0.6322\n",
            "Epoch 71/100\n",
            "207/207 [==============================] - 0s 1ms/step - loss: 0.6382 - accuracy: 0.6337\n",
            "Epoch 72/100\n",
            "207/207 [==============================] - 0s 1ms/step - loss: 0.6380 - accuracy: 0.6341\n",
            "Epoch 73/100\n",
            "207/207 [==============================] - 0s 1ms/step - loss: 0.6383 - accuracy: 0.6349\n",
            "Epoch 74/100\n",
            "207/207 [==============================] - 0s 1ms/step - loss: 0.6377 - accuracy: 0.6342\n",
            "Epoch 75/100\n",
            "207/207 [==============================] - 0s 1ms/step - loss: 0.6379 - accuracy: 0.6381\n",
            "Epoch 76/100\n",
            "207/207 [==============================] - 0s 1ms/step - loss: 0.6375 - accuracy: 0.6337\n",
            "Epoch 77/100\n",
            "207/207 [==============================] - 0s 1ms/step - loss: 0.6375 - accuracy: 0.6341\n",
            "Epoch 78/100\n",
            "207/207 [==============================] - 0s 1ms/step - loss: 0.6372 - accuracy: 0.6343\n",
            "Epoch 79/100\n",
            "207/207 [==============================] - 0s 1ms/step - loss: 0.6373 - accuracy: 0.6337\n",
            "Epoch 80/100\n",
            "207/207 [==============================] - 0s 1ms/step - loss: 0.6374 - accuracy: 0.6331\n",
            "Epoch 81/100\n",
            "207/207 [==============================] - 0s 1ms/step - loss: 0.6374 - accuracy: 0.6373\n",
            "Epoch 82/100\n",
            "207/207 [==============================] - 0s 1ms/step - loss: 0.6375 - accuracy: 0.6375\n",
            "Epoch 83/100\n",
            "207/207 [==============================] - 0s 1ms/step - loss: 0.6371 - accuracy: 0.6345\n",
            "Epoch 84/100\n",
            "207/207 [==============================] - 0s 1ms/step - loss: 0.6376 - accuracy: 0.6369\n",
            "Epoch 85/100\n",
            "207/207 [==============================] - 0s 1ms/step - loss: 0.6374 - accuracy: 0.6345\n",
            "Epoch 86/100\n",
            "207/207 [==============================] - 0s 1ms/step - loss: 0.6381 - accuracy: 0.6332\n",
            "Epoch 87/100\n",
            "207/207 [==============================] - 0s 1ms/step - loss: 0.6372 - accuracy: 0.6330\n",
            "Epoch 88/100\n",
            "207/207 [==============================] - 0s 1ms/step - loss: 0.6367 - accuracy: 0.6355\n",
            "Epoch 89/100\n",
            "207/207 [==============================] - 0s 1ms/step - loss: 0.6367 - accuracy: 0.6348\n",
            "Epoch 90/100\n",
            "207/207 [==============================] - 0s 1ms/step - loss: 0.6367 - accuracy: 0.6344\n",
            "Epoch 91/100\n",
            "207/207 [==============================] - 0s 1ms/step - loss: 0.6365 - accuracy: 0.6341\n",
            "Epoch 92/100\n",
            "207/207 [==============================] - 0s 1ms/step - loss: 0.6368 - accuracy: 0.6363\n",
            "Epoch 93/100\n",
            "207/207 [==============================] - 0s 1ms/step - loss: 0.6375 - accuracy: 0.6346\n",
            "Epoch 94/100\n",
            "207/207 [==============================] - 0s 1ms/step - loss: 0.6367 - accuracy: 0.6348\n",
            "Epoch 95/100\n",
            "207/207 [==============================] - 0s 1ms/step - loss: 0.6364 - accuracy: 0.6360\n",
            "Epoch 96/100\n",
            "207/207 [==============================] - 0s 1ms/step - loss: 0.6367 - accuracy: 0.6381\n",
            "Epoch 97/100\n",
            "207/207 [==============================] - 0s 1ms/step - loss: 0.6363 - accuracy: 0.6357\n",
            "Epoch 98/100\n",
            "207/207 [==============================] - 0s 1ms/step - loss: 0.6369 - accuracy: 0.6359\n",
            "Epoch 99/100\n",
            "207/207 [==============================] - 0s 1ms/step - loss: 0.6366 - accuracy: 0.6349\n",
            "Epoch 100/100\n",
            "207/207 [==============================] - 0s 1ms/step - loss: 0.6367 - accuracy: 0.6351\n"
          ]
        }
      ]
    },
    {
      "cell_type": "code",
      "metadata": {
        "colab": {
          "base_uri": "https://localhost:8080/"
        },
        "id": "N165kOuFHfhC",
        "outputId": "f221bd33-f3ae-43f3-a804-29704e4caa32"
      },
      "source": [
        "# Predict \n",
        "y_pred_ann = model1.predict(X_test)\n",
        "y_pred_ann"
      ],
      "execution_count": 46,
      "outputs": [
        {
          "output_type": "execute_result",
          "data": {
            "text/plain": [
              "array([[0.68093556],\n",
              "       [0.7021147 ],\n",
              "       [0.43524736],\n",
              "       ...,\n",
              "       [0.7574993 ],\n",
              "       [0.37687775],\n",
              "       [0.36664018]], dtype=float32)"
            ]
          },
          "metadata": {},
          "execution_count": 46
        }
      ]
    },
    {
      "cell_type": "code",
      "metadata": {
        "colab": {
          "base_uri": "https://localhost:8080/"
        },
        "id": "A8VAjOGqH75A",
        "outputId": "179ff80d-5431-4f2c-f94a-f87e68662564"
      },
      "source": [
        "y_test"
      ],
      "execution_count": 47,
      "outputs": [
        {
          "output_type": "execute_result",
          "data": {
            "text/plain": [
              "5728     1.0\n",
              "10553    1.0\n",
              "2700     1.0\n",
              "3952     0.0\n",
              "1201     0.0\n",
              "        ... \n",
              "11713    1.0\n",
              "277      1.0\n",
              "8739     1.0\n",
              "10071    0.0\n",
              "453      0.0\n",
              "Name: cur_brand, Length: 2579, dtype: float64"
            ]
          },
          "metadata": {},
          "execution_count": 47
        }
      ]
    },
    {
      "cell_type": "code",
      "metadata": {
        "id": "4NI-VwSUIBRd"
      },
      "source": [
        "y_pred_ann = (y_pred_ann > df1['cur_brand'].mean())"
      ],
      "execution_count": 48,
      "outputs": []
    },
    {
      "cell_type": "code",
      "metadata": {
        "colab": {
          "base_uri": "https://localhost:8080/",
          "height": 285
        },
        "id": "Sjc0DKkbILhy",
        "outputId": "c7e269df-a42d-4cfe-f32b-36ccb0be7a2d"
      },
      "source": [
        "# visualize the confusion matrix\n",
        "cm = confusion_matrix(y_test, y_pred_ann)\n",
        "sns.heatmap(cm, annot=True)"
      ],
      "execution_count": 49,
      "outputs": [
        {
          "output_type": "execute_result",
          "data": {
            "text/plain": [
              "<matplotlib.axes._subplots.AxesSubplot at 0x7f3729a11750>"
            ]
          },
          "metadata": {},
          "execution_count": 49
        },
        {
          "output_type": "display_data",
          "data": {
            "image/png": "[encoded data removed]",
            "text/plain": [
              "<Figure size 576x288 with 2 Axes>"
            ]
          },
          "metadata": {}
        }
      ]
    },
    {
      "cell_type": "code",
      "metadata": {
        "colab": {
          "base_uri": "https://localhost:8080/",
          "height": 302
        },
        "id": "rIC2QgnoIV9q",
        "outputId": "475dfac2-2f63-4069-ed6b-0e3ad77cfc98"
      },
      "source": [
        "cf_matrix = confusion_matrix(y_test, y_pred_ann)\n",
        "\n",
        "group_names = ['True Neg','False Pos','False Neg','True Pos']\n",
        "group_counts = [\"{0:0.0f}\".format(value) for value in\n",
        "                cf_matrix.flatten()]\n",
        "group_percentages = [\"{0:.2%}\".format(value) for value in\n",
        "                     cf_matrix.flatten()/np.sum(cf_matrix)]\n",
        "labels = [f\"{v1}\\n{v2}\\n{v3}\" for v1, v2, v3 in\n",
        "          zip(group_names,group_counts,group_percentages)]\n",
        "labels = np.asarray(labels).reshape(2,2)\n",
        "plt.figure()\n",
        "plt.figure(figsize=(8,4))\n",
        "sns.heatmap(cf_matrix, annot=labels, fmt='', cmap='Reds')"
      ],
      "execution_count": 50,
      "outputs": [
        {
          "output_type": "execute_result",
          "data": {
            "text/plain": [
              "<matplotlib.axes._subplots.AxesSubplot at 0x7f372631b850>"
            ]
          },
          "metadata": {},
          "execution_count": 50
        },
        {
          "output_type": "display_data",
          "data": {
            "text/plain": [
              "<Figure size 576x288 with 0 Axes>"
            ]
          },
          "metadata": {}
        },
        {
          "output_type": "display_data",
          "data": {
            "image/png": "[encoded data removed]",
            "text/plain": [
              "<Figure size 576x288 with 2 Axes>"
            ]
          },
          "metadata": {}
        }
      ]
    }
  ]
}
